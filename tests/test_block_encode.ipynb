{
 "cells": [
  {
   "cell_type": "code",
   "execution_count": 1,
   "metadata": {},
   "outputs": [],
   "source": [
    "import pennylane as qml\n",
    "from pennylane import numpy as np\n",
    "\n",
    "from qbmqsp.hamiltonian import Hamiltonian\n",
    "from qbmqsp.block_encode import BlockEncode"
   ]
  },
  {
   "cell_type": "code",
   "execution_count": 2,
   "metadata": {},
   "outputs": [],
   "source": [
    "def test_block_encoding(scheme):\n",
    "    h = [\"ZZII\", \"IZZI\", \"IIZZ\", \"ZIIZ\",\n",
    "         \"XIII\", \"IXII\", \"IIXI\", \"IIIX\",\n",
    "         \"YIII\", \"IYII\", \"IIYI\", \"IIIY\"]\n",
    "    n_params = len(h)\n",
    "    np.random.seed(seed=1)\n",
    "    θ = np.random.random(n_params) / n_params\n",
    "\n",
    "    block_encode = BlockEncode(h, θ, scheme)\n",
    "    n_enc = block_encode.n_qubits('enc')\n",
    "    n_sys = block_encode.n_qubits('sys')\n",
    "    wires = list(range(n_enc + n_sys))\n",
    "    enc_wires = wires[: n_enc]\n",
    "    sys_wires = wires[n_enc : n_enc+n_sys]\n",
    "    \n",
    "    dev = qml.device('default.qubit', wires=n_enc+n_sys)\n",
    "    @qml.qnode(dev)\n",
    "    def block_encoding():\n",
    "        block_encode.circuit(enc_wires, sys_wires)\n",
    "        return qml.state()\n",
    "    out = block_encoding().reshape(2**n_enc, 2**n_sys)[0, :] # = (<0| x I) block_encode |00>\n",
    "    \n",
    "    H = Hamiltonian(h, θ)\n",
    "    ideal = H.assemble()[:, 0] / H.θ_norm()\n",
    "\n",
    "    error = np.sum(np.abs(out - ideal))\n",
    "    return error"
   ]
  },
  {
   "cell_type": "code",
   "execution_count": 3,
   "metadata": {},
   "outputs": [
    {
     "data": {
      "text/plain": [
       "tensor(0., requires_grad=True)"
      ]
     },
     "execution_count": 3,
     "metadata": {},
     "output_type": "execute_result"
    }
   ],
   "source": [
    "test_block_encoding('general')"
   ]
  },
  {
   "cell_type": "code",
   "execution_count": 4,
   "metadata": {},
   "outputs": [
    {
     "data": {
      "text/plain": [
       "tensor(2.53798601e-16, requires_grad=True)"
      ]
     },
     "execution_count": 4,
     "metadata": {},
     "output_type": "execute_result"
    }
   ],
   "source": [
    "test_block_encoding('lcu')"
   ]
  },
  {
   "cell_type": "code",
   "execution_count": null,
   "metadata": {},
   "outputs": [],
   "source": []
  }
 ],
 "metadata": {
  "kernelspec": {
   "display_name": "qbmqsp",
   "language": "python",
   "name": "python3"
  },
  "language_info": {
   "codemirror_mode": {
    "name": "ipython",
    "version": 3
   },
   "file_extension": ".py",
   "mimetype": "text/x-python",
   "name": "python",
   "nbconvert_exporter": "python",
   "pygments_lexer": "ipython3",
   "version": "3.11.0"
  }
 },
 "nbformat": 4,
 "nbformat_minor": 2
}
