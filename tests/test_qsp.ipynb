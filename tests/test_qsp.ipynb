{
 "cells": [
  {
   "cell_type": "code",
   "execution_count": 1,
   "metadata": {},
   "outputs": [],
   "source": [
    "import pennylane as qml\n",
    "from pennylane import numpy as np\n",
    "\n",
    "from qbmqsp.qsp import QSP\n",
    "from qbmqsp.qsp_phase_engine import QSPPhaseEngine"
   ]
  },
  {
   "cell_type": "code",
   "execution_count": 2,
   "metadata": {},
   "outputs": [],
   "source": [
    "def test_qsp():\n",
    "    dev = qml.device('default.qubit', wires=2)\n",
    "    @qml.qnode(dev)\n",
    "    def qsp(x, φ):\n",
    "        QSP().circuit(x, φ)\n",
    "        return qml.state()\n",
    "\n",
    "    τ = 1.0\n",
    "    qsp_phase_engine = QSPPhaseEngine(δ=0.1, polydeg=100)\n",
    "    φ = qsp_phase_engine.generate(τ)\n",
    "    del qsp_phase_engine\n",
    "\n",
    "    x = 0.4\n",
    "    error = np.abs( qsp(x, φ)[0] - np.exp(-τ*x) )\n",
    "    return error"
   ]
  },
  {
   "cell_type": "code",
   "execution_count": 3,
   "metadata": {},
   "outputs": [
    {
     "name": "stdout",
     "output_type": "stream",
     "text": [
      "\n",
      "Starting MATLAB engine.. Done.\n",
      "\n",
      "\n",
      "Stopping MATLAB engine ... Done.\n",
      "\n"
     ]
    },
    {
     "data": {
      "text/plain": [
       "tensor(0.00024577, requires_grad=True)"
      ]
     },
     "execution_count": 3,
     "metadata": {},
     "output_type": "execute_result"
    }
   ],
   "source": [
    "test_qsp()"
   ]
  },
  {
   "cell_type": "code",
   "execution_count": null,
   "metadata": {},
   "outputs": [],
   "source": []
  }
 ],
 "metadata": {
  "kernelspec": {
   "display_name": "qbmqsp",
   "language": "python",
   "name": "python3"
  },
  "language_info": {
   "codemirror_mode": {
    "name": "ipython",
    "version": 3
   },
   "file_extension": ".py",
   "mimetype": "text/x-python",
   "name": "python",
   "nbconvert_exporter": "python",
   "pygments_lexer": "ipython3",
   "version": "3.11.0"
  }
 },
 "nbformat": 4,
 "nbformat_minor": 2
}
