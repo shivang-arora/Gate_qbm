{
 "cells": [
  {
   "cell_type": "code",
   "execution_count": 12,
   "id": "4c062aca-b7af-463b-8cd6-bc31deffffad",
   "metadata": {},
   "outputs": [],
   "source": [
    "import os\n",
    "\n",
    "import matplotlib.pyplot as plt\n",
    "import random\n",
    "from pennylane import numpy as np\n",
    "from tqdm import tqdm\n",
    "#from qbmqsp.qbm import QBM\n",
    "from qbmqsp.utils import construct_multi_fcqbm_pauli_strings\n",
    "from gen_data import xxz_gibbs_state, basis_encoding, gen_boltzmann_dist, gen_discrete_gauss_dist\n",
    "from qbmqsp.src.utils import import_dataset, split_dataset_labels, split_data\n",
    "from sklearn.metrics import (accuracy_score, confusion_matrix, f1_score,\n",
    "                             precision_score, recall_score)\n",
    "import scipy.linalg as spl\n",
    "\n",
    "import pennylane as qml\n",
    "from pennylane import numpy as np\n",
    "from pennylane.pauli.utils import string_to_pauli_word\n",
    "\n",
    "from qbmqsp.hamiltonian import Hamiltonian\n",
    "from qbmqsp.qsp_phase_engine import QSPPhaseEngine\n",
    "from qbmqsp.qevt import QEVT\n",
    "from qbmqsp.rel_ent import relative_entropy\n",
    "\n",
    "\n",
    "\n",
    "import itertools\n",
    "\n",
    "#DATASET_PATH3='C:/Users/ge84gac/datasets/o7_c5_d2_p200_1.npy'\n",
    "DATASET_PATH2='C:/Users/ge84gac/Downloads/QBM-Anomaly-Detection-version-paper/QBM-Anomaly-Detection-main/src/datasets/l_o7_c5_d3_p200_v1.npy'\n",
    "DATASET_PATH = 'C:/Users/ge84gac/QBM-anomaly-detection/src/datasets/l_o6_c10_d3_p1000_2.npy'   # Give dataset path\n",
    "CLUSTER = 5"
   ]
  },
  {
   "cell_type": "code",
   "execution_count": 13,
   "id": "a3621656-9a09-4046-8918-5d4492b3d7b4",
   "metadata": {},
   "outputs": [],
   "source": [
    "# Function returning the hamilatonian form for the restriceted boltzmann machine"
   ]
  },
  {
   "cell_type": "code",
   "execution_count": 14,
   "id": "76b01abd-78d3-43e2-af88-724eea18ca45",
   "metadata": {},
   "outputs": [
    {
     "data": {
      "text/plain": [
       "['ZIIIIII',\n",
       " 'IZIIIII',\n",
       " 'IIZIIII',\n",
       " 'IIIZIII',\n",
       " 'IIIIZII',\n",
       " 'IIIIIZI',\n",
       " 'IIIIIIZ',\n",
       " 'ZZIIIII',\n",
       " 'ZIZIIII',\n",
       " 'ZIIZIII',\n",
       " 'ZIIIZII',\n",
       " 'ZIIIIZI',\n",
       " 'ZIIIIIZ',\n",
       " 'IZZIIII',\n",
       " 'IZIZIII',\n",
       " 'IZIIZII',\n",
       " 'IZIIIZI',\n",
       " 'IZIIIIZ',\n",
       " 'IIZZIII',\n",
       " 'IIZIZII',\n",
       " 'IIZIIZI',\n",
       " 'IIZIIIZ']"
      ]
     },
     "execution_count": 14,
     "metadata": {},
     "output_type": "execute_result"
    }
   ],
   "source": [
    "def generate_pauli_strings_tfim(num_qubits,n_visible,restricted=True):\n",
    "    \"\"\"\n",
    "    Generate Pauli strings for a transverse field Ising model as a \n",
    "    restricted boltzmann machine with no visible-visible connecions.\n",
    "    \n",
    "    Parameters:\n",
    "    num_qubits (int): Number of qubits in the quantum Boltzmann machine.\n",
    "    n_visible (int): Number if visible units.\n",
    "    \n",
    "    Returns:\n",
    "    list: List of Pauli strings representing the Hamiltonian.\n",
    "    \"\"\"\n",
    "    pauli_strings = []\n",
    "\n",
    "    # Local transverse field terms (X_i)\n",
    "    for i in range(num_qubits):\n",
    "        pauli_string = ['I'] * num_qubits\n",
    "        pauli_string[i] = 'Z'\n",
    "        pauli_strings.append(''.join(pauli_string))\n",
    "\n",
    "    # Interaction terms (Z_i Z_j)\n",
    "    for i, j in itertools.combinations(range(num_qubits), 2):\n",
    "        if restricted:\n",
    "            if i<n_visible and j>=n_visible:\n",
    "                pauli_string = ['I'] * num_qubits\n",
    "    \n",
    "                pauli_string[i] = 'Z'\n",
    "                pauli_string[j] = 'Z'\n",
    "                pauli_strings.append(''.join(pauli_string))\n",
    "        else:\n",
    "            if i<n_visible:\n",
    "                pauli_string = ['I'] * num_qubits\n",
    "    \n",
    "                pauli_string[i] = 'Z'\n",
    "                pauli_string[j] = 'Z'\n",
    "                pauli_strings.append(''.join(pauli_string))       \n",
    "    return pauli_strings\n",
    "\n",
    "generate_pauli_strings_tfim(7,3,False)   "
   ]
  },
  {
   "cell_type": "code",
   "execution_count": 30,
   "id": "3ba6ad8d-afb1-477d-8ced-44f4a8a47c56",
   "metadata": {},
   "outputs": [],
   "source": [
    "import seaborn as sns\n",
    "def evaluate_qbm(qbm,testing_dataset,cluster,plot=False):\n",
    "\n",
    "\n",
    "    #training_data=numpy.expand_dims(training_data[:,0],axis=1)\n",
    "    outliers = qbm.get_binary_outliers(\n",
    "    dataset=testing_dataset, outlier_index=cluster+1)\n",
    "\n",
    "    #outliers=numpy.expand_dims(outliers[:,0],axis=1)\n",
    "    \n",
    "\n",
    "    points = qbm.get_binary_cluster_points(\n",
    "    dataset=testing_dataset, cluster_index=cluster)\n",
    "\n",
    "    #points=numpy.expand_dims(points[:,0],axis=1)\n",
    "    #print(points)\n",
    "    predict_points_cluster = np.zeros(len(points), dtype=int)\n",
    "    predict_points_outliers = np.zeros(len(outliers), dtype=int)\n",
    "    qbm.calculate_outlier_threshold(.95)\n",
    "    print(\"Outlier threshold: \", qbm.outlier_threshold)\n",
    "    print(\"Calculate outlier Energy\")\n",
    "\n",
    "    testing_data, testing_labels = split_dataset_labels(testing_dataset)\n",
    "#testing_data=numpy.expand_dims(testing_data[:,0],axis=1)\n",
    "\n",
    "    outlier_energy = []\n",
    "    for index, outlier in enumerate(tqdm(outliers), 0):\n",
    "        outlier = np.reshape(outlier, (qbm.dim_input))\n",
    "        predict_points_outliers[index], this_outlier_energy = qbm.predict_point_as_outlier(\n",
    "            outlier)\n",
    "        outlier_energy.append(this_outlier_energy)\n",
    "    outlier_energy = np.array(outlier_energy)\n",
    "\n",
    "    o = outlier_energy.reshape((outlier_energy.shape[0]))\n",
    "\n",
    "    print(\"Calculate cluster energy\")\n",
    "    cluster_point_energy = []\n",
    "\n",
    "    for index, point in enumerate(tqdm(points), 0):\n",
    "        point = np.reshape(point, (qbm.dim_input))\n",
    "        predict_points_cluster[index], this_cluster_point_energy = qbm.predict_point_as_outlier(\n",
    "        point)\n",
    "        cluster_point_energy.append(this_cluster_point_energy)\n",
    "    cluster_point_energy = np.array(cluster_point_energy)\n",
    "\n",
    "    c = cluster_point_energy.reshape((cluster_point_energy.shape[0]))\n",
    "\n",
    "    title='test'\n",
    "#qbmqsp.src.utils.save_output(title=\"cluster_\" + title, object=c)\n",
    "#QBM.plot_energy_diff([o, c], qbm.outlier_threshold, title + \".pdf\")\n",
    "\n",
    "#QBM.plot_hist(c, o, qbm.outlier_threshold, \"qbm_hist\" + \".pdf\")\n",
    "\n",
    "########## OUTLIER CLASSIFICATION ##########\n",
    "    print('Outlier classification: Results...')\n",
    "    predict_points = np.concatenate(\n",
    "        (predict_points_cluster, predict_points_outliers))\n",
    "\n",
    "    print(\"Predicted points test: \", predict_points)\n",
    "\n",
    "    true_points = np.concatenate(\n",
    "        (np.zeros_like(cluster_point_energy), np.ones_like(outlier_energy)))\n",
    "\n",
    "    accuracy, precision, recall = accuracy_score(true_points, predict_points), precision_score(\n",
    "        true_points, predict_points), recall_score(true_points, predict_points)\n",
    "    f1 = f1_score(true_points, predict_points)\n",
    "    tn, fp, fn, tp = confusion_matrix(\n",
    "        true_points, predict_points, labels=[0, 1]).ravel()\n",
    "\n",
    "    print(f'Accuracy: {accuracy}, Precision: {precision}, Recall: {recall}, F1-Score: {f1}, \\nNum True Negative: {tn}, Num False Negative: {fn}, Num True Positive: {tp}, Num False Positive: {fp}')\n",
    "\n",
    "#print(f'Wallclock time: {(end-start):.2f} seconds')\n",
    "    lab=cluster\n",
    "    print(\"Outlier threshold: \", qbm.outlier_threshold)\n",
    "    print(\"Average clusterpoint energy: \", np.average(cluster_point_energy))\n",
    "    print(\"Outlier energy: \", outlier_energy)\n",
    "    \n",
    "    if plot==True:\n",
    "        plt.figure()\n",
    "        plt.title('Test Dataset')\n",
    "        sns.scatterplot(x=testing_data[:,0],y=testing_data[:,1])\n",
    "        sns.scatterplot(x=testing_data[:,0][testing_labels>lab],y=testing_data[:,1][testing_labels>lab], c='r',palette='coolwarm')\n",
    "        \n",
    "    #plt.title('Predicted Points')\n",
    "    #sns.scatterplot(x=testing_data[:,0],y=testing_data[:,1], hue=predict_points,palette='coolwarm')\n",
    "    return precision,recall,f1\n",
    "\n",
    "class QBM():\n",
    "    \"\"\"Quantum Boltzmann machine (QBM) based on quantum signal processing.\n",
    "\n",
    "    Parameters\n",
    "    ----------\n",
    "    β, enc:\n",
    "        Same as attributes.\n",
    "    h, θ:\n",
    "        See qbmqsp.hamiltonian.Hamiltonian\n",
    "    δ, polydeg:\n",
    "        See qbmqsp.qsp_phase_engine.QSPPhaseEngine\n",
    "\n",
    "    Attributes\n",
    "    ----------\n",
    "    β : float\n",
    "        Inverse temperature.\n",
    "    enc : str in {'general', 'lcu'}\n",
    "        Unitary block encoding scheme.\n",
    "    H : qbmqsp.hamiltonian.Hamiltonian\n",
    "        Constructed from parameters (h, θ).\n",
    "    qsp : qbmqsp.qsp_phase_engine.QSPPhaseEngine\n",
    "        Constructed from parameters (δ, polydeg).\n",
    "    qevt : qbmqsp.qevt.QEVT\n",
    "        Quantum eigenvalue transform to realize matrix function f(A) = exp(- τ * |A|). Updated after each training epoch.\n",
    "    observables : qml.operation.Observable\n",
    "        Observables w.r.t which the QBM is measured to optimize via gradient descent.\n",
    "    aux_wire, enc_wires, sys_wires, env_wires : list[int]\n",
    "        Quantum register wires of quantum circuit that prepares and measures the QBM.\n",
    "    \"\"\"\n",
    "    \n",
    "    \n",
    "    \n",
    "    \n",
    "    \n",
    "    def __init__(self,data,h: list[str], θ: np.ndarray[float], enc: str, δ: float, polydeg: int, β: float, hnodes,epochs=1,restricted=True) -> None:\n",
    "        if β < 0:\n",
    "            raise ValueError(\"__init__: β must not be negative.\")\n",
    "        \n",
    "        self.epochs=epochs\n",
    "        self.β = β\n",
    "        self.enc = enc\n",
    "        self.H = Hamiltonian(h, θ)\n",
    "        self.qsp = QSPPhaseEngine(δ, polydeg)\n",
    "        self.qevt = self._construct_qevt()\n",
    "        self.aux_wire, self.enc_wires, self.sys_wires, self.env_wires = self._construct_wires()\n",
    "        self.observables = self._construct_obervables()\n",
    "        \n",
    "        self.encoded_data, bits_input_vector, num_features = self.binary_encode_data(data, use_folding=True)\n",
    "        self.dim_input = bits_input_vector * num_features\n",
    "        self.quantile=0.95\n",
    "        self.dim_input=n_visible\n",
    "        self.n_hidden_nodes=hnodes\n",
    "        \n",
    "        self.qubits=self.dim_input+self.n_hidden_nodes\n",
    "        \n",
    "        self.restricted=restricted\n",
    "\n",
    "        if self.restricted:\n",
    "            self.weights_visible_to_hidden=np.reshape(self.H.θ[self.dim_input+self.n_hidden_nodes:],(self.dim_input,self.n_hidden_nodes))\n",
    "            self.biases_hidden=self.H.θ[self.dim_input:self.dim_input+self.n_hidden_nodes]\n",
    "            self.biases_visible=self.H.θ[:self.dim_input]\n",
    "        else:\n",
    "            \n",
    "            self.weights_visible_to_visible,self.weights_visible_to_hidden=self.get_weights(self.H.θ)\n",
    "            self.biases_hidden=self.H.θ[self.dim_input:self.dim_input+self.n_hidden_nodes]\n",
    "            self.biases_visible=self.H.θ[:self.dim_input]\n",
    "        \n",
    "\n",
    "    def get_binary_cluster_points(self,dataset, cluster_index: int) -> np.ndarray:\n",
    "        points = np.array([entry[:-1]\n",
    "                           for entry in dataset if entry[-1] <= cluster_index])\n",
    "\n",
    "        return self.binary_encode_data(points, use_folding=False)[0]\n",
    "    \n",
    "    def get_binary_outliers(self,dataset, outlier_index: int):\n",
    "        outliers = np.array([entry[:-1]\n",
    "                            for entry in dataset if entry[-1] >= outlier_index])\n",
    "\n",
    "        return self.binary_encode_data(outliers, use_folding=False)[0]\n",
    "  \n",
    "    def binary_encode_data(self,data, use_folding=False):\n",
    "        \"\"\" Encode a numpy array of form [[numpy.int64 numpy.int64] ...] into a\n",
    "        list of form [[int, int, int, ...], ...].\n",
    "        Example: encode [[107  73] [113  90] ...] to\n",
    "        [[1, 1, 0, 1, 0, 1, 1, 1, 0, 0, 1, 0, 0, 1],[1, 1, 1, 0, 0, 0, 1, 1, 0, 1, 1, 0, 1, 0] .\n",
    "        \"\"\"\n",
    "\n",
    "        # find out how many bits we need for each feature\n",
    "        number_bits = len(np.binary_repr(np.amax(data)))\n",
    "        number_features = data.shape[1]\n",
    "\n",
    "        binary_encoded = ((data.reshape(-1, 1) & np.array(2 **\n",
    "                          np.arange(number_bits-1, -1, -1))) != 0).astype(np.float32)\n",
    "        if use_folding:\n",
    "            return binary_encoded.reshape(len(data), number_features*number_bits), number_bits, number_features\n",
    "        else:\n",
    "            return binary_encoded.reshape(len(data), number_features, number_bits), number_bits, number_features\n",
    "    \n",
    "    \n",
    "    def n_qubits(self, registers: str | set[str] = None) -> int:\n",
    "        \"\"\"Return number of qubits per registers.\n",
    "        \n",
    "        Parameters\n",
    "        ----------\n",
    "        registers : str | set[str]\n",
    "            Quantum registers whose number of qubits should be returned.\n",
    "            Must be an element from or a subset of {'aux', 'enc', 'sys', 'env'}.\n",
    "\n",
    "        Returns\n",
    "        -------\n",
    "        n : int\n",
    "            Number of qubits used per registers.\n",
    "        \"\"\"\n",
    "        if registers is None:\n",
    "            registers = {'aux', 'enc', 'sys', 'env'}\n",
    "        elif type(registers) == str:\n",
    "            registers = {registers}\n",
    "        if not registers.issubset({'aux', 'enc', 'sys', 'env'}):\n",
    "            raise ValueError(\"n_qubits: registers must be an element from or a subset of %r.\" % {'aux', 'enc', 'sys', 'env'})\n",
    "        \n",
    "        n = 0\n",
    "        if 'env' in registers:\n",
    "            n += self.qevt.n_qubits('sys')\n",
    "        registers.discard('env')\n",
    "        if len(registers) != 0:\n",
    "            n += self.qevt.n_qubits(registers)\n",
    "        return n\n",
    "\n",
    "    def _generate_qsp_phases(self) -> np.ndarray[float]:\n",
    "        τ = self.β / (1-self.qsp.δ) * self.H.θ_norm()\n",
    "        φ = self.qsp.generate(τ)\n",
    "        return φ\n",
    "\n",
    "    def _construct_qevt(self) -> QEVT:\n",
    "        φ = self._generate_qsp_phases()\n",
    "        h_δ, θ_δ = self.H.preprocessing(self.qsp.δ)\n",
    "        return QEVT(h_δ, θ_δ, self.enc, φ)\n",
    "    \n",
    "    def _construct_wires(self) -> tuple[list[int], list[int], list[int], list[int]]:\n",
    "        wires = list(range(self.n_qubits()))\n",
    "        aux_wire = wires[: self.n_qubits('aux')]\n",
    "        enc_wires = wires[self.n_qubits('aux') : self.n_qubits({'aux', 'enc'})]\n",
    "        sys_wires = wires[self.n_qubits({'aux', 'enc'}) : self.n_qubits({'aux', 'enc', 'sys'})]\n",
    "        env_wires = wires[self.n_qubits({'aux', 'enc', 'sys'}) : self.n_qubits({'aux', 'enc', 'sys', 'env'})]\n",
    "        return aux_wire, enc_wires, sys_wires, env_wires\n",
    "\n",
    "    def _construct_obervables(self) -> list[qml.operation.Observable]:\n",
    "        n_aux_enc = self.n_qubits({'aux', 'enc'})\n",
    "        aux_enc_wires = self.aux_wire + self.enc_wires\n",
    "        proj0 = qml.Projector( [0] * n_aux_enc, aux_enc_wires)\n",
    "\n",
    "        new_sys_wires = list(range(self.n_qubits('sys')))\n",
    "        wire_map = dict(zip(self.sys_wires, new_sys_wires))\n",
    "        observables = [proj0] + [proj0 @ string_to_pauli_word(self.H.h[i], wire_map) for i in range(self.H.n_params)]\n",
    "        return observables\n",
    "    \n",
    "    def _bell_circuit(self) -> None:\n",
    "        for i, j in zip(self.sys_wires, self.env_wires):\n",
    "            qml.Hadamard(i)\n",
    "            qml.CNOT([i, j])\n",
    "\n",
    "    def probabilistic(self):\n",
    "        \n",
    "        bit_strings=[]\n",
    "        for i in range(2**(self.n_hidden_nodes+self.dim_input)):\n",
    "        # Convert the number to its binary representation and pad with leading zeros\n",
    "            bit_string = bin(i)[2:].zfill(self.n_hidden_nodes+self.dim_input)\n",
    "             \n",
    "            bit_list = np.array([int(bit) for bit in bit_string])\n",
    "            bit_strings.append(bit_list) \n",
    "            \n",
    "      \n",
    "        sample = random.choices(bit_strings, k=1)\n",
    "\n",
    "        for i,x in enumerate(sample[0]):\n",
    "            if x==1:\n",
    "                qml.PauliX(wires=[self.sys_wires[i]])\n",
    "    \n",
    "    def _prepare(self) -> None:\n",
    "        self._bell_circuit()\n",
    "        #self.probabilistic()\n",
    "        self.qevt.circuit(self.aux_wire, self.enc_wires, self.sys_wires)\n",
    "    \n",
    "    def _measure(self) -> None:\n",
    "        #return qml.sample(wires=self.aux_wire+self.enc_wires+self.sys_wires)\n",
    "        return [qml.expval(self.observables[i]) for i in range(len(self.observables))]\n",
    "    \n",
    "    \n",
    "    def get_sample(self,shots=1):\n",
    "        dev = qml.device(dev_name,shots=shots, wires=self.n_qubits({'aux','enc','sys'}))\n",
    "        @qml.qnode(dev)\n",
    "        \n",
    "        def quantum_circuit():\n",
    "            \n",
    "            self._prepare()\n",
    "            return qml.sample(wires=self.aux_wire+self.enc_wires+self.sys_wires)\n",
    "        \n",
    "        sample=quantum_circuit()\n",
    "        return sample\n",
    "    \n",
    "    def get_average_configuration_from_samples(self, samples: list, input_vector=None):\n",
    "        ''' Takes samples from Annealer and averages for each neuron and connection\n",
    "        '''\n",
    "\n",
    "        # unclamped if input_vector == None\n",
    "        unclamped = input_vector== None\n",
    "\n",
    "        # biases (row = sample, column = neuron)\n",
    "        np_samples = np.vstack(\n",
    "            tuple([np.array(list(sample.values())) for sample in samples]))\n",
    "        avgs_biases = np.average(np_samples, axis=0)\n",
    "        avgs_biases_hidden = avgs_biases[self.dim_input:] if unclamped else avgs_biases\n",
    "        avgs_biases_visible = avgs_biases[:\n",
    "                                          self.dim_input] if unclamped else input_vector\n",
    "\n",
    "        # weights\n",
    "        avgs_weights_visible_to_hidden = np.zeros(\n",
    "            self.weights_visible_to_hidden.shape)\n",
    "        if not self.restricted:\n",
    "            avgs_weights_visible_to_visible = np.zeros(\n",
    "                self.weights_visible_to_visible.shape)\n",
    "        for v in range(self.dim_input):\n",
    "            # visible to hidden connections\n",
    "            for h in range(self.n_hidden_nodes):\n",
    "                x, y = (np_samples[:, v], self.dim_input +\n",
    "                        h) if unclamped else (input_vector[v], h)\n",
    "                avgs_weights_visible_to_hidden[v, h] = np.average(\n",
    "                    x*np_samples[:, y])\n",
    "            # visible to visible connections\n",
    "            if not self.restricted:\n",
    "                for v2 in range(v, self.dim_input):\n",
    "                    x, y = (np_samples[:, v], np_samples[:, v2]) if unclamped else (\n",
    "                        input_vector[v], input_vector[v2])\n",
    "                    avgs_weights_visible_to_visible[v, v2] = np.average(x*y)\n",
    "\n",
    "        if self.restricted:\n",
    "            return avgs_biases_hidden, avgs_biases_visible, avgs_weights_visible_to_hidden, None\n",
    "        else:\n",
    "            return avgs_biases_hidden, avgs_biases_visible, avgs_weights_visible_to_hidden, avgs_weights_visible_to_visible\n",
    "\n",
    "    def _compute_expvals(self) -> np.ndarray[float]:\n",
    "        dev = qml.device(dev_name,wires=self.n_qubits({'aux','enc','sys','env'}))\n",
    "        #dev = qml.device(dev_name, backend=backend,wires=self.n_qubits(),ibmqx_token=token)\n",
    "        @qml.qnode(dev)\n",
    "        \n",
    "        def quantum_circuit():\n",
    "            self._prepare()\n",
    "            return self._measure()\n",
    "        num_repetitions=1\n",
    "        avg_measurements=np.zeros(self.H.n_params)\n",
    "        for repetitions in range(num_repetitions):\n",
    "            \n",
    "            measurements = quantum_circuit()\n",
    "            \n",
    "            success_probabilty = measurements[0]\n",
    "            \n",
    "            \n",
    "            qbm_expvals = measurements[1:] / success_probabilty\n",
    "            \n",
    "            avg_measurements+=qbm_expvals\n",
    "            \n",
    "            print(success_probabilty, \"prob\")\n",
    "        \n",
    "        \n",
    "        avg_measurements=avg_measurements/float(num_repetitions)\n",
    "        \n",
    "       \n",
    "        return avg_measurements\n",
    "    \n",
    "    def _loss_func(self, ρ0: np.ndarray[float], ρ1: np.ndarray[float]) -> float:\n",
    "        return relative_entropy(ρ0, ρ1, check_state=True).item()\n",
    "    \n",
    "    def assemble(self) -> np.ndarray[float]:\n",
    "        \"\"\"Assemble QBM.\"\"\"\n",
    "        expH = spl.expm(-self.β * self.H.assemble())\n",
    "        return expH / np.trace(expH)\n",
    "    \n",
    "    \n",
    "    def get_energy(self,input_vector):\n",
    "        input_vector=[input_vector]\n",
    "        new_biases=self.biases_hidden+np.matmul(1-2*np.array(input_vector),self.weights_visible_to_hidden).flatten()\n",
    "        \n",
    "        \n",
    "    # List to store all bit strings\n",
    "        bit_strings=[]\n",
    "        p=[]\n",
    "    # There are 2^n bit strings of length n\n",
    "        #print(new_biases)\n",
    "        for i in range(2**self.n_hidden_nodes):\n",
    "        # Convert the number to its binary representation and pad with leading zeros\n",
    "            bit_string = bin(i)[2:].zfill(self.n_hidden_nodes)\n",
    "             \n",
    "            bit_list = np.array([1-2*int(bit) for bit in bit_string])\n",
    "            bit_strings.append(bit_list) \n",
    "            p.append(np.exp(-self.β*np.dot(bit_list,new_biases)))\n",
    "\n",
    "        p=np.array(p)\n",
    "        probabilities=p/np.sum(p)\n",
    "        sample = random.choices(bit_strings, weights=probabilities, k=1)\n",
    "\n",
    "        return self.β*np.dot(sample,new_biases)\n",
    "            \n",
    "\n",
    "               \n",
    "\n",
    "            \n",
    "     \n",
    "    \n",
    "    def free_energy(self, input_vector):\n",
    "        '''Function to compute the free energy'''\n",
    "\n",
    "        # calculate hidden term\n",
    "        \n",
    "         \n",
    "         \n",
    "        hidden_term = self.get_energy(input_vector)\n",
    "\n",
    "        # calculate visible_term\n",
    "        # visible bias\n",
    "        visible_term = self.β*np.dot(\n",
    "            1-2*np.array(input_vector), self.H.θ[:self.dim_input]) #/beta\n",
    "        \n",
    "        \n",
    "\n",
    "        return hidden_term + visible_term\n",
    "    \n",
    "    def calculate_outlier_threshold(self, quantile=0.95):\n",
    "        self.quantile = quantile\n",
    "        energies = np.apply_along_axis(\n",
    "            self.free_energy, axis=1, arr=self.encoded_data)\n",
    "        self.outlier_threshold = np.quantile(energies, self.quantile)\n",
    "    \n",
    "    \n",
    "    \n",
    "    \n",
    "    \n",
    "    def get_average_configurations(self,input_vector=None):\n",
    "        '''\n",
    "        Function for giving averge configurations of all qubits for the gibbs state of the system.\n",
    "        Gives configuration over hidden units only, if input vector is clamped at a certain value.\n",
    "       \n",
    "    \n",
    "        Parameters:\n",
    "        input vector (np.ndarray)\n",
    "        \n",
    "    \n",
    "        Returns:\n",
    "        list: List of expectation values of hamilatonian terms.\n",
    "        '''\n",
    "        \n",
    "        \n",
    "        # unclamped values\n",
    "        if input_vector is None:\n",
    "            \n",
    "            qbm_expvals=self._compute_expvals()\n",
    "            \n",
    "            return qbm_expvals\n",
    "        \n",
    "        # clamped values\n",
    "        \n",
    "        \n",
    "        if self.restricted:\n",
    "            self.weights_visible_to_hidden=np.reshape(self.H.θ[self.dim_input+self.n_hidden_nodes:],(self.dim_input,self.n_hidden_nodes))\n",
    "            self.biases_hidden=self.H.θ[self.dim_input:self.dim_input+self.n_hidden_nodes]\n",
    "            self.biases_visible=self.H.θ[:self.dim_input]\n",
    "        else:\n",
    "            \n",
    "            self.weights_visible_to_visible,self.weights_visible_to_hidden=self.get_weights(self.H.θ)\n",
    "            self.biases_hidden=self.H.θ[self.dim_input:self.dim_input+self.n_hidden_nodes]\n",
    "            self.biases_visible=self.H.θ[:self.dim_input]\n",
    "        \n",
    "        input_vector=[input_vector]\n",
    "        new_biases=self.biases_hidden+np.matmul(1-2*np.array(input_vector),self.weights_visible_to_hidden).flatten()\n",
    "        #np.matmul(input_vector, self.weights_visible_to_hidden).flatten()\n",
    "        \n",
    "        Q_new=new_biases\n",
    "\n",
    "        exp_vals=-np.tanh(self.β*new_biases)\n",
    "        return exp_vals\n",
    "            \n",
    "        '''\n",
    "        \n",
    "        β, δ, θ_norm = self.β, 0.3, np.linalg.norm(Q_new, ord=1)\n",
    "        τ = β * θ_norm / (1-δ)\n",
    "        \n",
    "        φ = self.qsp.generate(τ)\n",
    "        #del qsp_phase_engine\n",
    "         \n",
    "      \n",
    "        # New energy configuration only for hidden units\n",
    "        h=generate_pauli_strings_tfim(self.n_hidden_nodes,self.n_hidden_nodes)\n",
    "        \n",
    "        h_δ = h + [self.n_hidden_nodes * 'I']\n",
    "        θ_δ = np.append(Q_new * (1-δ)/(2*θ_norm), (1+δ)/2)\n",
    "        encoding='general' \n",
    "        qevt = QEVT(h_δ, θ_δ, encoding, φ)\n",
    "        \n",
    "        \n",
    "        \n",
    "        n_aux, n_enc, n_sys = qevt.n_qubits({'aux'}), qevt.n_qubits({'enc'}), qevt.n_qubits({'sys'})\n",
    "        wires = list(range(n_aux + n_enc + 2*n_sys))\n",
    "        aux_wire = wires[: n_aux]\n",
    "        enc_wires = wires[n_aux : n_aux+n_enc]\n",
    "        sys_wires = wires[n_aux+n_enc : n_aux+n_enc+n_sys]\n",
    "        env_wires=wires[n_aux+n_enc+n_sys:]\n",
    "        \n",
    "        new_sys_wires = list(range(n_sys))\n",
    "        wire_map = dict(zip(self.sys_wires, new_sys_wires))\n",
    "        proj0 = qml.Projector( [0] * (n_aux+n_enc), aux_wire+enc_wires)\n",
    "        observables = [proj0] + [proj0 @ string_to_pauli_word(h[i], wire_map) for i in range(len(h))]\n",
    "        \n",
    "        \n",
    "        dev = qml.device(dev_name, wires=n_aux+n_enc+2*n_sys)\n",
    "        #dev = qml.device(, backend=backend,wires=n_aux+n_enc+2*n_sys,ibmqx_token=token)\n",
    "        @qml.qnode(dev)\n",
    "        \n",
    "        \n",
    "        def qevt_circuit():\n",
    "            for i, j in zip(sys_wires, env_wires):\n",
    "                qml.Hadamard(i)\n",
    "                qml.CNOT([i, j])\n",
    "            qevt.circuit(aux_wire, enc_wires, sys_wires)\n",
    "            return [qml.expval(observables[i]) for i in range(len(observables))]\n",
    "       \n",
    "        measurements = qevt_circuit()\n",
    "        success_probabilty = measurements[0]\n",
    "        qbm_expvals = measurements[1:] / success_probabilty    \n",
    "        \n",
    "        return qbm_expvals\n",
    "    \n",
    "        '''\n",
    "            \n",
    "        \n",
    "        \n",
    "    def train_for_one_iteration(self, batch, learning_rate):\n",
    "\n",
    "        errors = 0\n",
    "        #errors_biases_visible = 0\n",
    "        #errors_weights_visible_to_hidden = 0\n",
    "        #if not self.restricted:\n",
    "          #  errors_weights_visible_to_visible = 0\n",
    "\n",
    "        for i,input_vector in enumerate(batch):\n",
    "            \n",
    "            \n",
    "            if i==0:\n",
    "                unclamped_config = self.get_average_configurations() \n",
    "                print(unclamped_config)\n",
    "            \n",
    "            clamped_config = self.get_average_configurations(input_vector) # has only expectations over hidden units\n",
    "            \n",
    "            # avgs_weights_visible_to_visible_clamped only has a value if not restricted\n",
    "            print(clamped_config)\n",
    "            \n",
    "            # Getting averages for all qubits , avg_visible=input_vector\n",
    "            \n",
    "            full_clamped_config=np.zeros_like(unclamped_config)\n",
    "            \n",
    "            full_clamped_config[:self.dim_input]=1+(-2)*input_vector   \n",
    "            full_clamped_config[self.dim_input:self.dim_input+self.n_hidden_nodes]=clamped_config\n",
    "            \n",
    "            pos_neg=1-2*input_vector\n",
    "            if self.restricted:\n",
    "                \n",
    "                \n",
    "                full_clamped_config[self.dim_input+self.n_hidden_nodes:]=np.kron(pos_neg,clamped_config)\n",
    "            \n",
    "            else:\n",
    "                \n",
    "                \n",
    "                \n",
    "                visible=list(pos_neg[j]*pos_neg[i] for j in range(len(pos_neg)) for i in range(j+1,len(pos_neg)))\n",
    "                hidden=np.kron(pos_neg,clamped_config)\n",
    "                for i in range(1,self.dim_input+1):\n",
    "                    for j in range(self.n_hidden_nodes):\n",
    "                        visible.insert((i-1)*self.n_hidden_nodes+(i)*(self.dim_input-1)-(i-1)+j,hidden[self.n_hidden_nodes*(i-1)+j])\n",
    "                full_clamped_config[self.dim_input+self.n_hidden_nodes:]=np.array(visible)\n",
    "            \n",
    "            errors += full_clamped_config - unclamped_config\n",
    "            \n",
    "            \n",
    "            \n",
    "            \n",
    "            \n",
    "            \n",
    "            \n",
    "\n",
    "        errors /= batch.shape[0]\n",
    "        \n",
    "        self.H.θ = self.H.θ - learning_rate * errors\n",
    "                \n",
    "        self.qevt = self._construct_qevt()\n",
    "                \n",
    "       \n",
    "        \n",
    "        \n",
    "        return np.average(errors[:self.dim_input]**2)\n",
    "    \n",
    "    \n",
    "    \n",
    "    \n",
    "    def train_model(self, batch_size=8, learning_rate=0.005,save=False):\n",
    "        \n",
    "        data = self.encoded_data\n",
    "        \n",
    "        weights=[]\n",
    "        batch_num = data.shape[0] // batch_size\n",
    "        diff = data.shape[0] % batch_size\n",
    "        if diff:\n",
    "            \n",
    "        \n",
    "            data = data[:-diff]\n",
    "            last_batch = data[data.shape[0] - diff:]\n",
    "        \n",
    "        \n",
    "        \n",
    "        batches = np.vsplit(data, batch_num)\n",
    "        \n",
    "        if diff:\n",
    "            batches.append(last_batch)\n",
    "              \n",
    "        losses=[]\n",
    "        \n",
    "        for epoch in range(1, self.epochs+1):\n",
    "            print(f'Epoch {epoch}')\n",
    "            batch_errors = None\n",
    "            batchnum = 1\n",
    "            errors_epoch=[]\n",
    "            for batch in tqdm(batches):\n",
    "                    print(batch)\n",
    "                    errors = self.train_for_one_iteration(batch, learning_rate)\n",
    "                    print(errors)\n",
    "                    if type(batch_errors) is np.ndarray:\n",
    "                        batch_errors = np.hstack((batch_errors, errors))\n",
    "                    else:\n",
    "                        batch_errors = errors\n",
    "                    #self.save_weights(\n",
    "                        #f'e{epoch}_b{batchnum}_{self.paramstring}')\n",
    "                    batchnum += 1\n",
    "               \n",
    "                    #self.save_weights(\n",
    "                     #   f'e{epoch}_b{batchnum}_{self.paramstring}')\n",
    "                    #raise e\n",
    "                    errors_epoch.append(errors)\n",
    "            \n",
    "            losses.append(errors_epoch)\n",
    "            weights.append(self.H.θ)\n",
    "            if save==True:\n",
    "                try:\n",
    "                    np.savez(f'./epoch{epoch}_weights_h{self.n_hidden_nodes}_v{self.dim_input}_lr{self.learning_rate}_e{self.epochs}',self.H.θ)\n",
    "                    np.savez(f'./epoch{epoch}_losses_h{self.n_hidden_nodes}_v{self.dim_input}_lr{self.learning_rate}_e{self.epochs}',errors_epoch)\n",
    "                except:\n",
    "                    print('error_saving')\n",
    "        self.calculate_outlier_threshold(self.quantile)\n",
    "        \n",
    "        \n",
    "        \n",
    "        return losses, weights \n",
    "    \n",
    "    #self.error_container.add_error(batch_errors)\n",
    "        #self.error_container.plot(\"qbm_errors\" + self.paramstring)\n",
    "        #self.save_weights(title=\"final_weights_qbm\" + self.paramstring)\n",
    "        # make list of values of the error dicts\n",
    "        \n",
    "        #self.calculate_outlier_threshold(self.quantile)\n",
    "       \n",
    "    def predict_point_as_outlier(self, input):\n",
    "        energy = self.free_energy(input)\n",
    "        if energy >= self.outlier_threshold:\n",
    "            return 1, energy\n",
    "        return 0, energy\n",
    "        \n",
    "    \n",
    "    def get_weights(self,Q):\n",
    "        weights_vh_vv=list(Q[self.dim_input+self.n_hidden_nodes:])\n",
    "            \n",
    "        for i in range(1,self.dim_input+1):\n",
    "            for j in range(i):\n",
    "                weights_vh_vv.insert((self.dim_input+self.n_hidden_nodes)*(i-1)+j,0)\n",
    "            \n",
    "        weights_vh_vv=np.array(weights_vh_vv)\n",
    "        weights_visible_to_visible=weights_vh_vv.reshape(self.dim_input,self.dim_input+self.n_hidden_nodes)[:,0:self.dim_input]\n",
    "        weights_visible_to_hidden=weights_vh_vv.reshape(self.dim_input,self.dim_input+self.n_hidden_nodes)[:,self.dim_input:]\n",
    "    \n",
    "        return weights_visible_to_visible,weights_visible_to_hidden\n",
    "    \n",
    "         \n",
    "        \n",
    "     \n",
    "    \n",
    "\n",
    "    "
   ]
  },
  {
   "cell_type": "code",
   "execution_count": 67,
   "id": "40a6d318-3224-4c8a-8a7f-70155d49ecfa",
   "metadata": {},
   "outputs": [
    {
     "name": "stdout",
     "output_type": "stream",
     "text": [
      "['ZIIIIIIII', 'IZIIIIIII', 'IIZIIIIII', 'IIIZIIIII', 'IIIIZIIII', 'IIIIIZIII', 'IIIIIIZII', 'IIIIIIIZI', 'IIIIIIIIZ', 'ZZIIIIIII', 'ZIZIIIIII', 'ZIIZIIIII', 'ZIIIZIIII', 'ZIIIIZIII', 'ZIIIIIZII', 'ZIIIIIIZI', 'ZIIIIIIIZ', 'IZZIIIIII', 'IZIZIIIII', 'IZIIZIIII', 'IZIIIZIII', 'IZIIIIZII', 'IZIIIIIZI', 'IZIIIIIIZ', 'IIZZIIIII', 'IIZIZIIII', 'IIZIIZIII', 'IIZIIIZII', 'IIZIIIIZI', 'IIZIIIIIZ', 'IIIZZIIII', 'IIIZIZIII', 'IIIZIIZII', 'IIIZIIIZI', 'IIIZIIIIZ', 'IIIIZZIII', 'IIIIZIZII', 'IIIIZIIZI', 'IIIIZIIIZ', 'IIIIIZZII', 'IIIIIZIZI', 'IIIIIZIIZ', 'IIIIIIZZI', 'IIIIIIZIZ', 'IIIIIIIZZ']\n",
      "\n",
      "Starting MATLAB engine.. Done.\n",
      "\n",
      "\n",
      "Stopping MATLAB engine ... Done.\n",
      "\n"
     ]
    }
   ],
   "source": [
    "PATH= '../../datasets/l_o8_c4_d2_p200_1.npy'\n",
    "\n",
    "CLUSTER=3\n",
    "np.random.seed(seed=1)\n",
    "#dev_name='qiskit.ibmq'\n",
    "data = import_dataset(PATH)\n",
    "training_dataset, testing_dataset = split_data(data, CLUSTER)\n",
    "training_data, training_labels = split_dataset_labels(training_dataset)\n",
    "\n",
    "\n",
    "import numpy\n",
    "#training_data=numpy.expand_dims(training_data[:,0],axis=1)\n",
    "#training_data=training_data[0::]\n",
    "n_hidden_units=1\n",
    "n_visible=8\n",
    "n_qubits = n_visible+n_hidden_units\n",
    "\n",
    "restricted=False\n",
    "h = generate_pauli_strings_tfim(n_qubits,n_visible,restricted)\n",
    "print(h)\n",
    "nparams = len(h)\n",
    "\n",
    "θ_init = np.random.rand(nparams)/nparams#np.loadtxt('./weights_7_3_un.txt')\n",
    "enc = 'general'\n",
    "δ = 0.3\n",
    "polydeg = 10\n",
    "β = 1.0\n",
    "learning_rate = 0.005\n",
    "epochs = 4\n",
    "\n",
    "\n",
    "dev_name='default.qubit'\n",
    "#dev_name='lightning.qubit'\n",
    "\n",
    "qbm = QBM(training_data,h, θ_init, enc, δ, polydeg, β,n_hidden_units,epochs,restricted)\n",
    "\n",
    "#errors,weights=qbm.train_model(3,learning_rate)"
   ]
  },
  {
   "cell_type": "code",
   "execution_count": 41,
   "id": "b11280e5-ea8e-442c-8046-07ae93d436c1",
   "metadata": {},
   "outputs": [],
   "source": [
    "np.savez('weights_8_2_un_3_epochs',weights)"
   ]
  },
  {
   "cell_type": "code",
   "execution_count": 84,
   "id": "9f8cedb2-2367-4ddb-b89f-845a9af586d5",
   "metadata": {},
   "outputs": [
    {
     "name": "stdout",
     "output_type": "stream",
     "text": [
      "[ 3  1  1  0  2  0  3  2  1  1  2  3  0  2  0  2  1  0  2  2  0  1  2  3\n",
      "  2  2  2  0  2  3  0  3  1  3  3  0  1  2  1  1  2  2  1  0  3  2  3  3\n",
      "  1  1  3  0  1  0  0  0  1  3  2  3  3  3  1  2  1  1  0  1  0  1  0  3\n",
      "  1  1  1  1  1  3  1  3  0  1  0  1  0  3  0  2  2  3  0  1  2  2  3  1\n",
      "  1  3  3  2  3  1  3  0  2  1  3  3  2  3  1  1  3  0  2  0  2  3  2  2\n",
      "  1  0  0  3  2  1  3  2  2  0  3  3  2  2  2  3  1  0  0  2  3  0  2  1\n",
      "  1  0  1  1  0  2  1  3  2  1  0  1  2  2  0  2  0  1  3  0  1  2  0  2\n",
      "  2  0  3  1  8  0  2  3  3  2  0  0  0  2  0  2  0  2  3  0  0  0  2  2\n",
      "  2  3  1  1  1  3  2  3  2  3  0  1  0  2  0  4  1  2  0  2  3  2  3  1\n",
      "  3  1  0  0  0  2  1  1  2  2  1  1  0  2  3  3  2  1  2  0  2  3  3  0\n",
      "  2  1  3  3  3  0  0  3  1  1  1  3  0  2  0  2  1  0  3  0  1  3  0  3\n",
      "  2  0  0  0  1  0  3  3  3  3  0  1  2  1  2  3  3  2  3  3  0  1  2  0\n",
      "  0  0  0  0  0  2  3  3  3  1  5  3  1  3  1  0  3  0  3  1  3  3  2  1\n",
      "  2  2  2  1  0  1  2  3  3  1  2  2  1  2  1  1  0  2  1  2  1  3  3  0\n",
      "  3  1  0 11  3  3  0  1  0  2  3  2  3  0  1  1  3  0  0  2  1  2  1  3\n",
      "  0  1  2  1  3  1  0  3  3  2  1  2  0  3  3  1  3  0  2  2  1 10  0  2\n",
      "  0  0  1  1  3  3  1  1  0  1  2  0  2  0  2  2  2  0  3  0]\n"
     ]
    },
    {
     "data": {
      "text/plain": [
       "<Axes: >"
      ]
     },
     "execution_count": 84,
     "metadata": {},
     "output_type": "execute_result"
    },
    {
     "data": {
      "image/png": "[encoded data removed]",
      "text/plain": [
       "<Figure size 640x480 with 1 Axes>"
      ]
     },
     "metadata": {},
     "output_type": "display_data"
    }
   ],
   "source": [
    "\n",
    "CLUSTER=3\n",
    "PATH= '../../datasets/l_o8_c4_d2_p200_1.npy'\n",
    "data = import_dataset(PATH)\n",
    "training_dataset, testing_dataset = split_data(data, CLUSTER)\n",
    "\n",
    "training_data, training_labels = split_dataset_labels(training_dataset)\n",
    "testing_data,testing_labels=split_dataset_labels(testing_dataset)\n",
    "\n",
    "print(testing_labels)\n",
    "import seaborn as sns\n",
    "import numpy\n",
    "#sns.histplot(testing_data[:,0])\n",
    "plt.figure()\n",
    "#training_labels\n",
    "lab=3\n",
    "#sns.scatterplot(x=training_data[:,0],y=training_data[:,1])\n",
    "#sns.scatterplot(c='r',x=training_data[:,0][training_labels==lab],y=training_data[:,1][training_labels==lab])\n",
    "\n",
    "sns.scatterplot(x=testing_data[:,0],y=testing_data[:,1])\n",
    "sns.scatterplot(c='r',x=testing_data[:,0][testing_labels>lab],y=testing_data[:,1][testing_labels>lab])"
   ]
  },
  {
   "cell_type": "code",
   "execution_count": 114,
   "id": "fd6c225b-f1bf-4b0a-b1d7-6da550f226f3",
   "metadata": {},
   "outputs": [
    {
     "data": {
      "text/plain": [
       "(<Figure size 6400x2300 with 1 Axes>, <Axes: >)"
      ]
     },
     "execution_count": 114,
     "metadata": {},
     "output_type": "execute_result"
    },
    {
     "data": {
      "image/png": "[encoded data removed]",
      "text/plain": [
       "<Figure size 6400x2300 with 1 Axes>"
      ]
     },
     "metadata": {},
     "output_type": "display_data"
    }
   ],
   "source": [
    "dev = qml.device(dev_name, wires=qbm.n_qubits({'aux','enc','sys'}))\n",
    "        #dev = qml.device(dev_name, backend=backend,wires=self.n_qubits(),ibmqx_token=token)\n",
    "@qml.qnode(dev)\n",
    "def quantum_circuit():\n",
    "    qbm._prepare()\n",
    "    return qbm._measure()\n",
    "\n",
    "qml.draw_mpl(quantum_circuit)()"
   ]
  },
  {
   "cell_type": "code",
   "execution_count": 136,
   "id": "67b3a4d0-feb5-44d5-aeb7-075e1e157714",
   "metadata": {},
   "outputs": [
    {
     "name": "stdout",
     "output_type": "stream",
     "text": [
      "[[[1. 1. 0. 1.]\n",
      "  [1. 1. 1. 1.]]\n",
      "\n",
      " [[0. 1. 0. 1.]\n",
      "  [0. 0. 1. 0.]]\n",
      "\n",
      " [[1. 0. 1. 0.]\n",
      "  [1. 1. 0. 1.]]\n",
      "\n",
      " [[0. 0. 0. 1.]\n",
      "  [1. 1. 0. 1.]]\n",
      "\n",
      " [[0. 1. 1. 1.]\n",
      "  [0. 1. 0. 1.]]]\n",
      "[-1.42916038]\n",
      "[-1.10425837]\n",
      "[-1.42916038]\n",
      "[-1.10425837]\n",
      "[-3.77741756]\n",
      "[0.9062684]\n",
      "[-1.05642846]\n",
      "[0.9062684]\n",
      "[-2.08247181]\n",
      "[-3.77741756]\n",
      "[-1.05642846]\n",
      "[-1.42916038]\n",
      "[-3.83625577]\n",
      "[-2.08247181]\n",
      "[0.067896]\n",
      "[-2.08247181]\n",
      "[-1.05642846]\n",
      "[-1.16309659]\n",
      "[0.53353648]\n",
      "[-1.42916038]\n",
      "[-1.42916038]\n",
      "[-1.42916038]\n",
      "[-3.83625577]\n",
      "[-1.05642846]\n",
      "[-1.16309659]\n",
      "[-1.05642846]\n",
      "[0.53353648]\n",
      "[-1.05642846]\n",
      "[-3.77741756]\n",
      "[-1.10425837]\n",
      "[-1.05642846]\n",
      "[-1.16309659]\n",
      "[-1.42916038]\n",
      "[-3.83625577]\n",
      "[-1.10425837]\n",
      "[-2.08247181]\n",
      "[-1.05642846]\n",
      "[-3.83625577]\n",
      "[-1.05642846]\n",
      "[-3.77741756]\n",
      "[-2.08247181]\n",
      "[-3.83625577]\n",
      "[-1.05642846]\n",
      "[0.53353648]\n",
      "[-1.16309659]\n",
      "[0.067896]\n",
      "[-1.05642846]\n",
      "[-3.77741756]\n",
      "[-3.83625577]\n",
      "[-1.05642846]\n",
      "[-1.42916038]\n",
      "[-1.05642846]\n",
      "[-2.08247181]\n",
      "[0.9062684]\n",
      "[-3.83625577]\n",
      "[-1.42916038]\n",
      "[-1.10425837]\n",
      "[-1.42916038]\n",
      "[-1.05642846]\n",
      "[-1.05642846]\n",
      "[-1.42916038]\n",
      "[-1.05642846]\n",
      "[-3.77741756]\n",
      "[-3.77741756]\n",
      "[0.067896]\n",
      "[-1.05642846]\n",
      "[-3.77741756]\n",
      "[-1.05642846]\n",
      "[-1.05642846]\n",
      "[-1.42916038]\n",
      "[-3.83625577]\n",
      "[-1.05642846]\n",
      "[-1.10425837]\n",
      "[2.03059287]\n",
      "[-1.05642846]\n",
      "[-1.10425837]\n",
      "[-1.10425837]\n",
      "[0.53353648]\n",
      "[-1.42916038]\n",
      "[-1.10425837]\n",
      "[-3.83625577]\n",
      "[-3.83625577]\n",
      "[-1.05642846]\n",
      "[-1.05642846]\n",
      "[-1.10425837]\n",
      "[-1.42916038]\n",
      "[-1.16309659]\n",
      "[-1.10425837]\n",
      "[-1.10425837]\n",
      "[-1.05642846]\n",
      "[-1.42916038]\n",
      "[-3.77741756]\n",
      "[0.53353648]\n",
      "[-3.77741756]\n",
      "[-1.42916038]\n",
      "[0.53353648]\n",
      "[0.53353648]\n",
      "[-1.05642846]\n",
      "[0.53353648]\n",
      "[0.9062684]\n",
      "[-3.83625577]\n",
      "[-1.42916038]\n",
      "[0.9062684]\n",
      "[-2.14131002]\n",
      "[-1.42916038]\n",
      "[-3.77741756]\n",
      "[-1.10425837]\n",
      "[-2.08247181]\n",
      "[-1.42916038]\n",
      "[-1.16309659]\n",
      "[-1.05642846]\n",
      "[-1.42916038]\n",
      "[-3.83625577]\n",
      "[-3.77741756]\n",
      "[-1.05642846]\n",
      "[-2.08247181]\n",
      "[-1.05642846]\n",
      "[0.53353648]\n",
      "[-1.10425837]\n",
      "[-1.42916038]\n",
      "[0.9062684]\n",
      "[0.067896]\n",
      "[0.53353648]\n",
      "[-2.08247181]\n",
      "[-1.05642846]\n",
      "[-1.42916038]\n",
      "[-1.05642846]\n",
      "[-1.42916038]\n",
      "[-1.16309659]\n",
      "[-3.77741756]\n",
      "[-2.08247181]\n",
      "[-1.42916038]\n",
      "[0.53353648]\n",
      "[-3.83625577]\n",
      "[-1.05642846]\n",
      "[-1.05642846]\n",
      "[-1.42916038]\n",
      "[0.067896]\n",
      "[-1.05642846]\n",
      "[-1.10425837]\n",
      "[-3.83625577]\n",
      "[-3.77741756]\n",
      "[-1.05642846]\n",
      "[-2.08247181]\n",
      "[-3.83625577]\n",
      "[-3.83625577]\n",
      "[-3.83625577]\n",
      "[-3.77741756]\n",
      "[-1.10425837]\n",
      "[-3.77741756]\n",
      "[-2.08247181]\n",
      "[-3.83625577]\n",
      "[-2.14131002]\n",
      "[-3.83625577]\n",
      "[-2.08247181]\n",
      "[-3.83625577]\n",
      "[-3.83625577]\n",
      "[0.9062684]\n",
      "[-0.70038567]\n",
      "[-2.08247181]\n",
      "[-2.08247181]\n",
      "[-3.77741756]\n",
      "[-1.05642846]\n",
      "[-1.05642846]\n",
      "[-3.77741756]\n",
      "[2.03059287]\n",
      "[-3.83625577]\n",
      "[-1.42916038]\n",
      "[-1.10425837]\n",
      "[-3.83625577]\n",
      "[-1.05642846]\n",
      "[-1.05642846]\n",
      "[-1.05642846]\n",
      "[-1.05642846]\n",
      "[-1.42916038]\n",
      "[0.53353648]\n",
      "[-1.42916038]\n",
      "[-1.05642846]\n",
      "[-3.77741756]\n",
      "[-1.42916038]\n",
      "[-3.77741756]\n",
      "[-2.08247181]\n",
      "[-3.77741756]\n",
      "[-3.83625577]\n",
      "[0.9062684]\n",
      "[-3.77741756]\n",
      "[-1.42916038]\n",
      "[-3.77741756]\n",
      "[-1.10425837]\n",
      "[-3.77741756]\n",
      "[-3.83625577]\n",
      "[-1.42916038]\n",
      "[-2.08247181]\n",
      "[-1.05642846]\n",
      "[2.03059287]\n",
      "[2.03059287]\n",
      "[-3.83625577]\n",
      "[-1.42916038]\n",
      "[-3.83625577]\n",
      "[-2.14131002]\n",
      "[0.85552789]\n",
      "[-1.10425837]\n",
      "[-2.08247181]\n",
      "[-1.42916038]\n",
      "[-2.14131002]\n",
      "[0.53353648]\n",
      "[-1.42916038]\n",
      "[-1.42916038]\n",
      "[-1.10425837]\n",
      "[-2.14131002]\n",
      "[-1.16309659]\n",
      "[-1.42916038]\n",
      "[-2.08247181]\n",
      "[-1.05642846]\n",
      "[-2.08247181]\n",
      "[-1.42916038]\n",
      "[-1.05642846]\n",
      "[1.16942159]\n",
      "[-2.08247181]\n",
      "[0.9062684]\n",
      "[-2.14131002]\n",
      "[-1.42916038]\n",
      "[-2.08247181]\n",
      "[-3.77741756]\n",
      "[-3.77741756]\n",
      "[-1.16309659]\n",
      "[-1.42916038]\n",
      "[-2.08247181]\n",
      "[-1.42916038]\n",
      "[0.53353648]\n",
      "[-1.05642846]\n",
      "[2.03059287]\n",
      "[-1.42916038]\n",
      "[-1.42916038]\n",
      "[-1.10425837]\n",
      "[-1.05642846]\n",
      "[-3.77741756]\n",
      "[-1.05642846]\n",
      "[-1.10425837]\n",
      "[-3.77741756]\n",
      "[-3.83625577]\n",
      "[-1.05642846]\n",
      "[-1.42916038]\n",
      "[-2.08247181]\n",
      "[-1.10425837]\n",
      "[-3.77741756]\n",
      "[-3.83625577]\n",
      "[-1.10425837]\n",
      "[-1.16309659]\n",
      "[-3.77741756]\n",
      "[-1.05642846]\n",
      "[-3.83625577]\n",
      "[-1.05642846]\n",
      "[-1.10425837]\n",
      "[-1.42916038]\n",
      "[-3.77741756]\n",
      "[-3.77741756]\n",
      "[-1.05642846]\n",
      "[-3.83625577]\n",
      "[-3.77741756]\n",
      "[-1.05642846]\n",
      "[0.067896]\n",
      "[2.03059287]\n",
      "[-1.05642846]\n",
      "[-1.05642846]\n",
      "[-1.05642846]\n",
      "[-2.08247181]\n",
      "[-1.42916038]\n",
      "[0.53353648]\n",
      "[-1.05642846]\n",
      "[-3.83625577]\n",
      "[-1.16309659]\n",
      "[-3.83625577]\n",
      "[-3.83625577]\n",
      "[-2.66119079]\n",
      "[-3.77741756]\n",
      "[-1.42916038]\n",
      "[-2.08247181]\n",
      "[-3.83625577]\n",
      "[-3.77741756]\n",
      "[-3.77741756]\n",
      "[-3.83625577]\n",
      "[-1.42916038]\n",
      "[-3.77741756]\n",
      "[-1.05642846]\n",
      "[-3.77741756]\n",
      "[-1.05642846]\n",
      "[-1.10425837]\n",
      "[-1.10425837]\n",
      "[-3.83625577]\n",
      "[-3.77741756]\n",
      "[-3.83625577]\n",
      "[-1.05642846]\n",
      "[-3.77741756]\n",
      "[-1.42916038]\n",
      "[-1.16309659]\n",
      "[0.9062684]\n",
      "[-2.08247181]\n",
      "[-1.05642846]\n",
      "[0.9062684]\n",
      "[-2.08247181]\n",
      "[-1.42916038]\n",
      "[-2.14131002]\n",
      "[0.067896]\n",
      "[-1.16309659]\n",
      "[-1.42916038]\n",
      "[-1.10425837]\n",
      "[-1.05642846]\n",
      "[-2.14131002]\n",
      "[-1.05642846]\n",
      "[-1.42916038]\n",
      "[-3.77741756]\n",
      "[-1.42916038]\n",
      "[-2.08247181]\n",
      "[-1.10425837]\n",
      "[-1.05642846]\n",
      "[-1.05642846]\n",
      "[0.9062684]\n",
      "[-3.83625577]\n",
      "[-3.77741756]\n",
      "[-1.42916038]\n",
      "[0.067896]\n",
      "[-3.77741756]\n",
      "[-2.08247181]\n",
      "[0.9062684]\n",
      "[0.53353648]\n",
      "[-1.10425837]\n",
      "[-1.05642846]\n",
      "[-3.83625577]\n",
      "[0.067896]\n",
      "[-1.05642846]\n",
      "[-1.05642846]\n",
      "[-3.77741756]\n",
      "[-3.83625577]\n",
      "[-1.10425837]\n",
      "[-1.42916038]\n",
      "[-3.77741756]\n",
      "[-1.05642846]\n",
      "[-3.83625577]\n",
      "[-3.77741756]\n",
      "[0.9062684]\n",
      "[-1.42916038]\n",
      "[-3.83625577]\n",
      "[-3.77741756]\n",
      "[-1.05642846]\n",
      "[-1.05642846]\n",
      "[-2.14131002]\n",
      "[-3.83625577]\n",
      "[-1.16309659]\n",
      "[-1.16309659]\n",
      "[-1.05642846]\n",
      "[-3.83625577]\n",
      "[-1.42916038]\n",
      "[0.067896]\n",
      "[-2.08247181]\n",
      "[-2.08247181]\n",
      "[-1.16309659]\n",
      "[-1.05642846]\n",
      "[-1.16309659]\n",
      "[-1.42916038]\n",
      "[-1.10425837]\n",
      "[2.03059287]\n",
      "[-2.08247181]\n",
      "[-3.77741756]\n",
      "[-3.77741756]\n",
      "[-1.42916038]\n",
      "[-1.05642846]\n",
      "[-1.05642846]\n",
      "[-1.05642846]\n",
      "[-1.42916038]\n",
      "[-2.08247181]\n",
      "[-1.42916038]\n",
      "[-1.10425837]\n",
      "[-1.42916038]\n",
      "[-1.42916038]\n",
      "[-1.10425837]\n",
      "[-3.83625577]\n",
      "[-2.08247181]\n",
      "[-1.42916038]\n",
      "[-1.05642846]\n",
      "[-1.05642846]\n",
      "[-2.14131002]\n",
      "[-1.16309659]\n",
      "[-3.83625577]\n",
      "[-1.05642846]\n",
      "[0.53353648]\n",
      "[-1.05642846]\n",
      "[-1.05642846]\n",
      "[-3.77741756]\n",
      "[0.9062684]\n",
      "[-1.42916038]\n",
      "[-1.05642846]\n",
      "[-2.08247181]\n",
      "[-3.77741756]\n",
      "[-3.77741756]\n",
      "[-1.42916038]\n",
      "[-3.83625577]\n",
      "[0.9062684]\n",
      "[0.067896]\n",
      "[-1.05642846]\n",
      "[-2.08247181]\n",
      "[-1.42916038]\n",
      "[0.9062684]\n",
      "[-1.10425837]\n",
      "Outlier threshold:  -1.1741346524048324\n",
      "Calculate outlier Energy\n"
     ]
    },
    {
     "name": "stderr",
     "output_type": "stream",
     "text": [
      "100%|██████████████████████████████████████████████████████████████████████████████████| 5/5 [00:00<00:00, 1155.46it/s]\n"
     ]
    },
    {
     "name": "stdout",
     "output_type": "stream",
     "text": [
      "[1.60755012]\n",
      "[-0.07011734]\n",
      "[-1.11526668]\n",
      "[-0.54113038]\n",
      "[0.53353648]\n",
      "Calculate cluster energy\n"
     ]
    },
    {
     "name": "stderr",
     "output_type": "stream",
     "text": [
      " 56%|███████████████████████████████████████████▉                                  | 225/399 [00:00<00:00, 1124.28it/s]"
     ]
    },
    {
     "name": "stdout",
     "output_type": "stream",
     "text": [
      "[-1.05642846]\n",
      "[-1.05642846]\n",
      "[-3.83625577]\n",
      "[-3.77741756]\n",
      "[-1.10425837]\n",
      "[-1.10425837]\n",
      "[0.53353648]\n",
      "[-3.83625577]\n",
      "[-1.05642846]\n",
      "[0.9062684]\n",
      "[-1.16309659]\n",
      "[0.9062684]\n",
      "[-1.05642846]\n",
      "[-1.05642846]\n",
      "[-1.05642846]\n",
      "[0.067896]\n",
      "[-3.83625577]\n",
      "[-1.05642846]\n",
      "[-1.05642846]\n",
      "[-2.08247181]\n",
      "[-2.08247181]\n",
      "[-1.42916038]\n",
      "[-1.05642846]\n",
      "[-3.83625577]\n",
      "[-2.08247181]\n",
      "[-1.42916038]\n",
      "[-1.42916038]\n",
      "[-1.10425837]\n",
      "[-2.14131002]\n",
      "[-2.08247181]\n",
      "[-1.42916038]\n",
      "[-1.10425837]\n",
      "[0.067896]\n",
      "[0.53353648]\n",
      "[-3.77741756]\n",
      "[-1.42916038]\n",
      "[2.03059287]\n",
      "[-1.16309659]\n",
      "[-1.05642846]\n",
      "[-1.05642846]\n",
      "[2.03059287]\n",
      "[-2.14131002]\n",
      "[-1.05642846]\n",
      "[-2.08247181]\n",
      "[-1.16309659]\n",
      "[-2.08247181]\n",
      "[-1.05642846]\n",
      "[-3.77741756]\n",
      "[-1.16309659]\n",
      "[-1.05642846]\n",
      "[-1.42916038]\n",
      "[-1.05642846]\n",
      "[-1.10425837]\n",
      "[-3.77741756]\n",
      "[-3.77741756]\n",
      "[-1.16309659]\n",
      "[-2.08247181]\n",
      "[-3.77741756]\n",
      "[-1.05642846]\n",
      "[-3.83625577]\n",
      "[-3.77741756]\n",
      "[0.067896]\n",
      "[0.9062684]\n",
      "[0.9062684]\n",
      "[0.9062684]\n",
      "[-1.42916038]\n",
      "[-1.05642846]\n",
      "[-3.77741756]\n",
      "[-3.77741756]\n",
      "[-1.05642846]\n",
      "[-1.42916038]\n",
      "[-1.05642846]\n",
      "[-1.05642846]\n",
      "[0.9062684]\n",
      "[-3.77741756]\n",
      "[0.067896]\n",
      "[-1.05642846]\n",
      "[2.03059287]\n",
      "[-1.42916038]\n",
      "[-1.05642846]\n",
      "[-1.42916038]\n",
      "[-1.10425837]\n",
      "[-3.77741756]\n",
      "[-2.08247181]\n",
      "[-1.10425837]\n",
      "[-1.42916038]\n",
      "[-1.10425837]\n",
      "[-1.05642846]\n",
      "[-1.10425837]\n",
      "[-1.42916038]\n",
      "[-1.16309659]\n",
      "[-1.42916038]\n",
      "[-3.83625577]\n",
      "[-1.10425837]\n",
      "[-1.42916038]\n",
      "[-2.14131002]\n",
      "[-2.08247181]\n",
      "[-1.05642846]\n",
      "[-3.83625577]\n",
      "[-1.05642846]\n",
      "[-1.42916038]\n",
      "[0.067896]\n",
      "[-2.14131002]\n",
      "[-2.14131002]\n",
      "[-1.10425837]\n",
      "[-1.05642846]\n",
      "[-1.42916038]\n",
      "[-1.05642846]\n",
      "[-3.77741756]\n",
      "[0.53353648]\n",
      "[-2.08247181]\n",
      "[-2.14131002]\n",
      "[-3.83625577]\n",
      "[-1.05642846]\n",
      "[-3.83625577]\n",
      "[-1.42916038]\n",
      "[-3.77741756]\n",
      "[-2.08247181]\n",
      "[-3.83625577]\n",
      "[-1.42916038]\n",
      "[0.067896]\n",
      "[-1.05642846]\n",
      "[-3.83625577]\n",
      "[-1.10425837]\n",
      "[-1.05642846]\n",
      "[-3.77741756]\n",
      "[-3.83625577]\n",
      "[-1.05642846]\n",
      "[-1.10425837]\n",
      "[0.53353648]\n",
      "[-2.14131002]\n",
      "[-1.05642846]\n",
      "[0.53353648]\n",
      "[-1.05642846]\n",
      "[-1.05642846]\n",
      "[-3.77741756]\n",
      "[-2.08247181]\n",
      "[-3.77741756]\n",
      "[-1.42916038]\n",
      "[-1.42916038]\n",
      "[-3.77741756]\n",
      "[-3.77741756]\n",
      "[-3.77741756]\n",
      "[-1.42916038]\n",
      "[-1.05642846]\n",
      "[-3.77741756]\n",
      "[-1.05642846]\n",
      "[-3.83625577]\n",
      "[-1.05642846]\n",
      "[-1.16309659]\n",
      "[-3.77741756]\n",
      "[-1.05642846]\n",
      "[-1.05642846]\n",
      "[-1.05642846]\n",
      "[-1.16309659]\n",
      "[-3.77741756]\n",
      "[-3.77741756]\n",
      "[0.9062684]\n",
      "[-1.42916038]\n",
      "[-1.10425837]\n",
      "[-2.08247181]\n",
      "[-3.77741756]\n",
      "[0.9062684]\n",
      "[-3.83625577]\n",
      "[-1.10425837]\n",
      "[-1.05642846]\n",
      "[-1.05642846]\n",
      "[-1.42916038]\n",
      "[-2.08247181]\n",
      "[-3.83625577]\n",
      "[-3.77741756]\n",
      "[-2.14131002]\n",
      "[-3.83625577]\n",
      "[-1.42916038]\n",
      "[-1.10425837]\n",
      "[-1.42916038]\n",
      "[-3.83625577]\n",
      "[-1.10425837]\n",
      "[-1.05642846]\n",
      "[-1.10425837]\n",
      "[-0.79327527]\n",
      "[-1.05642846]\n",
      "[-1.42916038]\n",
      "[-3.77741756]\n",
      "[-1.05642846]\n",
      "[-1.05642846]\n",
      "[-3.77741756]\n",
      "[-3.83625577]\n",
      "[-3.77741756]\n",
      "[-3.83625577]\n",
      "[-3.77741756]\n",
      "[0.067896]\n",
      "[0.067896]\n",
      "[-1.42916038]\n",
      "[-2.14131002]\n",
      "[-1.10425837]\n",
      "[0.067896]\n",
      "[-1.42916038]\n",
      "[-1.05642846]\n",
      "[-2.14131002]\n",
      "[-3.83625577]\n",
      "[-3.77741756]\n",
      "[-3.83625577]\n",
      "[-1.05642846]\n",
      "[-1.05642846]\n",
      "[-1.05642846]\n",
      "[-3.77741756]\n",
      "[-1.42916038]\n",
      "[-1.05642846]\n",
      "[-3.77741756]\n",
      "[0.53353648]\n",
      "[-3.83625577]\n",
      "[-1.42916038]\n",
      "[0.067896]\n",
      "[-2.08247181]\n",
      "[2.03059287]\n",
      "[0.067896]\n",
      "[0.53353648]\n",
      "[-1.10425837]\n",
      "[-2.14131002]\n",
      "[2.03059287]\n",
      "[2.03059287]\n",
      "[-1.16309659]\n",
      "[-2.14131002]\n",
      "[-3.77741756]\n"
     ]
    },
    {
     "name": "stderr",
     "output_type": "stream",
     "text": [
      "100%|██████████████████████████████████████████████████████████████████████████████| 399/399 [00:00<00:00, 1058.21it/s]\n"
     ]
    },
    {
     "name": "stdout",
     "output_type": "stream",
     "text": [
      "[-3.83625577]\n",
      "[-1.05642846]\n",
      "[-3.77741756]\n",
      "[-1.05642846]\n",
      "[0.067896]\n",
      "[-3.77741756]\n",
      "[-1.05642846]\n",
      "[-3.77741756]\n",
      "[-3.83625577]\n",
      "[-1.42916038]\n",
      "[-1.16309659]\n",
      "[-2.08247181]\n",
      "[0.9062684]\n",
      "[-1.05642846]\n",
      "[-1.05642846]\n",
      "[-3.77741756]\n",
      "[-3.83625577]\n",
      "[-1.16309659]\n",
      "[-3.77741756]\n",
      "[-2.14131002]\n",
      "[-1.05642846]\n",
      "[-1.42916038]\n",
      "[-3.77741756]\n",
      "[-1.16309659]\n",
      "[-1.10425837]\n",
      "[-1.05642846]\n",
      "[-3.83625577]\n",
      "[-1.42916038]\n",
      "[-1.16309659]\n",
      "[-3.83625577]\n",
      "[0.53353648]\n",
      "[-3.77741756]\n",
      "[-3.83625577]\n",
      "[-1.05642846]\n",
      "[-1.16309659]\n",
      "[-1.05642846]\n",
      "[-1.16309659]\n",
      "[-1.05642846]\n",
      "[-1.10425837]\n",
      "[0.9062684]\n",
      "[-1.16309659]\n",
      "[-3.77741756]\n",
      "[-1.05642846]\n",
      "[0.067896]\n",
      "[-3.83625577]\n",
      "[-1.05642846]\n",
      "[-1.42916038]\n",
      "[-3.77741756]\n",
      "[-1.05642846]\n",
      "[-1.05642846]\n",
      "[-1.16309659]\n",
      "[0.53353648]\n",
      "[-1.42916038]\n",
      "[-2.14131002]\n",
      "[0.067896]\n",
      "[-2.08247181]\n",
      "[-3.77741756]\n",
      "[-1.05642846]\n",
      "[-2.14131002]\n",
      "[0.53353648]\n",
      "[-3.77741756]\n",
      "[-1.42916038]\n",
      "[0.53353648]\n",
      "[-1.42916038]\n",
      "[-3.83625577]\n",
      "[-1.16309659]\n",
      "[-1.05642846]\n",
      "[-1.10425837]\n",
      "[-3.77741756]\n",
      "[-1.10425837]\n",
      "[-2.08247181]\n",
      "[-1.42916038]\n",
      "[-3.77741756]\n",
      "[-2.14131002]\n",
      "[-1.16309659]\n",
      "[0.53353648]\n",
      "[-1.42916038]\n",
      "[-3.83625577]\n",
      "[-3.83625577]\n",
      "[-1.05642846]\n",
      "[-3.77741756]\n",
      "[-1.16309659]\n",
      "[-1.42916038]\n",
      "[-1.10425837]\n",
      "[-3.77741756]\n",
      "[-1.05642846]\n",
      "[-2.14131002]\n",
      "[-1.05642846]\n",
      "[0.067896]\n",
      "[-1.05642846]\n",
      "[-2.14131002]\n",
      "[-3.83625577]\n",
      "[-1.42916038]\n",
      "[-1.16309659]\n",
      "[-3.77741756]\n",
      "[-1.10425837]\n",
      "[-1.42916038]\n",
      "[-1.05642846]\n",
      "[-1.10425837]\n",
      "[-2.08247181]\n",
      "[-3.77741756]\n",
      "[-0.79327527]\n",
      "[0.9062684]\n",
      "[-1.05642846]\n",
      "[-1.05642846]\n",
      "[0.53353648]\n",
      "[-3.83625577]\n",
      "[-3.77741756]\n",
      "[-1.16309659]\n",
      "[-1.05642846]\n",
      "[0.53353648]\n",
      "[0.53353648]\n",
      "[-1.42916038]\n",
      "[-3.83625577]\n",
      "[-1.10425837]\n",
      "[-3.77741756]\n",
      "[-1.10425837]\n",
      "[-2.08247181]\n",
      "[-2.08247181]\n",
      "[-2.08247181]\n",
      "[0.53353648]\n",
      "[-1.05642846]\n",
      "[0.067896]\n",
      "[-2.14131002]\n",
      "[-1.05642846]\n",
      "[-1.05642846]\n",
      "[-1.05642846]\n",
      "[-2.14131002]\n",
      "[-1.42916038]\n",
      "[-3.77741756]\n",
      "[-1.42916038]\n",
      "[-1.42916038]\n",
      "[0.067896]\n",
      "[-1.42916038]\n",
      "[-1.42916038]\n",
      "[-1.42916038]\n",
      "[-1.42916038]\n",
      "[-3.83625577]\n",
      "[-2.08247181]\n",
      "[-3.77741756]\n",
      "[-3.77741756]\n",
      "[-1.42916038]\n",
      "[-3.83625577]\n",
      "[0.9062684]\n",
      "[-1.05642846]\n",
      "[-1.42916038]\n",
      "[-3.83625577]\n",
      "[-1.05642846]\n",
      "[-1.42916038]\n",
      "[-1.05642846]\n",
      "[-1.05642846]\n",
      "[0.53353648]\n",
      "[0.53353648]\n",
      "[-2.14131002]\n",
      "[0.067896]\n",
      "[-1.42916038]\n",
      "[-1.10425837]\n",
      "[-2.08247181]\n",
      "[0.067896]\n",
      "[-3.77741756]\n",
      "[-1.42916038]\n",
      "[0.53353648]\n",
      "[-1.10425837]\n",
      "[-1.10425837]\n",
      "[-1.05642846]\n",
      "[-3.83625577]\n",
      "[-3.83625577]\n",
      "[-1.05642846]\n",
      "[-3.83625577]\n",
      "[-1.05642846]\n",
      "[-3.77741756]\n",
      "[-3.83625577]\n",
      "[-3.77741756]\n",
      "[-1.10425837]\n",
      "Outlier classification: Results...\n",
      "Predicted points test:  [0 0 0 0 0 0 0 0 0 1 0 1 0 0 0 0 0 0 0 0 0 0 0 0 0 0 0 0 0 0 0 0 0 0 0 0 0\n",
      " 0 0 0 0 0 0 0 0 0 0 0 0 0 0 0 1 0 0 0 0 0 0 0 0 0 1 1 1 0 0 0 0 0 0 0 0 1\n",
      " 0 0 0 0 0 0 0 0 0 0 0 0 0 0 0 0 0 0 0 0 0 0 0 0 0 0 0 0 0 0 0 0 0 0 0 0 0\n",
      " 0 0 0 0 0 0 0 0 0 0 0 0 0 0 0 0 0 1 0 0 0 0 0 0 0 0 0 0 0 0 0 0 0 0 0 0 0\n",
      " 0 0 0 0 0 0 0 0 0 1 0 1 0 0 1 0 0 0 0 0 0 0 0 0 0 0 0 0 0 0 0 0 1 0 0 0 0\n",
      " 0 0 0 0 0 0 0 0 0 0 0 0 0 0 0 0 0 0 0 0 0 0 0 0 0 0 0 0 0 0 0 0 0 1 0 0 0\n",
      " 0 0 0 0 0 0 0 0 0 0 0 0 0 0 0 1 0 0 0 0 0 0 0 0 0 0 0 0 0 0 0 0 0 0 0 0 0\n",
      " 0 0 0 0 0 1 0 0 0 0 0 0 0 0 0 0 0 0 0 0 0 0 0 0 0 0 0 0 0 0 0 0 0 0 0 0 0\n",
      " 0 0 0 1 0 0 0 0 0 0 0 0 0 0 0 0 0 0 0 0 0 0 0 0 0 0 0 0 0 0 1 1 0 0 0 0 0\n",
      " 0 0 0 0 0 0 0 0 0 0 0 0 0 0 0 0 0 0 0 0 0 0 0 0 0 0 0 0 0 0 0 0 0 0 0 1 0\n",
      " 0 0 0 0 0 0 0 0 0 0 0 0 0 0 0 0 0 0 1 0 0 0 0 0 0 0 0 0 0 1 1 0 1 0]\n",
      "Accuracy: 0.9455445544554455, Precision: 0.13043478260869565, Recall: 0.6, F1-Score: 0.21428571428571427, \n",
      "Num True Negative: 379, Num False Negative: 2, Num True Positive: 3, Num False Positive: 20\n",
      "Outlier threshold:  -1.1741346524048324\n",
      "Average clusterpoint energy:  -4.788976112411256\n",
      "Outlier energy:  [[ 3.57871864]\n",
      " [ 1.49331492]\n",
      " [-2.67869893]\n",
      " [ 1.13531815]\n",
      " [-1.8553935 ]]\n"
     ]
    },
    {
     "data": {
      "text/plain": [
       "<Figure size 640x480 with 0 Axes>"
      ]
     },
     "execution_count": 136,
     "metadata": {},
     "output_type": "execute_result"
    },
    {
     "data": {
      "image/png": "[encoded data removed]",
      "text/plain": [
       "<Figure size 640x480 with 1 Axes>"
      ]
     },
     "metadata": {},
     "output_type": "display_data"
    },
    {
     "data": {
      "text/plain": [
       "<Figure size 640x480 with 0 Axes>"
      ]
     },
     "metadata": {},
     "output_type": "display_data"
    }
   ],
   "source": [
    "#weights=qbm.H.θ\n",
    "import seaborn as sns\n",
    "\n",
    "#training_data=numpy.expand_dims(training_data[:,0],axis=1)\n",
    "outliers = qbm.get_binary_outliers(\n",
    "dataset=testing_dataset, outlier_index=CLUSTER+1)\n",
    "\n",
    "#outliers=numpy.expand_dims(outliers[:,0],axis=1)\n",
    "print(outliers)\n",
    "\n",
    "points = qbm.get_binary_cluster_points(\n",
    "dataset=testing_dataset, cluster_index=CLUSTER )\n",
    "\n",
    "#points=numpy.expand_dims(points[:,0],axis=1)\n",
    "#print(points)\n",
    "predict_points_cluster = np.zeros(len(points), dtype=int)\n",
    "predict_points_outliers = np.zeros(len(outliers), dtype=int)\n",
    "qbm.calculate_outlier_threshold(.95)\n",
    "print(\"Outlier threshold: \", qbm.outlier_threshold)\n",
    "print(\"Calculate outlier Energy\")\n",
    "\n",
    "testing_data, testing_labels = split_dataset_labels(testing_dataset)\n",
    "#testing_data=numpy.expand_dims(testing_data[:,0],axis=1)\n",
    "\n",
    "outlier_energy = []\n",
    "for index, outlier in enumerate(tqdm(outliers), 0):\n",
    "    outlier = np.reshape(outlier, (qbm.dim_input))\n",
    "    predict_points_outliers[index], this_outlier_energy = qbm.predict_point_as_outlier(\n",
    "        outlier)\n",
    "    outlier_energy.append(this_outlier_energy)\n",
    "outlier_energy = np.array(outlier_energy)\n",
    "\n",
    "o = outlier_energy.reshape((outlier_energy.shape[0]))\n",
    "\n",
    "print(\"Calculate cluster energy\")\n",
    "cluster_point_energy = []\n",
    "\n",
    "for index, point in enumerate(tqdm(points), 0):\n",
    "    point = np.reshape(point, (qbm.dim_input))\n",
    "    predict_points_cluster[index], this_cluster_point_energy = qbm.predict_point_as_outlier(\n",
    "        point)\n",
    "    cluster_point_energy.append(this_cluster_point_energy)\n",
    "cluster_point_energy = np.array(cluster_point_energy)\n",
    "\n",
    "c = cluster_point_energy.reshape((cluster_point_energy.shape[0]))\n",
    "\n",
    "title='test'\n",
    "#qbmqsp.src.utils.save_output(title=\"cluster_\" + title, object=c)\n",
    "#QBM.plot_energy_diff([o, c], qbm.outlier_threshold, title + \".pdf\")\n",
    "\n",
    "#QBM.plot_hist(c, o, qbm.outlier_threshold, \"qbm_hist\" + \".pdf\")\n",
    "\n",
    "########## OUTLIER CLASSIFICATION ##########\n",
    "print('Outlier classification: Results...')\n",
    "predict_points = np.concatenate(\n",
    "    (predict_points_cluster, predict_points_outliers))\n",
    "\n",
    "print(\"Predicted points test: \", predict_points)\n",
    "\n",
    "true_points = np.concatenate(\n",
    "    (np.zeros_like(cluster_point_energy), np.ones_like(outlier_energy)))\n",
    "\n",
    "accuracy, precision, recall = accuracy_score(true_points, predict_points), precision_score(\n",
    "    true_points, predict_points), recall_score(true_points, predict_points)\n",
    "f1 = f1_score(true_points, predict_points)\n",
    "tn, fp, fn, tp = confusion_matrix(\n",
    "    true_points, predict_points, labels=[0, 1]).ravel()\n",
    "\n",
    "print(f'Accuracy: {accuracy}, Precision: {precision}, Recall: {recall}, F1-Score: {f1}, \\nNum True Negative: {tn}, Num False Negative: {fn}, Num True Positive: {tp}, Num False Positive: {fp}')\n",
    "\n",
    "#print(f'Wallclock time: {(end-start):.2f} seconds')\n",
    "\n",
    "print(\"Outlier threshold: \", qbm.outlier_threshold)\n",
    "print(\"Average clusterpoint energy: \", np.average(cluster_point_energy))\n",
    "print(\"Outlier energy: \", outlier_energy)\n",
    "plt.figure()\n",
    "plt.title('Test Dataset')\n",
    "lab=3\n",
    "sns.scatterplot(x=testing_data[:,0],y=testing_data[:,1])\n",
    "sns.scatterplot(c='r',x=testing_data[:,0][testing_labels>lab],y=testing_data[:,1][testing_labels>lab])\n",
    "plt.figure()\n",
    "\n"
   ]
  },
  {
   "cell_type": "code",
   "execution_count": 85,
   "id": "3f13a400-fac3-4bc0-886b-7fb05201716f",
   "metadata": {},
   "outputs": [],
   "source": [
    "weights=[]\n",
    "for b in [12,15,17,20,23,26,29,31]:\n",
    "    weights.append(np.load(f'./weights_8_1_un_5_epochs_b{b}.npz')['arr_0'])"
   ]
  },
  {
   "cell_type": "code",
   "execution_count": 86,
   "id": "60fc9d59-6443-4c69-82f6-59419b9f4483",
   "metadata": {},
   "outputs": [
    {
     "name": "stdout",
     "output_type": "stream",
     "text": [
      "Outlier threshold:  -0.04186918483044033\n",
      "Calculate outlier Energy\n"
     ]
    },
    {
     "name": "stderr",
     "output_type": "stream",
     "text": [
      "100%|███████████████████████████████████████████████████████████████████████████████████| 5/5 [00:00<00:00, 623.76it/s]\n"
     ]
    },
    {
     "name": "stdout",
     "output_type": "stream",
     "text": [
      "Calculate cluster energy\n"
     ]
    },
    {
     "name": "stderr",
     "output_type": "stream",
     "text": [
      "100%|███████████████████████████████████████████████████████████████████████████████| 399/399 [00:00<00:00, 744.55it/s]\n"
     ]
    },
    {
     "name": "stdout",
     "output_type": "stream",
     "text": [
      "Outlier classification: Results...\n",
      "Predicted points test:  [0 0 0 1 0 1 0 0 0 0 0 0 0 0 0 0 0 0 0 0 0 0 0 0 0 0 0 0 0 0 0 1 0 0 0 0 0\n",
      " 0 0 0 1 0 0 1 0 0 0 0 0 0 0 0 0 0 0 0 0 1 0 0 1 0 0 0 1 0 0 0 0 0 0 0 0 0\n",
      " 0 0 0 0 1 0 0 0 0 0 0 0 0 0 0 0 0 0 0 0 0 0 0 0 0 0 0 0 0 0 0 0 0 0 0 0 0\n",
      " 0 0 0 1 0 0 0 0 0 0 0 0 0 0 0 0 0 0 0 0 0 0 0 0 0 0 0 0 0 0 0 0 0 0 0 0 0\n",
      " 0 0 0 0 0 0 0 0 0 0 0 0 0 0 0 0 0 0 0 0 0 0 0 0 0 0 0 0 0 0 0 0 0 0 0 0 0\n",
      " 0 0 1 0 0 0 1 0 0 1 0 0 0 0 1 0 0 0 0 0 0 1 1 0 0 0 0 0 0 0 0 0 0 0 0 0 0\n",
      " 1 1 0 0 1 0 0 0 0 0 0 0 0 0 0 1 0 0 1 0 0 0 0 0 0 0 0 0 0 0 0 1 0 0 0 0 0\n",
      " 0 0 0 0 0 0 0 0 0 0 0 0 0 0 0 1 1 0 0 0 0 0 0 0 0 0 0 0 0 0 0 0 0 0 0 0 0\n",
      " 0 0 1 0 0 0 1 0 1 0 0 0 0 0 0 0 0 0 0 0 0 0 0 0 0 0 0 0 0 0 0 0 0 0 1 0 0\n",
      " 0 0 1 0 0 0 0 0 0 0 0 0 0 0 0 0 0 0 0 0 0 0 0 0 0 1 0 0 0 1 0 0 0 1 0 0 0\n",
      " 0 0 0 0 0 0 0 0 0 0 0 0 0 0 0 0 0 0 0 0 0 0 0 0 0 0 0 0 0 0 1 1 0 1]\n",
      "Accuracy: 0.9158415841584159, Precision: 0.08571428571428572, Recall: 0.6, F1-Score: 0.15, \n",
      "Num True Negative: 367, Num False Negative: 2, Num True Positive: 3, Num False Positive: 32\n",
      "Outlier threshold:  -0.04186918483044033\n",
      "Average clusterpoint energy:  -0.2023508334889025\n",
      "Outlier energy:  [[-0.15580395]\n",
      " [ 0.11295939]\n",
      " [ 0.12098073]\n",
      " [-0.17714154]\n",
      " [ 0.38754335]]\n",
      "Outlier threshold:  -0.08377768154967541\n",
      "Calculate outlier Energy\n"
     ]
    },
    {
     "name": "stderr",
     "output_type": "stream",
     "text": [
      "100%|███████████████████████████████████████████████████████████████████████████████████| 5/5 [00:00<00:00, 705.52it/s]\n"
     ]
    },
    {
     "name": "stdout",
     "output_type": "stream",
     "text": [
      "Calculate cluster energy\n"
     ]
    },
    {
     "name": "stderr",
     "output_type": "stream",
     "text": [
      "100%|███████████████████████████████████████████████████████████████████████████████| 399/399 [00:00<00:00, 808.61it/s]\n"
     ]
    },
    {
     "name": "stdout",
     "output_type": "stream",
     "text": [
      "Outlier classification: Results...\n",
      "Predicted points test:  [0 0 0 0 0 0 0 0 0 0 0 0 0 0 0 0 0 0 0 0 0 0 0 0 0 0 0 0 0 0 0 1 0 0 0 0 0\n",
      " 0 0 0 0 1 0 0 0 0 0 0 0 0 0 0 0 0 0 0 0 1 0 0 1 0 0 0 0 0 0 0 0 0 0 0 0 0\n",
      " 0 0 0 0 0 0 0 0 0 0 0 0 0 0 0 0 0 0 0 0 0 0 0 0 0 0 0 0 0 0 0 0 0 0 0 0 0\n",
      " 0 0 0 1 0 0 0 0 0 0 0 0 0 0 0 0 0 0 0 0 0 0 0 0 0 0 0 0 0 0 0 0 0 0 0 0 0\n",
      " 0 0 0 0 0 0 0 0 0 0 0 1 0 0 0 0 0 0 0 0 1 0 0 0 0 0 0 0 0 0 0 0 0 0 0 0 0\n",
      " 0 0 0 0 0 0 1 0 0 0 0 0 0 0 1 0 0 0 0 0 0 0 1 0 0 0 0 0 0 0 0 0 0 0 0 0 0\n",
      " 1 1 0 0 0 0 0 0 0 0 0 0 0 0 0 0 0 0 1 0 0 0 0 0 0 0 0 0 0 0 0 1 0 0 0 0 0\n",
      " 0 0 0 0 0 0 0 0 0 0 0 0 0 0 0 1 0 0 0 0 0 0 0 0 0 1 0 0 0 0 0 0 0 0 0 0 0\n",
      " 0 0 1 0 0 0 0 0 0 0 0 0 0 0 0 0 0 0 0 0 0 0 0 0 0 0 0 0 0 0 0 0 0 0 1 0 0\n",
      " 0 0 0 0 0 0 0 0 0 0 0 0 0 0 0 0 0 0 0 0 0 0 0 0 0 1 0 0 0 0 0 0 0 0 0 0 0\n",
      " 0 0 0 0 0 0 0 0 0 0 0 0 0 0 0 0 0 0 0 0 0 0 0 0 0 0 0 0 0 0 1 1 0 1]\n",
      "Accuracy: 0.948019801980198, Precision: 0.13636363636363635, Recall: 0.6, F1-Score: 0.2222222222222222, \n",
      "Num True Negative: 380, Num False Negative: 2, Num True Positive: 3, Num False Positive: 19\n",
      "Outlier threshold:  -0.08377768154967541\n",
      "Average clusterpoint energy:  -0.39404368696305686\n",
      "Outlier energy:  [[-0.28516961]\n",
      " [ 0.3123479 ]\n",
      " [ 0.11494464]\n",
      " [-0.29310037]\n",
      " [ 0.60557679]]\n",
      "Outlier threshold:  -0.10903054910600044\n",
      "Calculate outlier Energy\n"
     ]
    },
    {
     "name": "stderr",
     "output_type": "stream",
     "text": [
      "100%|███████████████████████████████████████████████████████████████████████████████████| 5/5 [00:00<00:00, 674.07it/s]\n"
     ]
    },
    {
     "name": "stdout",
     "output_type": "stream",
     "text": [
      "Calculate cluster energy\n"
     ]
    },
    {
     "name": "stderr",
     "output_type": "stream",
     "text": [
      "100%|███████████████████████████████████████████████████████████████████████████████| 399/399 [00:00<00:00, 879.00it/s]\n"
     ]
    },
    {
     "name": "stdout",
     "output_type": "stream",
     "text": [
      "Outlier classification: Results...\n",
      "Predicted points test:  [0 0 0 0 0 0 0 0 0 0 0 0 0 0 0 0 0 0 0 0 0 0 0 0 0 0 0 0 0 0 0 1 0 0 0 0 0\n",
      " 0 0 0 1 1 0 0 0 0 0 0 0 0 0 0 0 0 0 0 0 1 0 0 1 0 0 0 0 0 0 0 0 0 0 0 0 0\n",
      " 0 0 0 0 0 0 0 0 0 0 0 0 0 0 0 0 0 0 0 0 0 0 0 0 0 0 0 0 0 0 0 0 0 0 0 0 0\n",
      " 0 0 0 1 0 0 0 0 0 0 0 0 0 0 0 0 0 0 0 0 0 0 0 0 0 0 0 0 0 0 0 0 0 0 0 0 0\n",
      " 0 0 0 0 0 0 0 0 0 0 0 0 0 0 0 0 0 0 0 0 1 0 0 0 0 0 0 0 0 0 0 0 0 0 0 0 0\n",
      " 0 0 0 0 0 0 1 0 0 0 0 0 0 0 1 0 0 0 0 0 0 0 1 0 0 0 0 0 0 0 0 0 0 0 0 0 0\n",
      " 0 0 0 0 0 0 0 0 0 0 0 0 0 0 0 0 0 0 1 0 0 0 0 0 0 0 0 0 0 0 0 1 0 0 0 0 0\n",
      " 0 0 0 0 0 0 0 0 0 0 0 0 0 0 0 1 0 0 0 0 0 0 0 0 0 1 0 0 0 0 0 0 0 0 0 0 0\n",
      " 0 0 1 0 0 0 0 0 0 0 0 0 0 0 0 0 0 0 0 0 0 0 0 0 0 0 0 0 0 0 0 0 0 0 1 0 0\n",
      " 0 0 0 0 0 0 0 0 0 0 0 0 0 0 0 0 0 0 0 0 0 0 0 0 0 1 0 0 0 0 0 0 0 0 0 0 0\n",
      " 0 0 0 0 0 0 0 0 0 0 0 0 0 0 0 0 0 0 0 0 0 0 0 0 0 0 0 0 0 0 1 1 0 1]\n",
      "Accuracy: 0.9529702970297029, Precision: 0.15, Recall: 0.6, F1-Score: 0.24, \n",
      "Num True Negative: 382, Num False Negative: 2, Num True Positive: 3, Num False Positive: 17\n",
      "Outlier threshold:  -0.10903054910600044\n",
      "Average clusterpoint energy:  -0.5663289569322638\n",
      "Outlier energy:  [[-0.33328697]\n",
      " [ 0.30610868]\n",
      " [ 0.25143635]\n",
      " [-0.44860204]\n",
      " [ 0.99946603]]\n",
      "Outlier threshold:  -0.12656416243401497\n",
      "Calculate outlier Energy\n"
     ]
    },
    {
     "name": "stderr",
     "output_type": "stream",
     "text": [
      "100%|███████████████████████████████████████████████████████████████████████████████████| 5/5 [00:00<00:00, 765.16it/s]\n"
     ]
    },
    {
     "name": "stdout",
     "output_type": "stream",
     "text": [
      "Calculate cluster energy\n"
     ]
    },
    {
     "name": "stderr",
     "output_type": "stream",
     "text": [
      "100%|███████████████████████████████████████████████████████████████████████████████| 399/399 [00:00<00:00, 919.93it/s]\n"
     ]
    },
    {
     "name": "stdout",
     "output_type": "stream",
     "text": [
      "Outlier classification: Results...\n",
      "Predicted points test:  [0 0 0 0 0 0 0 0 0 0 0 0 0 0 0 0 0 0 0 0 0 0 0 0 0 0 0 0 0 0 0 1 0 0 0 0 0\n",
      " 0 0 0 1 1 0 0 0 0 0 0 0 0 0 0 0 0 0 0 0 1 0 0 1 0 0 0 0 0 0 0 0 0 0 0 0 0\n",
      " 0 0 0 0 0 0 0 0 0 0 0 0 0 0 0 0 0 0 0 0 0 0 0 0 0 0 0 0 0 0 0 0 0 0 0 0 0\n",
      " 0 0 0 1 0 0 0 0 0 0 0 0 0 0 0 0 0 0 0 0 0 0 0 0 0 0 0 0 0 0 0 0 0 0 0 0 0\n",
      " 0 0 0 0 0 0 0 0 0 0 0 1 0 0 0 0 0 0 0 0 1 0 0 0 0 0 0 0 0 0 0 0 0 0 0 0 0\n",
      " 0 0 0 0 0 0 1 0 0 0 0 0 0 0 0 0 0 0 0 0 0 0 1 0 0 0 0 0 0 0 0 0 0 0 0 0 0\n",
      " 1 0 0 0 0 0 0 0 0 0 0 0 0 0 0 0 0 0 1 0 0 0 0 0 0 0 0 0 0 0 0 0 0 0 0 0 0\n",
      " 0 0 0 0 0 0 0 0 0 0 0 0 0 0 0 0 0 0 0 0 0 0 0 0 0 0 0 0 0 0 0 0 0 0 0 0 0\n",
      " 0 0 1 0 0 0 0 0 0 0 0 0 0 0 0 0 0 0 0 0 0 0 0 0 0 0 0 0 0 0 0 0 0 0 1 0 0\n",
      " 0 0 0 0 0 0 0 0 0 0 0 0 0 0 0 0 0 0 0 0 0 0 0 0 0 1 0 0 0 0 0 0 0 0 0 0 0\n",
      " 0 0 0 0 0 0 0 0 0 0 0 0 0 0 0 0 0 0 0 0 0 0 0 0 0 0 0 0 0 0 1 1 0 1]\n",
      "Accuracy: 0.9579207920792079, Precision: 0.16666666666666666, Recall: 0.6, F1-Score: 0.2608695652173913, \n",
      "Num True Negative: 384, Num False Negative: 2, Num True Positive: 3, Num False Positive: 15\n",
      "Outlier threshold:  -0.12656416243401497\n",
      "Average clusterpoint energy:  -0.7035611505726332\n",
      "Outlier energy:  [[-0.41541371]\n",
      " [ 0.46618667]\n",
      " [ 0.31254225]\n",
      " [-0.55533163]\n",
      " [ 1.1271046 ]]\n",
      "Outlier threshold:  -0.14096912305643702\n",
      "Calculate outlier Energy\n"
     ]
    },
    {
     "name": "stderr",
     "output_type": "stream",
     "text": [
      "100%|███████████████████████████████████████████████████████████████████████████████████| 5/5 [00:00<00:00, 511.30it/s]\n"
     ]
    },
    {
     "name": "stdout",
     "output_type": "stream",
     "text": [
      "Calculate cluster energy\n"
     ]
    },
    {
     "name": "stderr",
     "output_type": "stream",
     "text": [
      "100%|███████████████████████████████████████████████████████████████████████████████| 399/399 [00:00<00:00, 870.83it/s]\n"
     ]
    },
    {
     "name": "stdout",
     "output_type": "stream",
     "text": [
      "Outlier classification: Results...\n",
      "Predicted points test:  [0 0 0 0 0 0 0 0 0 0 0 0 0 0 0 0 0 0 0 0 0 0 0 0 0 0 0 0 0 0 0 1 0 0 0 0 0\n",
      " 0 0 0 0 1 0 0 0 0 0 0 0 0 0 0 0 0 0 0 0 1 0 0 1 0 0 0 0 0 0 0 0 0 0 0 0 0\n",
      " 0 0 0 0 0 0 0 0 0 0 0 0 0 0 0 0 0 0 0 0 0 0 0 0 0 0 0 0 0 0 0 0 0 0 0 0 0\n",
      " 0 0 0 1 0 0 0 0 0 0 0 0 0 0 0 0 0 0 0 0 0 0 0 0 0 0 0 0 0 0 0 0 0 0 0 0 0\n",
      " 0 0 0 0 0 0 0 0 0 0 0 1 0 0 0 0 0 0 0 0 0 0 0 0 0 0 0 0 0 0 0 0 0 0 0 0 0\n",
      " 0 0 0 0 0 0 1 0 0 0 0 0 0 0 1 0 0 0 0 0 0 0 1 0 0 0 0 0 0 0 0 0 0 0 0 0 0\n",
      " 1 0 0 0 0 0 0 0 0 0 0 0 0 0 0 0 0 0 1 0 0 0 0 0 0 0 0 0 0 0 0 1 0 0 0 0 0\n",
      " 0 0 0 0 0 0 0 0 0 0 0 0 0 0 0 1 0 0 0 0 0 0 0 0 0 1 0 0 0 0 0 0 0 0 0 0 0\n",
      " 0 0 1 0 0 0 0 0 0 0 0 0 0 0 0 0 0 0 0 0 0 0 0 0 0 0 0 0 0 0 0 0 0 0 1 0 0\n",
      " 0 0 0 0 0 0 0 0 0 0 0 0 0 0 0 0 0 0 0 0 0 0 0 0 0 1 0 0 0 0 0 0 0 0 0 0 0\n",
      " 0 0 0 0 0 0 0 0 0 0 0 0 0 0 0 0 0 0 0 0 0 0 0 0 0 0 0 0 0 0 1 1 0 1]\n",
      "Accuracy: 0.9529702970297029, Precision: 0.15, Recall: 0.6, F1-Score: 0.24, \n",
      "Num True Negative: 382, Num False Negative: 2, Num True Positive: 3, Num False Positive: 17\n",
      "Outlier threshold:  -0.14096912305643702\n",
      "Average clusterpoint energy:  -0.8279743341834016\n",
      "Outlier energy:  [[-0.49221219]\n",
      " [ 0.42600014]\n",
      " [ 0.30225231]\n",
      " [-0.66604289]\n",
      " [ 1.34177477]]\n",
      "Outlier threshold:  -0.001054688899165157\n",
      "Calculate outlier Energy\n"
     ]
    },
    {
     "name": "stderr",
     "output_type": "stream",
     "text": [
      "100%|███████████████████████████████████████████████████████████████████████████████████| 5/5 [00:00<00:00, 615.51it/s]\n"
     ]
    },
    {
     "name": "stdout",
     "output_type": "stream",
     "text": [
      "Calculate cluster energy\n"
     ]
    },
    {
     "name": "stderr",
     "output_type": "stream",
     "text": [
      "100%|███████████████████████████████████████████████████████████████████████████████| 399/399 [00:00<00:00, 820.40it/s]\n"
     ]
    },
    {
     "name": "stdout",
     "output_type": "stream",
     "text": [
      "Outlier classification: Results...\n",
      "Predicted points test:  [0 0 0 0 0 0 0 0 0 0 0 0 1 0 0 0 0 0 0 0 0 0 0 0 0 0 0 0 0 0 0 1 0 0 0 0 0\n",
      " 0 0 0 0 0 0 1 0 0 0 0 0 0 0 0 0 0 0 0 0 1 0 0 1 0 1 0 0 0 0 0 0 0 0 0 0 0\n",
      " 0 0 0 0 1 0 0 0 0 0 0 0 0 0 0 0 0 0 0 0 0 0 0 0 0 0 0 0 0 0 0 0 0 0 0 0 0\n",
      " 0 0 0 1 0 0 0 0 0 0 0 0 0 0 0 0 0 0 0 0 0 0 0 0 0 0 0 0 0 0 0 0 0 0 0 1 0\n",
      " 0 0 0 0 0 0 0 0 0 0 0 0 0 0 0 0 1 0 0 0 0 0 0 0 0 0 0 0 0 0 0 0 0 0 0 0 0\n",
      " 0 0 1 0 0 0 0 0 0 1 0 0 0 0 0 0 0 0 0 0 0 0 0 0 0 0 0 0 0 0 0 0 0 0 0 0 0\n",
      " 0 0 0 1 1 0 0 0 0 0 0 0 0 0 0 1 0 0 1 0 0 0 0 0 1 1 0 0 0 0 0 0 0 0 0 0 0\n",
      " 0 0 0 0 0 0 0 0 0 0 0 0 0 0 0 0 1 0 0 0 0 0 0 0 0 0 0 0 0 0 0 0 0 0 0 0 0\n",
      " 0 0 1 0 0 0 0 0 0 0 0 0 0 0 0 0 0 0 0 0 0 0 0 0 0 0 0 0 0 0 0 0 0 0 1 0 0\n",
      " 0 0 0 0 0 0 0 0 0 0 0 0 0 1 0 0 0 0 0 0 0 0 0 0 0 1 0 0 0 1 0 0 0 1 0 0 0\n",
      " 0 1 0 0 0 0 1 0 0 1 0 0 0 0 0 0 0 0 0 0 0 0 0 0 0 0 0 0 0 0 1 1 0 1]\n",
      "Accuracy: 0.9257425742574258, Precision: 0.0967741935483871, Recall: 0.6, F1-Score: 0.16666666666666666, \n",
      "Num True Negative: 371, Num False Negative: 2, Num True Positive: 3, Num False Positive: 28\n",
      "Outlier threshold:  -0.001054688899165157\n",
      "Average clusterpoint energy:  -0.16547313219033055\n",
      "Outlier energy:  [[-0.15426295]\n",
      " [ 0.0959793 ]\n",
      " [ 0.03347287]\n",
      " [-0.1399522 ]\n",
      " [ 0.15836261]]\n",
      "Outlier threshold:  -0.08402230628721591\n",
      "Calculate outlier Energy\n"
     ]
    },
    {
     "name": "stderr",
     "output_type": "stream",
     "text": [
      "100%|███████████████████████████████████████████████████████████████████████████████████| 5/5 [00:00<00:00, 651.47it/s]\n"
     ]
    },
    {
     "name": "stdout",
     "output_type": "stream",
     "text": [
      "Calculate cluster energy\n"
     ]
    },
    {
     "name": "stderr",
     "output_type": "stream",
     "text": [
      "100%|███████████████████████████████████████████████████████████████████████████████| 399/399 [00:00<00:00, 906.56it/s]\n"
     ]
    },
    {
     "name": "stdout",
     "output_type": "stream",
     "text": [
      "Outlier classification: Results...\n",
      "Predicted points test:  [0 0 0 0 0 0 0 0 0 0 0 0 0 0 0 0 0 0 0 0 0 0 0 0 0 0 0 0 0 0 0 1 0 0 0 0 0\n",
      " 0 0 0 1 0 0 0 0 0 0 0 0 0 0 0 0 0 0 0 0 1 0 0 1 0 0 0 0 0 0 0 0 0 0 0 0 0\n",
      " 0 0 0 0 0 0 0 0 0 0 0 0 0 0 0 0 0 0 0 0 0 0 0 0 0 0 0 0 0 0 0 0 0 0 0 0 0\n",
      " 0 0 0 1 0 0 0 0 0 0 0 0 0 0 0 0 0 0 0 0 0 0 0 0 0 0 0 0 0 0 0 0 0 0 0 0 0\n",
      " 0 0 0 0 0 0 0 0 0 0 0 0 0 0 0 0 0 0 0 0 0 0 0 0 0 0 0 0 0 0 0 1 0 0 0 0 0\n",
      " 0 0 0 0 0 0 0 0 0 0 0 0 0 0 1 0 0 0 0 0 0 0 0 0 0 0 0 0 0 0 0 0 0 0 0 0 0\n",
      " 0 0 0 0 1 0 0 0 0 0 0 0 0 0 0 0 0 0 1 0 0 0 0 0 0 0 0 0 0 0 0 0 0 0 0 0 0\n",
      " 0 0 0 0 0 0 0 0 0 0 0 0 0 0 0 1 0 0 0 0 0 0 0 0 0 0 0 0 0 0 0 0 0 0 0 0 0\n",
      " 0 0 1 0 0 0 0 0 0 0 0 0 0 0 0 0 0 1 0 0 0 0 0 0 0 0 0 0 0 0 0 0 0 0 1 0 0\n",
      " 0 0 0 0 0 1 0 0 0 0 0 0 0 0 0 0 0 1 0 0 0 0 0 0 0 1 0 0 0 0 0 0 0 0 0 0 0\n",
      " 0 0 0 0 0 0 0 0 0 0 0 0 0 0 0 0 0 0 0 0 0 0 0 0 0 0 0 0 0 0 1 1 0 1]\n",
      "Accuracy: 0.9554455445544554, Precision: 0.15789473684210525, Recall: 0.6, F1-Score: 0.25, \n",
      "Num True Negative: 383, Num False Negative: 2, Num True Positive: 3, Num False Positive: 16\n",
      "Outlier threshold:  -0.08402230628721591\n",
      "Average clusterpoint energy:  -0.3235914268576524\n",
      "Outlier energy:  [[-0.25522948]\n",
      " [ 0.19694583]\n",
      " [ 0.16215351]\n",
      " [-0.2360538 ]\n",
      " [ 0.42519094]]\n",
      "Outlier threshold:  -0.11169932205418387\n",
      "Calculate outlier Energy\n"
     ]
    },
    {
     "name": "stderr",
     "output_type": "stream",
     "text": [
      "100%|███████████████████████████████████████████████████████████████████████████████████| 5/5 [00:00<00:00, 583.29it/s]\n"
     ]
    },
    {
     "name": "stdout",
     "output_type": "stream",
     "text": [
      "Calculate cluster energy\n"
     ]
    },
    {
     "name": "stderr",
     "output_type": "stream",
     "text": [
      "100%|███████████████████████████████████████████████████████████████████████████████| 399/399 [00:00<00:00, 911.49it/s]\n"
     ]
    },
    {
     "name": "stdout",
     "output_type": "stream",
     "text": [
      "Outlier classification: Results...\n",
      "Predicted points test:  [0 0 0 0 0 0 0 0 0 0 0 0 0 0 0 0 0 0 0 0 0 0 0 0 0 0 0 0 0 0 0 1 0 0 0 0 0\n",
      " 0 0 0 0 1 0 0 0 0 0 0 0 0 0 0 0 0 0 0 0 1 0 0 1 0 0 0 0 0 0 0 0 0 0 0 0 0\n",
      " 0 0 0 0 0 0 0 0 0 0 0 0 0 0 0 0 0 0 0 0 0 0 0 0 0 0 0 0 0 0 0 0 0 0 0 0 0\n",
      " 0 0 0 1 0 0 0 0 0 0 0 0 0 0 0 0 0 0 0 0 0 0 0 0 0 0 0 0 0 0 0 0 0 0 0 0 0\n",
      " 0 0 0 0 0 0 0 0 0 0 0 1 0 0 0 0 0 0 0 0 0 0 0 0 0 0 0 0 0 0 0 0 0 0 0 0 0\n",
      " 0 0 0 0 0 0 0 0 0 0 0 0 0 0 1 0 0 0 0 0 0 0 0 0 0 0 0 0 0 0 0 0 0 0 0 0 0\n",
      " 1 1 0 0 0 0 0 0 0 0 0 0 0 0 0 0 0 0 1 0 0 0 0 0 0 0 0 0 0 0 0 0 0 0 0 0 0\n",
      " 0 0 0 0 0 0 0 0 0 0 0 0 0 0 0 1 0 0 0 0 0 0 0 0 0 1 0 0 0 0 0 0 0 0 0 0 0\n",
      " 0 0 1 0 0 0 0 0 0 0 0 0 0 0 0 0 0 0 0 0 0 0 0 0 0 0 0 0 0 0 0 0 0 0 1 0 0\n",
      " 0 0 0 0 0 1 0 0 0 0 0 0 0 0 0 0 0 0 0 0 0 0 0 0 0 1 0 0 0 0 0 0 0 0 0 0 0\n",
      " 0 0 0 0 0 0 0 0 0 0 0 0 0 0 0 0 0 0 0 0 0 0 0 0 0 0 0 0 0 0 1 1 0 1]\n",
      "Accuracy: 0.9554455445544554, Precision: 0.15789473684210525, Recall: 0.6, F1-Score: 0.25, \n",
      "Num True Negative: 383, Num False Negative: 2, Num True Positive: 3, Num False Positive: 16\n",
      "Outlier threshold:  -0.11169932205418387\n",
      "Average clusterpoint energy:  -0.4628182973123278\n",
      "Outlier energy:  [[-0.31226811]\n",
      " [ 0.26965073]\n",
      " [ 0.14586962]\n",
      " [-0.29086277]\n",
      " [ 0.71561594]]\n",
      "Outlier threshold:  -0.14343069728656868\n",
      "Calculate outlier Energy\n"
     ]
    },
    {
     "name": "stderr",
     "output_type": "stream",
     "text": [
      "100%|███████████████████████████████████████████████████████████████████████████████████| 5/5 [00:00<00:00, 666.88it/s]\n"
     ]
    },
    {
     "name": "stdout",
     "output_type": "stream",
     "text": [
      "Calculate cluster energy\n"
     ]
    },
    {
     "name": "stderr",
     "output_type": "stream",
     "text": [
      "100%|███████████████████████████████████████████████████████████████████████████████| 399/399 [00:00<00:00, 845.59it/s]\n"
     ]
    },
    {
     "name": "stdout",
     "output_type": "stream",
     "text": [
      "Outlier classification: Results...\n",
      "Predicted points test:  [0 0 0 0 0 0 0 0 0 0 0 0 0 0 0 0 0 0 0 0 0 0 0 0 0 0 0 0 0 0 0 1 0 0 0 0 0\n",
      " 0 0 0 1 1 0 0 0 0 0 0 0 0 0 0 0 0 0 0 0 1 0 0 1 0 0 0 0 0 0 0 0 0 0 0 0 0\n",
      " 0 0 0 0 0 0 0 0 0 0 0 0 0 0 0 0 0 0 0 0 0 0 0 0 0 0 0 0 0 0 0 0 0 0 0 0 0\n",
      " 0 0 0 1 0 0 0 0 0 0 0 0 0 0 0 0 0 0 0 0 0 0 0 0 0 0 0 0 0 0 0 0 0 0 0 0 0\n",
      " 0 0 0 0 0 0 0 0 0 0 0 1 0 0 0 0 0 0 0 0 1 0 0 0 0 0 0 0 0 0 0 0 0 0 0 0 0\n",
      " 0 0 0 0 0 0 1 0 0 0 0 0 0 0 1 0 0 0 0 0 0 0 1 0 0 0 0 0 0 0 0 0 0 0 0 0 0\n",
      " 1 1 0 0 0 0 0 0 0 0 0 0 0 0 0 0 0 0 1 0 0 0 0 0 0 0 0 0 0 0 0 1 0 0 0 0 0\n",
      " 0 0 0 0 0 0 0 0 0 0 0 0 0 0 0 1 0 0 0 0 0 0 0 0 0 1 0 0 0 0 0 0 0 0 0 0 0\n",
      " 0 0 1 0 0 0 0 0 0 0 0 0 0 0 0 0 0 0 0 0 0 0 0 0 0 0 0 0 0 0 0 0 0 0 1 0 0\n",
      " 0 0 0 0 0 0 0 0 0 0 0 0 0 0 0 0 0 0 0 0 0 0 0 0 0 1 0 0 0 0 0 0 0 0 0 0 0\n",
      " 0 0 0 0 0 0 0 0 0 0 0 0 0 0 0 0 0 0 0 0 0 0 0 0 0 0 0 0 0 0 1 1 0 1]\n",
      "Accuracy: 0.9455445544554455, Precision: 0.13043478260869565, Recall: 0.6, F1-Score: 0.21428571428571427, \n",
      "Num True Negative: 379, Num False Negative: 2, Num True Positive: 3, Num False Positive: 20\n",
      "Outlier threshold:  -0.14343069728656868\n",
      "Average clusterpoint energy:  -0.5822898849373079\n",
      "Outlier energy:  [[-0.39889579]\n",
      " [ 0.42607408]\n",
      " [ 0.18099649]\n",
      " [-0.45831656]\n",
      " [ 0.86544734]]\n",
      "Outlier threshold:  -0.14760139113569604\n",
      "Calculate outlier Energy\n"
     ]
    },
    {
     "name": "stderr",
     "output_type": "stream",
     "text": [
      "100%|███████████████████████████████████████████████████████████████████████████████████| 5/5 [00:00<00:00, 525.96it/s]\n"
     ]
    },
    {
     "name": "stdout",
     "output_type": "stream",
     "text": [
      "Calculate cluster energy\n"
     ]
    },
    {
     "name": "stderr",
     "output_type": "stream",
     "text": [
      "100%|███████████████████████████████████████████████████████████████████████████████| 399/399 [00:00<00:00, 789.66it/s]\n"
     ]
    },
    {
     "name": "stdout",
     "output_type": "stream",
     "text": [
      "Outlier classification: Results...\n",
      "Predicted points test:  [0 0 0 0 0 0 0 0 0 0 0 0 0 0 0 0 0 0 0 0 0 0 0 0 0 0 0 0 0 0 0 1 0 0 0 0 0\n",
      " 0 0 0 0 0 0 0 0 0 0 0 0 0 0 0 0 0 0 0 0 1 0 0 1 0 0 0 0 0 0 0 0 0 0 0 0 0\n",
      " 0 0 0 0 0 0 0 0 0 0 0 0 0 0 0 0 0 0 0 0 0 0 0 0 0 0 0 0 0 0 0 0 0 0 0 0 0\n",
      " 0 0 0 1 0 0 0 0 0 0 0 0 0 0 0 0 0 0 0 0 0 0 0 0 0 0 0 0 0 0 0 0 0 0 0 0 0\n",
      " 0 0 0 0 0 0 0 0 0 0 0 1 0 0 0 0 0 0 0 0 0 0 0 0 0 0 0 0 0 0 0 0 0 0 0 0 0\n",
      " 0 0 0 0 0 0 1 0 0 0 0 0 0 0 0 0 0 0 0 0 0 0 1 0 0 0 0 0 0 0 0 0 0 0 0 0 0\n",
      " 1 1 0 0 0 0 0 0 0 0 0 0 0 0 0 0 0 0 1 0 0 0 0 0 0 0 0 0 0 0 0 1 0 0 0 0 0\n",
      " 0 0 0 0 0 0 0 0 0 0 0 0 0 0 0 1 0 0 0 0 0 0 0 0 0 1 0 0 0 0 0 0 0 0 0 0 0\n",
      " 0 0 1 0 0 0 0 0 0 0 0 0 0 0 0 0 0 0 0 0 0 0 0 0 0 0 0 0 0 0 0 0 0 0 1 0 0\n",
      " 0 0 0 0 0 0 0 0 0 0 0 0 0 0 0 0 0 0 0 0 0 0 0 0 0 1 0 0 0 0 0 0 0 0 0 0 0\n",
      " 0 0 0 0 0 0 0 0 0 0 0 0 0 0 0 0 0 0 0 0 0 0 0 0 0 0 0 0 0 0 1 1 0 1]\n",
      "Accuracy: 0.9554455445544554, Precision: 0.15789473684210525, Recall: 0.6, F1-Score: 0.25, \n",
      "Num True Negative: 383, Num False Negative: 2, Num True Positive: 3, Num False Positive: 16\n",
      "Outlier threshold:  -0.14760139113569604\n",
      "Average clusterpoint energy:  -0.6917700553244304\n",
      "Outlier energy:  [[-0.43281857]\n",
      " [ 0.38204561]\n",
      " [ 0.24036749]\n",
      " [-0.50942559]\n",
      " [ 1.05032357]]\n",
      "Outlier threshold:  0.014455340343350748\n",
      "Calculate outlier Energy\n"
     ]
    },
    {
     "name": "stderr",
     "output_type": "stream",
     "text": [
      "100%|██████████████████████████████████████████████████████████████████████████████████| 5/5 [00:00<00:00, 1633.68it/s]\n"
     ]
    },
    {
     "name": "stdout",
     "output_type": "stream",
     "text": [
      "Calculate cluster energy\n"
     ]
    },
    {
     "name": "stderr",
     "output_type": "stream",
     "text": [
      "100%|██████████████████████████████████████████████████████████████████████████████| 399/399 [00:00<00:00, 1330.37it/s]\n"
     ]
    },
    {
     "name": "stdout",
     "output_type": "stream",
     "text": [
      "Outlier classification: Results...\n",
      "Predicted points test:  [0 1 0 0 0 0 0 0 0 0 0 0 0 0 0 0 0 0 0 0 0 0 0 0 0 0 0 0 0 0 0 1 0 0 0 0 0\n",
      " 0 0 1 0 0 0 0 0 0 0 0 0 0 0 0 0 0 0 0 0 1 0 0 1 0 0 0 0 0 0 0 0 0 0 0 0 0\n",
      " 0 0 0 0 0 0 0 0 0 1 0 0 0 0 0 0 0 0 0 0 0 0 0 0 0 0 0 0 0 0 0 0 0 0 0 0 0\n",
      " 0 0 0 1 0 0 0 0 0 0 0 0 0 0 0 0 0 0 0 0 0 0 0 0 0 0 0 0 0 0 0 0 0 0 0 0 0\n",
      " 0 0 0 0 0 1 0 1 0 0 0 0 0 1 0 0 0 0 0 0 0 0 0 0 0 0 0 0 0 0 0 0 0 0 0 0 0\n",
      " 0 0 0 0 0 0 0 0 1 0 0 0 0 0 0 0 0 1 0 0 0 0 0 0 0 0 0 0 1 0 0 0 0 0 0 1 0\n",
      " 0 0 1 0 0 0 0 0 0 0 0 0 0 0 0 0 0 1 1 0 0 0 0 0 0 0 0 0 0 0 0 0 0 0 0 0 0\n",
      " 0 0 0 0 0 0 0 1 0 0 0 0 0 0 0 0 1 0 0 0 0 0 0 0 0 0 0 0 0 0 0 0 0 0 0 0 0\n",
      " 0 1 1 0 0 0 0 0 0 0 0 0 0 0 0 0 0 0 1 0 0 0 0 0 0 0 0 0 0 0 0 1 0 0 1 0 0\n",
      " 0 1 0 0 0 0 0 0 0 0 0 0 0 0 1 0 0 0 0 0 0 1 0 0 0 1 0 0 0 0 0 0 0 0 0 0 0\n",
      " 0 0 0 0 0 0 0 0 0 0 0 0 0 0 0 1 0 0 0 0 0 0 0 0 0 0 0 0 0 0 1 1 0 1]\n",
      "Accuracy: 0.9232673267326733, Precision: 0.09375, Recall: 0.6, F1-Score: 0.16216216216216217, \n",
      "Num True Negative: 370, Num False Negative: 2, Num True Positive: 3, Num False Positive: 29\n",
      "Outlier threshold:  0.014455340343350748\n",
      "Average clusterpoint energy:  -0.14579863861699704\n",
      "Outlier energy:  [[-0.12155507]\n",
      " [ 0.16439963]\n",
      " [ 0.09272283]\n",
      " [-0.13291685]\n",
      " [ 0.17566656]]\n",
      "Outlier threshold:  -0.07181716330160567\n",
      "Calculate outlier Energy\n"
     ]
    },
    {
     "name": "stderr",
     "output_type": "stream",
     "text": [
      "100%|████████████████████████████████████████████████████████████████████████████████████████████| 5/5 [00:00<?, ?it/s]\n"
     ]
    },
    {
     "name": "stdout",
     "output_type": "stream",
     "text": [
      "Calculate cluster energy\n"
     ]
    },
    {
     "name": "stderr",
     "output_type": "stream",
     "text": [
      "100%|██████████████████████████████████████████████████████████████████████████████| 399/399 [00:00<00:00, 1211.59it/s]\n"
     ]
    },
    {
     "name": "stdout",
     "output_type": "stream",
     "text": [
      "Outlier classification: Results...\n",
      "Predicted points test:  [0 0 0 0 0 0 0 0 0 0 0 0 0 0 0 0 0 0 0 0 0 0 0 0 0 0 0 0 0 0 0 1 0 0 0 0 0\n",
      " 0 0 0 1 0 0 1 0 0 0 0 0 0 0 0 0 0 0 0 0 1 0 0 1 0 0 0 0 0 0 0 0 0 0 0 0 0\n",
      " 0 0 0 0 0 0 0 0 0 0 0 0 0 0 0 0 0 0 0 0 0 0 0 0 0 0 0 0 0 1 0 0 0 0 0 0 0\n",
      " 0 0 0 1 0 0 0 0 0 0 0 0 0 0 0 0 0 0 0 0 0 0 0 0 0 0 0 0 0 0 0 0 0 0 0 0 0\n",
      " 0 0 0 0 0 0 0 0 0 0 0 1 0 0 0 0 0 0 0 0 1 0 0 0 0 0 0 0 0 0 0 0 0 0 0 0 0\n",
      " 0 0 0 0 0 0 0 0 0 0 0 0 0 0 0 0 0 0 0 0 0 0 1 0 0 0 0 0 0 0 0 0 0 0 0 0 0\n",
      " 1 0 0 0 1 0 0 0 0 0 0 0 0 0 0 0 0 0 1 0 0 0 0 0 0 0 0 0 0 0 0 1 0 0 0 0 0\n",
      " 0 0 0 0 0 0 0 0 0 0 0 0 0 0 0 1 0 0 0 0 0 0 0 0 0 1 1 0 0 0 0 0 0 0 0 0 0\n",
      " 0 0 1 0 0 0 1 0 0 0 0 0 0 0 0 0 0 1 0 0 0 0 0 0 0 0 0 0 0 0 0 0 0 0 1 0 0\n",
      " 0 0 0 0 0 0 0 0 0 0 0 0 0 0 0 0 0 0 0 0 0 0 0 0 0 1 0 0 0 0 0 0 0 0 0 0 0\n",
      " 0 0 0 0 0 0 0 0 0 1 0 0 0 0 0 0 0 0 0 0 0 0 0 0 0 0 0 0 0 0 1 1 0 1]\n",
      "Accuracy: 0.9381188118811881, Precision: 0.11538461538461539, Recall: 0.6, F1-Score: 0.1935483870967742, \n",
      "Num True Negative: 376, Num False Negative: 2, Num True Positive: 3, Num False Positive: 23\n",
      "Outlier threshold:  -0.07181716330160567\n",
      "Average clusterpoint energy:  -0.2857367551116198\n",
      "Outlier energy:  [[-0.21823395]\n",
      " [ 0.26107852]\n",
      " [ 0.07591146]\n",
      " [-0.17612749]\n",
      " [ 0.41668349]]\n",
      "Outlier threshold:  -0.10826261448593749\n",
      "Calculate outlier Energy\n"
     ]
    },
    {
     "name": "stderr",
     "output_type": "stream",
     "text": [
      "100%|██████████████████████████████████████████████████████████████████████████████████| 5/5 [00:00<00:00, 2926.53it/s]\n"
     ]
    },
    {
     "name": "stdout",
     "output_type": "stream",
     "text": [
      "Calculate cluster energy\n"
     ]
    },
    {
     "name": "stderr",
     "output_type": "stream",
     "text": [
      "100%|██████████████████████████████████████████████████████████████████████████████| 399/399 [00:00<00:00, 1273.18it/s]\n"
     ]
    },
    {
     "name": "stdout",
     "output_type": "stream",
     "text": [
      "Outlier classification: Results...\n",
      "Predicted points test:  [0 0 0 1 0 0 0 0 0 0 0 0 0 0 0 0 0 0 0 0 0 0 0 0 0 0 0 0 0 0 0 1 0 0 0 0 0\n",
      " 0 0 0 1 0 0 0 0 0 0 0 0 0 0 0 0 0 0 0 0 1 0 0 1 0 0 0 0 0 0 0 0 0 0 0 0 0\n",
      " 0 0 0 0 0 0 0 0 0 0 0 0 0 0 0 0 0 0 0 0 0 0 0 0 0 0 0 0 0 0 0 0 0 0 0 0 0\n",
      " 0 0 0 1 0 0 0 0 0 0 0 0 0 0 0 0 0 0 0 0 0 0 0 0 0 0 0 0 0 0 0 0 0 0 0 0 0\n",
      " 0 0 0 0 0 0 0 0 0 0 0 1 0 0 0 0 0 0 0 0 1 0 0 0 0 0 0 0 0 0 0 0 0 0 0 0 0\n",
      " 0 0 0 0 0 0 0 0 0 0 0 0 0 0 1 0 0 0 0 0 0 0 0 0 0 0 0 0 0 0 0 0 0 0 0 0 0\n",
      " 1 1 0 0 1 0 0 0 0 0 0 0 0 0 0 0 0 0 1 0 0 0 0 0 0 0 0 0 0 0 0 1 0 0 0 1 0\n",
      " 0 0 0 0 0 0 0 0 0 0 0 0 0 0 0 1 0 0 0 0 0 0 0 0 0 1 0 0 0 0 0 0 0 0 0 0 0\n",
      " 0 0 1 0 0 0 1 0 0 0 0 0 0 0 0 0 0 0 0 0 0 0 0 0 0 0 0 0 0 0 0 0 0 0 1 0 0\n",
      " 0 0 0 0 0 0 0 0 0 0 0 0 0 0 0 0 0 1 0 0 0 0 0 0 0 1 0 0 0 0 0 0 0 0 0 0 0\n",
      " 0 0 0 0 0 0 0 0 0 0 0 0 0 0 0 0 0 0 0 0 0 0 0 0 0 0 0 0 0 0 1 1 0 1]\n",
      "Accuracy: 0.9405940594059405, Precision: 0.12, Recall: 0.6, F1-Score: 0.2, \n",
      "Num True Negative: 377, Num False Negative: 2, Num True Positive: 3, Num False Positive: 22\n",
      "Outlier threshold:  -0.10826261448593749\n",
      "Average clusterpoint energy:  -0.4153651269465898\n",
      "Outlier energy:  [[-0.2985527 ]\n",
      " [ 0.26386372]\n",
      " [ 0.12351174]\n",
      " [-0.30708838]\n",
      " [ 0.63068526]]\n",
      "Outlier threshold:  -0.11679050522251291\n",
      "Calculate outlier Energy\n"
     ]
    },
    {
     "name": "stderr",
     "output_type": "stream",
     "text": [
      "100%|███████████████████████████████████████████████████████████████████████████████████| 5/5 [00:00<00:00, 786.10it/s]\n"
     ]
    },
    {
     "name": "stdout",
     "output_type": "stream",
     "text": [
      "Calculate cluster energy\n"
     ]
    },
    {
     "name": "stderr",
     "output_type": "stream",
     "text": [
      "100%|██████████████████████████████████████████████████████████████████████████████| 399/399 [00:00<00:00, 1241.91it/s]\n"
     ]
    },
    {
     "name": "stdout",
     "output_type": "stream",
     "text": [
      "Outlier classification: Results...\n",
      "Predicted points test:  [0 0 0 0 0 0 0 0 0 0 0 0 0 0 0 0 0 0 0 0 0 0 0 0 0 0 0 0 0 0 0 1 0 0 0 0 0\n",
      " 0 0 0 0 1 0 0 0 0 0 0 0 0 0 0 0 0 0 0 0 1 0 0 1 0 0 0 0 0 0 0 0 0 0 0 0 0\n",
      " 0 0 0 0 0 0 0 0 0 0 0 0 0 0 0 0 0 0 0 0 0 0 0 0 0 0 0 0 0 0 0 0 0 0 0 0 0\n",
      " 0 0 0 1 0 0 0 0 0 0 0 0 0 0 0 0 0 0 0 0 0 0 0 0 0 0 0 0 0 0 0 0 0 0 0 0 0\n",
      " 0 0 0 0 0 0 0 0 0 0 0 0 0 0 0 0 0 0 0 0 0 0 0 0 0 0 0 0 0 0 0 0 0 0 0 0 0\n",
      " 0 0 0 0 0 0 0 0 0 0 0 0 0 0 1 0 0 0 0 0 0 0 0 0 0 0 0 0 0 0 0 0 0 0 0 0 0\n",
      " 0 0 0 0 0 0 0 0 0 0 0 0 0 0 0 0 0 0 1 0 0 0 0 0 0 0 0 0 0 0 0 0 0 0 0 0 0\n",
      " 0 0 0 0 0 0 0 0 0 0 0 0 0 0 0 0 0 0 0 0 0 0 0 0 0 1 0 0 0 0 0 0 0 0 0 0 0\n",
      " 0 0 1 0 0 0 0 0 0 0 0 0 0 0 0 0 0 0 0 0 0 0 0 0 0 0 0 0 0 0 0 0 0 0 1 0 0\n",
      " 0 0 0 0 0 0 0 0 0 0 0 0 0 0 0 0 0 0 0 0 0 0 0 0 0 1 0 0 0 0 0 0 0 0 0 0 0\n",
      " 0 0 0 0 0 0 0 0 0 0 0 0 0 0 0 0 0 0 0 0 0 0 0 0 0 0 0 0 0 0 1 1 0 1]\n",
      "Accuracy: 0.9678217821782178, Precision: 0.21428571428571427, Recall: 0.6, F1-Score: 0.3157894736842105, \n",
      "Num True Negative: 388, Num False Negative: 2, Num True Positive: 3, Num False Positive: 11\n",
      "Outlier threshold:  -0.11679050522251291\n",
      "Average clusterpoint energy:  -0.5276124704020863\n",
      "Outlier energy:  [[-0.36366916]\n",
      " [ 0.32898017]\n",
      " [ 0.23688319]\n",
      " [-0.3726919 ]\n",
      " [ 0.76527151]]\n",
      "Outlier threshold:  -0.14202903867152514\n",
      "Calculate outlier Energy\n"
     ]
    },
    {
     "name": "stderr",
     "output_type": "stream",
     "text": [
      "100%|███████████████████████████████████████████████████████████████████████████████████| 5/5 [00:00<00:00, 989.74it/s]\n"
     ]
    },
    {
     "name": "stdout",
     "output_type": "stream",
     "text": [
      "Calculate cluster energy\n"
     ]
    },
    {
     "name": "stderr",
     "output_type": "stream",
     "text": [
      "100%|██████████████████████████████████████████████████████████████████████████████| 399/399 [00:00<00:00, 1177.96it/s]\n"
     ]
    },
    {
     "name": "stdout",
     "output_type": "stream",
     "text": [
      "Outlier classification: Results...\n",
      "Predicted points test:  [0 0 0 0 0 0 0 0 0 0 0 0 0 0 0 0 0 0 0 0 0 0 0 0 0 0 0 0 0 0 0 1 0 0 0 0 0\n",
      " 0 0 0 1 1 0 0 0 0 0 0 0 0 0 0 0 0 0 0 0 1 0 0 1 0 0 0 0 0 0 0 0 0 0 0 0 0\n",
      " 0 0 0 0 0 0 0 0 0 0 0 0 0 0 0 0 0 0 0 0 0 0 0 0 0 0 0 0 0 0 0 0 0 0 0 0 0\n",
      " 0 0 0 1 0 0 0 0 0 0 0 0 0 0 0 0 0 0 0 0 0 0 0 0 0 0 0 0 0 0 0 0 0 0 0 0 0\n",
      " 0 0 0 0 0 0 0 0 0 0 0 1 0 0 0 0 0 0 0 0 1 0 0 0 0 0 0 0 0 0 0 0 0 0 0 0 0\n",
      " 0 0 0 0 0 0 0 0 0 0 0 0 0 0 1 0 0 0 0 0 0 0 1 0 0 0 0 0 0 0 0 0 0 0 0 0 0\n",
      " 1 1 0 0 0 0 0 0 0 0 0 0 0 0 0 0 0 0 1 0 0 0 0 0 0 0 0 0 0 0 0 0 0 0 0 0 0\n",
      " 0 0 0 0 0 0 0 0 0 0 0 0 0 0 0 0 0 0 0 0 0 0 0 0 0 1 0 0 0 0 0 0 0 0 0 0 0\n",
      " 0 0 1 0 0 0 0 0 0 0 0 0 0 0 0 0 0 0 0 0 0 0 0 0 0 0 0 0 0 0 0 0 0 0 1 0 0\n",
      " 0 0 0 0 0 0 0 0 0 0 0 0 0 0 0 0 0 0 0 0 0 0 0 0 0 1 0 0 0 0 0 0 0 0 0 0 0\n",
      " 0 0 0 0 0 0 0 0 0 0 0 0 0 0 0 0 0 0 0 0 0 0 0 0 0 0 0 0 0 0 1 1 0 1]\n",
      "Accuracy: 0.9529702970297029, Precision: 0.15, Recall: 0.6, F1-Score: 0.24, \n",
      "Num True Negative: 382, Num False Negative: 2, Num True Positive: 3, Num False Positive: 17\n",
      "Outlier threshold:  -0.14202903867152514\n",
      "Average clusterpoint energy:  -0.6293650708866301\n",
      "Outlier energy:  [[-0.42394634]\n",
      " [ 0.37317338]\n",
      " [ 0.195611  ]\n",
      " [-0.46317002]\n",
      " [ 0.99444684]]\n",
      "Outlier threshold:  0.08080474869974882\n",
      "Calculate outlier Energy\n"
     ]
    },
    {
     "name": "stderr",
     "output_type": "stream",
     "text": [
      "100%|███████████████████████████████████████████████████████████████████████████████████| 5/5 [00:00<00:00, 725.31it/s]\n"
     ]
    },
    {
     "name": "stdout",
     "output_type": "stream",
     "text": [
      "Calculate cluster energy\n"
     ]
    },
    {
     "name": "stderr",
     "output_type": "stream",
     "text": [
      "100%|██████████████████████████████████████████████████████████████████████████████| 399/399 [00:00<00:00, 1399.31it/s]\n"
     ]
    },
    {
     "name": "stdout",
     "output_type": "stream",
     "text": [
      "Outlier classification: Results...\n",
      "Predicted points test:  [0 0 1 0 0 0 0 0 0 0 0 0 0 0 0 0 0 0 0 0 0 0 0 0 0 0 0 0 0 0 0 0 1 0 0 0 0\n",
      " 0 1 0 0 0 0 0 0 0 0 0 0 0 0 0 0 0 0 0 0 0 0 0 0 0 0 0 0 0 0 1 0 0 0 0 1 0\n",
      " 1 0 1 0 0 0 0 0 0 0 0 0 0 0 0 0 0 0 0 0 0 1 0 0 0 0 0 1 0 0 0 0 0 0 0 0 0\n",
      " 1 0 0 0 0 0 0 0 0 0 0 0 0 0 0 0 0 0 0 0 0 0 0 0 0 0 0 0 0 0 0 0 0 0 0 1 0\n",
      " 0 0 0 0 0 0 0 1 0 0 0 0 0 0 0 0 0 0 0 0 0 0 0 1 0 0 0 0 0 0 0 0 0 0 0 0 0\n",
      " 0 0 0 0 0 0 0 0 0 0 0 0 0 0 0 0 0 0 0 0 0 0 0 0 0 0 0 0 0 0 0 0 0 0 0 0 1\n",
      " 0 0 0 0 0 0 0 0 0 0 0 0 0 0 0 0 0 0 0 0 0 0 0 0 0 0 1 0 0 0 0 0 0 0 0 0 1\n",
      " 0 0 0 0 0 0 0 1 0 0 0 0 0 0 1 0 0 0 0 0 0 0 0 0 1 0 0 0 0 0 0 0 0 0 0 0 0\n",
      " 0 0 0 0 0 0 0 0 0 0 0 0 0 0 0 0 0 0 0 0 0 0 1 0 0 1 0 0 0 0 0 0 0 1 0 0 0\n",
      " 0 0 0 0 0 0 0 0 0 0 0 0 0 0 0 0 0 0 0 1 0 0 0 0 0 0 0 0 0 0 0 0 0 0 0 0 0\n",
      " 0 1 0 0 0 0 0 0 0 0 0 0 0 0 0 1 0 0 0 0 0 0 0 0 0 0 0 0 0 0 1 1 0 1]\n",
      "Accuracy: 0.9331683168316832, Precision: 0.10714285714285714, Recall: 0.6, F1-Score: 0.18181818181818182, \n",
      "Num True Negative: 374, Num False Negative: 2, Num True Positive: 3, Num False Positive: 25\n",
      "Outlier threshold:  0.08080474869974882\n",
      "Average clusterpoint energy:  -0.1190759153476084\n",
      "Outlier energy:  [[-0.15772668]\n",
      " [ 0.09151463]\n",
      " [ 0.08647921]\n",
      " [-0.13600805]\n",
      " [ 0.18228265]]\n",
      "Outlier threshold:  -0.05684523099984187\n",
      "Calculate outlier Energy\n"
     ]
    },
    {
     "name": "stderr",
     "output_type": "stream",
     "text": [
      "100%|███████████████████████████████████████████████████████████████████████████████████| 5/5 [00:00<00:00, 847.61it/s]\n"
     ]
    },
    {
     "name": "stdout",
     "output_type": "stream",
     "text": [
      "Calculate cluster energy\n"
     ]
    },
    {
     "name": "stderr",
     "output_type": "stream",
     "text": [
      "100%|██████████████████████████████████████████████████████████████████████████████| 399/399 [00:00<00:00, 1180.49it/s]\n"
     ]
    },
    {
     "name": "stdout",
     "output_type": "stream",
     "text": [
      "Outlier classification: Results...\n",
      "Predicted points test:  [0 0 0 0 0 0 0 0 0 0 0 0 1 0 0 0 0 0 0 0 0 0 0 0 0 0 0 0 0 0 0 1 0 0 0 0 0\n",
      " 0 0 0 0 0 0 1 0 0 0 0 0 0 0 0 0 0 0 0 0 1 0 0 1 0 0 0 0 0 0 0 0 1 0 0 0 0\n",
      " 0 0 0 0 1 0 0 0 1 0 0 0 0 0 0 0 0 0 0 0 0 0 0 0 0 0 0 0 0 0 0 0 0 0 0 0 0\n",
      " 0 0 0 1 0 0 0 0 0 0 0 0 0 0 1 0 0 0 0 0 0 0 0 0 0 0 0 0 0 0 0 0 0 0 0 0 0\n",
      " 0 0 0 0 0 0 0 0 0 0 0 0 0 0 0 0 0 0 0 0 0 0 0 1 0 0 0 0 0 1 0 0 0 0 0 0 0\n",
      " 0 0 0 0 0 0 0 0 0 1 0 0 0 0 0 0 0 0 0 0 0 0 0 0 0 0 0 0 0 0 0 0 0 0 0 0 0\n",
      " 0 0 0 1 1 0 0 0 0 0 0 0 0 0 0 0 0 0 1 0 0 0 0 0 0 0 0 0 0 0 0 0 0 0 0 0 0\n",
      " 0 0 0 0 0 0 0 0 0 0 0 0 0 0 0 0 0 0 0 0 0 0 0 0 0 0 0 0 0 0 0 0 0 0 0 0 0\n",
      " 0 0 1 0 0 0 1 0 0 0 0 0 0 0 0 0 0 0 0 0 0 0 0 0 0 0 0 0 1 0 0 0 0 0 1 0 0\n",
      " 0 0 0 0 0 0 0 0 0 0 0 0 0 1 0 0 0 0 0 0 0 0 0 0 0 1 0 0 0 1 0 0 0 0 0 0 0\n",
      " 0 0 0 0 0 0 0 0 0 0 0 0 0 0 0 0 0 0 0 0 0 0 0 0 0 0 0 0 0 0 1 1 0 1]\n",
      "Accuracy: 0.9381188118811881, Precision: 0.11538461538461539, Recall: 0.6, F1-Score: 0.1935483870967742, \n",
      "Num True Negative: 376, Num False Negative: 2, Num True Positive: 3, Num False Positive: 23\n",
      "Outlier threshold:  -0.05684523099984187\n",
      "Average clusterpoint energy:  -0.24899761742819776\n",
      "Outlier energy:  [[-0.21627173]\n",
      " [ 0.17365435]\n",
      " [ 0.12145359]\n",
      " [-0.24367774]\n",
      " [ 0.45895661]]\n",
      "Outlier threshold:  -0.11543914914040226\n",
      "Calculate outlier Energy\n"
     ]
    },
    {
     "name": "stderr",
     "output_type": "stream",
     "text": [
      "100%|███████████████████████████████████████████████████████████████████████████████████| 5/5 [00:00<00:00, 651.90it/s]\n"
     ]
    },
    {
     "name": "stdout",
     "output_type": "stream",
     "text": [
      "Calculate cluster energy\n"
     ]
    },
    {
     "name": "stderr",
     "output_type": "stream",
     "text": [
      "100%|██████████████████████████████████████████████████████████████████████████████| 399/399 [00:00<00:00, 1244.09it/s]\n"
     ]
    },
    {
     "name": "stdout",
     "output_type": "stream",
     "text": [
      "Outlier classification: Results...\n",
      "Predicted points test:  [0 0 0 1 0 1 0 0 0 0 0 0 0 0 0 0 0 0 0 0 0 0 0 0 0 0 0 0 0 0 0 1 0 0 0 0 0\n",
      " 0 0 0 1 0 0 0 0 0 0 0 0 0 0 0 0 0 0 0 0 1 0 0 1 0 0 0 0 0 0 0 0 0 0 0 0 0\n",
      " 0 0 0 0 0 0 0 0 0 0 0 0 0 0 0 0 0 0 0 0 0 0 0 0 0 0 0 0 0 1 0 0 0 0 0 0 0\n",
      " 0 0 0 1 0 0 0 0 0 0 0 0 0 0 0 0 0 0 0 0 0 0 0 0 0 0 0 0 0 0 0 0 0 0 0 0 0\n",
      " 0 0 0 0 0 0 0 0 0 0 0 1 0 0 0 0 0 0 0 0 0 0 0 0 0 0 0 0 0 0 0 1 0 0 0 0 0\n",
      " 0 0 1 0 0 0 0 0 0 0 0 0 0 0 0 0 0 0 0 0 0 0 0 0 0 0 0 0 0 0 0 0 0 0 0 0 0\n",
      " 1 1 0 0 1 0 0 0 0 0 0 0 0 0 0 0 0 0 1 0 0 0 0 0 0 0 0 0 0 0 0 1 0 0 0 0 0\n",
      " 0 0 0 0 0 0 0 0 0 0 0 0 0 0 0 0 0 0 0 0 0 0 0 0 0 0 1 0 0 0 0 0 0 0 0 0 0\n",
      " 0 0 1 0 0 0 1 0 0 0 0 0 0 0 0 0 0 1 0 0 0 0 0 0 0 0 0 0 0 0 0 0 0 0 1 0 0\n",
      " 0 0 0 0 0 1 0 0 0 0 0 0 0 0 0 0 0 1 0 0 0 0 0 0 0 1 0 0 0 0 0 0 0 0 0 0 0\n",
      " 0 0 0 0 0 0 0 0 0 1 0 0 0 0 0 0 0 0 0 0 0 0 0 0 0 0 0 0 0 0 1 1 0 1]\n",
      "Accuracy: 0.9331683168316832, Precision: 0.10714285714285714, Recall: 0.6, F1-Score: 0.18181818181818182, \n",
      "Num True Negative: 374, Num False Negative: 2, Num True Positive: 3, Num False Positive: 25\n",
      "Outlier threshold:  -0.11543914914040226\n",
      "Average clusterpoint energy:  -0.36030363627662465\n",
      "Outlier energy:  [[-0.30957157]\n",
      " [ 0.32882146]\n",
      " [ 0.09634708]\n",
      " [-0.31184095]\n",
      " [ 0.54391186]]\n",
      "Outlier threshold:  -0.13217195353614766\n",
      "Calculate outlier Energy\n"
     ]
    },
    {
     "name": "stderr",
     "output_type": "stream",
     "text": [
      "100%|███████████████████████████████████████████████████████████████████████████████████| 5/5 [00:00<00:00, 715.43it/s]\n"
     ]
    },
    {
     "name": "stdout",
     "output_type": "stream",
     "text": [
      "Calculate cluster energy\n"
     ]
    },
    {
     "name": "stderr",
     "output_type": "stream",
     "text": [
      "100%|██████████████████████████████████████████████████████████████████████████████| 399/399 [00:00<00:00, 1170.97it/s]\n"
     ]
    },
    {
     "name": "stdout",
     "output_type": "stream",
     "text": [
      "Outlier classification: Results...\n",
      "Predicted points test:  [0 0 0 1 0 0 0 0 0 0 0 0 1 0 0 0 0 0 0 0 0 0 0 0 0 0 0 0 0 0 0 1 0 0 0 0 0\n",
      " 0 0 0 0 0 0 1 0 0 0 0 0 0 0 0 0 0 0 0 0 1 0 0 1 0 0 0 0 0 0 0 0 0 0 0 0 0\n",
      " 0 0 0 0 0 0 0 0 0 0 0 0 0 0 0 0 0 0 0 0 0 0 0 0 0 0 0 0 0 1 0 0 0 0 0 0 0\n",
      " 0 0 0 1 0 0 0 0 0 0 0 0 0 0 0 0 0 0 0 0 0 0 0 0 0 0 0 0 0 0 0 0 0 0 0 0 0\n",
      " 0 0 0 0 0 0 0 0 0 0 0 0 0 0 0 0 0 0 0 0 1 0 0 0 0 0 0 0 0 0 0 0 0 0 0 0 0\n",
      " 0 0 1 0 0 0 1 0 0 0 0 0 0 0 1 0 0 0 0 0 0 0 0 0 0 0 0 0 0 0 0 0 0 0 0 0 0\n",
      " 1 0 0 0 1 0 0 0 0 0 0 0 0 0 0 0 0 0 1 0 0 0 0 0 0 0 0 0 0 0 0 1 0 0 0 0 0\n",
      " 0 0 0 0 0 0 0 0 0 0 0 0 0 0 0 0 0 0 0 0 0 0 0 0 0 0 1 0 0 0 0 0 0 0 0 0 0\n",
      " 0 0 1 0 0 0 0 0 0 0 0 0 0 0 0 0 0 1 0 0 0 0 0 0 0 0 0 0 0 0 0 0 0 0 1 0 0\n",
      " 0 0 0 0 0 0 0 0 0 0 0 0 0 0 0 0 0 0 0 0 0 0 0 0 0 1 0 0 0 0 0 0 0 0 0 0 0\n",
      " 0 0 0 0 0 0 0 0 0 0 0 0 0 0 0 0 0 0 0 0 0 0 0 0 0 0 0 0 0 0 1 1 0 1]\n",
      "Accuracy: 0.943069306930693, Precision: 0.125, Recall: 0.6, F1-Score: 0.20689655172413793, \n",
      "Num True Negative: 378, Num False Negative: 2, Num True Positive: 3, Num False Positive: 21\n",
      "Outlier threshold:  -0.13217195353614766\n",
      "Average clusterpoint energy:  -0.4641120438380255\n",
      "Outlier energy:  [[-0.32850664]\n",
      " [ 0.39471869]\n",
      " [ 0.22020049]\n",
      " [-0.32907845]\n",
      " [ 0.66671986]]\n",
      "Outlier threshold:  -0.15057961616766866\n",
      "Calculate outlier Energy\n"
     ]
    },
    {
     "name": "stderr",
     "output_type": "stream",
     "text": [
      "100%|███████████████████████████████████████████████████████████████████████████████████| 5/5 [00:00<00:00, 833.69it/s]\n"
     ]
    },
    {
     "name": "stdout",
     "output_type": "stream",
     "text": [
      "Calculate cluster energy\n"
     ]
    },
    {
     "name": "stderr",
     "output_type": "stream",
     "text": [
      "100%|██████████████████████████████████████████████████████████████████████████████| 399/399 [00:00<00:00, 1181.19it/s]\n"
     ]
    },
    {
     "name": "stdout",
     "output_type": "stream",
     "text": [
      "Outlier classification: Results...\n",
      "Predicted points test:  [0 0 0 0 0 0 0 0 0 0 0 0 0 0 0 0 0 0 0 0 0 0 0 0 0 0 0 0 0 0 0 1 0 0 0 0 0\n",
      " 0 0 0 1 0 0 0 0 0 0 0 0 0 0 0 0 0 0 0 0 1 0 0 1 0 0 0 0 0 0 0 0 0 0 0 0 0\n",
      " 0 0 0 0 0 0 0 0 0 0 0 0 0 0 0 0 0 0 0 0 0 0 0 0 0 0 0 0 0 0 0 0 0 0 0 0 0\n",
      " 0 0 0 1 0 0 0 0 0 0 0 0 0 0 0 0 0 0 0 0 0 0 0 0 0 0 0 0 0 0 0 0 0 0 0 0 0\n",
      " 0 0 0 0 0 0 0 0 0 0 0 1 0 0 0 0 0 0 0 0 0 0 0 0 0 0 0 0 0 0 0 1 0 0 0 0 0\n",
      " 0 0 0 0 0 0 1 0 0 0 0 0 0 0 1 0 0 0 0 0 0 0 0 0 0 0 0 0 0 0 0 0 0 0 0 0 0\n",
      " 0 0 0 0 0 0 0 0 0 0 0 0 0 0 0 0 0 0 1 0 0 0 0 0 0 0 0 0 0 0 0 0 0 0 0 0 0\n",
      " 0 0 0 0 0 0 0 0 0 0 0 0 0 0 0 1 0 0 0 0 0 0 0 0 0 1 0 0 0 0 0 0 0 0 0 0 0\n",
      " 0 0 1 0 0 0 0 0 0 0 0 0 0 0 0 0 0 0 0 0 0 0 0 0 0 0 0 0 0 0 0 0 0 0 1 0 0\n",
      " 0 0 0 0 0 1 0 0 0 0 0 0 0 0 0 0 0 1 0 0 0 0 0 0 0 1 0 0 0 1 0 0 0 0 0 0 0\n",
      " 0 0 0 0 0 0 0 0 0 0 0 0 0 0 0 0 0 0 0 0 0 0 0 0 0 0 0 0 0 0 1 1 0 1]\n",
      "Accuracy: 0.9504950495049505, Precision: 0.14285714285714285, Recall: 0.6, F1-Score: 0.23076923076923078, \n",
      "Num True Negative: 381, Num False Negative: 2, Num True Positive: 3, Num False Positive: 18\n",
      "Outlier threshold:  -0.15057961616766866\n",
      "Average clusterpoint energy:  -0.5577494323979694\n",
      "Outlier energy:  [[-0.376175  ]\n",
      " [ 0.34899671]\n",
      " [ 0.25876399]\n",
      " [-0.43977452]\n",
      " [ 0.8297903 ]]\n",
      "Outlier threshold:  0.08293515095760118\n",
      "Calculate outlier Energy\n"
     ]
    },
    {
     "name": "stderr",
     "output_type": "stream",
     "text": [
      "100%|███████████████████████████████████████████████████████████████████████████████████| 5/5 [00:00<00:00, 717.66it/s]\n"
     ]
    },
    {
     "name": "stdout",
     "output_type": "stream",
     "text": [
      "Calculate cluster energy\n"
     ]
    },
    {
     "name": "stderr",
     "output_type": "stream",
     "text": [
      "100%|██████████████████████████████████████████████████████████████████████████████| 399/399 [00:00<00:00, 1050.21it/s]\n"
     ]
    },
    {
     "name": "stdout",
     "output_type": "stream",
     "text": [
      "Outlier classification: Results...\n",
      "Predicted points test:  [0 0 0 0 0 0 0 0 0 1 0 0 0 0 0 0 0 0 0 0 0 0 0 0 0 0 0 0 0 0 0 0 0 0 0 0 1\n",
      " 0 0 0 0 0 0 0 0 0 0 0 0 1 0 0 0 0 0 0 0 0 0 0 0 0 0 0 0 0 0 1 0 0 0 0 0 0\n",
      " 0 0 0 0 1 0 0 0 0 0 0 0 0 0 0 0 0 1 0 0 0 1 0 0 0 0 0 0 0 0 0 0 0 0 0 0 1\n",
      " 1 0 0 0 0 0 0 0 0 1 0 0 0 0 0 0 0 0 0 0 0 0 0 0 0 1 0 0 0 0 0 0 0 0 0 0 0\n",
      " 0 0 0 0 0 0 0 1 0 0 0 0 0 0 0 0 0 0 0 0 0 0 0 0 0 0 0 0 0 0 0 0 0 0 0 0 0\n",
      " 0 0 0 0 0 0 0 0 0 0 0 0 0 0 0 0 0 0 0 0 0 0 0 0 0 0 0 0 0 0 0 0 0 0 0 0 0\n",
      " 0 0 0 0 0 0 0 0 0 0 0 0 0 0 0 0 0 0 0 0 0 0 0 0 1 0 0 0 0 0 0 0 0 0 0 0 0\n",
      " 0 0 0 0 0 0 0 1 0 0 0 0 0 0 1 0 0 0 0 0 0 0 0 0 1 0 0 0 0 0 0 0 0 0 0 0 0\n",
      " 0 0 0 0 0 0 0 0 0 0 0 0 0 0 0 0 0 0 0 0 0 0 0 0 0 0 0 0 1 0 0 0 0 1 0 0 0\n",
      " 0 0 0 0 0 0 1 0 0 0 0 0 0 0 0 0 0 0 0 0 0 0 0 0 1 0 0 0 0 0 0 0 0 1 0 0 0\n",
      " 0 0 0 0 0 0 0 0 0 0 0 0 0 0 0 0 0 0 1 0 0 0 0 0 0 0 0 0 0 0 1 1 0 0]\n",
      "Accuracy: 0.9381188118811881, Precision: 0.08333333333333333, Recall: 0.4, F1-Score: 0.13793103448275862, \n",
      "Num True Negative: 377, Num False Negative: 3, Num True Positive: 2, Num False Positive: 22\n",
      "Outlier threshold:  0.08293515095760118\n",
      "Average clusterpoint energy:  -0.11318174753759329\n",
      "Outlier energy:  [[-0.15019034]\n",
      " [ 0.10734578]\n",
      " [ 0.08556329]\n",
      " [-0.03639746]\n",
      " [ 0.06821431]]\n",
      "Outlier threshold:  -0.025176452352270423\n",
      "Calculate outlier Energy\n"
     ]
    },
    {
     "name": "stderr",
     "output_type": "stream",
     "text": [
      "100%|███████████████████████████████████████████████████████████████████████████████████| 5/5 [00:00<00:00, 904.06it/s]\n"
     ]
    },
    {
     "name": "stdout",
     "output_type": "stream",
     "text": [
      "Calculate cluster energy\n"
     ]
    },
    {
     "name": "stderr",
     "output_type": "stream",
     "text": [
      "100%|██████████████████████████████████████████████████████████████████████████████| 399/399 [00:00<00:00, 1329.94it/s]\n"
     ]
    },
    {
     "name": "stdout",
     "output_type": "stream",
     "text": [
      "Outlier classification: Results...\n",
      "Predicted points test:  [0 0 0 0 0 0 0 0 0 0 0 0 0 0 0 0 0 0 0 0 0 0 0 0 0 0 0 0 0 0 0 1 0 0 0 0 0\n",
      " 0 0 0 0 0 0 0 0 0 0 0 0 0 0 0 1 0 0 0 0 1 0 0 1 0 1 0 0 0 0 0 0 1 0 0 1 0\n",
      " 0 0 0 0 0 0 0 0 0 0 0 0 0 0 0 0 0 0 0 0 0 0 0 0 0 0 0 0 0 0 0 0 0 0 0 0 0\n",
      " 0 0 0 1 0 0 0 0 0 0 0 0 0 0 0 0 0 0 0 0 0 0 0 0 0 0 0 0 0 0 0 0 0 0 0 0 0\n",
      " 0 0 0 0 0 0 0 0 0 0 0 0 0 0 0 0 1 0 0 0 0 0 0 0 0 0 0 0 0 1 0 0 0 0 0 0 0\n",
      " 0 0 0 0 0 0 0 0 1 0 0 0 0 0 0 0 0 0 0 0 0 1 0 0 0 0 0 0 0 0 0 0 0 0 0 0 0\n",
      " 0 0 0 1 0 0 0 0 0 0 0 0 0 0 0 0 0 0 1 0 0 0 0 0 0 0 0 0 0 0 0 0 0 0 0 1 0\n",
      " 0 0 0 0 0 0 0 0 0 0 0 0 0 0 0 0 0 0 0 0 0 0 0 0 0 0 0 0 0 0 0 0 0 0 0 0 0\n",
      " 0 0 1 0 0 0 1 0 0 0 0 0 0 0 0 0 0 0 0 0 0 0 0 0 0 0 0 0 0 0 0 0 0 0 1 0 0\n",
      " 0 1 0 0 0 0 0 0 0 0 0 0 0 0 0 0 0 0 0 0 0 1 0 0 0 1 0 0 0 0 0 0 0 0 0 0 0\n",
      " 0 0 0 0 0 0 0 0 0 0 0 0 0 0 0 0 0 0 0 0 0 0 0 0 0 0 0 0 0 0 1 1 0 1]\n",
      "Accuracy: 0.943069306930693, Precision: 0.125, Recall: 0.6, F1-Score: 0.20689655172413793, \n",
      "Num True Negative: 378, Num False Negative: 2, Num True Positive: 3, Num False Positive: 21\n",
      "Outlier threshold:  -0.025176452352270423\n",
      "Average clusterpoint energy:  -0.21972548762369745\n",
      "Outlier energy:  [[-0.21618016]\n",
      " [ 0.25902472]\n",
      " [ 0.05609055]\n",
      " [-0.19178139]\n",
      " [ 0.2554932 ]]\n",
      "Outlier threshold:  -0.0809623345013169\n",
      "Calculate outlier Energy\n"
     ]
    },
    {
     "name": "stderr",
     "output_type": "stream",
     "text": [
      "100%|███████████████████████████████████████████████████████████████████████████████████| 5/5 [00:00<00:00, 751.21it/s]\n"
     ]
    },
    {
     "name": "stdout",
     "output_type": "stream",
     "text": [
      "Calculate cluster energy\n"
     ]
    },
    {
     "name": "stderr",
     "output_type": "stream",
     "text": [
      "100%|██████████████████████████████████████████████████████████████████████████████| 399/399 [00:00<00:00, 1192.44it/s]\n"
     ]
    },
    {
     "name": "stdout",
     "output_type": "stream",
     "text": [
      "Outlier classification: Results...\n",
      "Predicted points test:  [0 0 0 1 0 1 0 0 0 0 0 0 1 0 0 0 0 0 0 0 0 0 0 0 0 0 0 0 0 0 0 1 0 0 0 0 0\n",
      " 0 0 0 0 0 0 0 0 0 0 0 0 0 0 0 0 0 0 0 0 1 0 0 1 0 0 0 0 0 0 0 0 0 0 0 0 0\n",
      " 0 0 0 0 0 0 0 0 1 0 0 0 0 0 0 0 0 0 0 0 0 0 0 0 0 0 0 0 0 1 0 0 0 0 0 0 0\n",
      " 0 0 0 1 0 0 0 0 0 0 0 0 0 0 0 0 0 0 0 0 0 0 0 0 0 0 0 0 0 0 0 0 0 0 0 0 0\n",
      " 0 0 0 0 0 0 0 0 0 0 0 0 0 0 0 0 0 0 0 0 0 0 0 0 0 0 0 0 0 0 0 1 0 0 0 0 0\n",
      " 0 0 0 0 0 0 0 0 0 0 0 0 0 0 0 0 0 0 0 0 0 0 0 0 0 0 0 0 0 0 0 0 0 0 0 0 0\n",
      " 0 0 0 0 1 0 0 0 0 0 0 0 0 0 0 0 0 0 1 0 0 0 0 0 0 0 0 0 0 0 0 0 0 0 0 1 0\n",
      " 0 0 0 0 0 0 0 0 0 0 0 0 0 0 0 0 0 0 0 0 0 0 0 0 0 0 0 0 0 0 0 0 0 0 0 0 0\n",
      " 0 0 1 0 0 0 0 0 0 0 0 0 0 0 0 0 0 1 0 0 0 0 0 0 0 0 0 0 0 0 0 0 0 0 1 0 0\n",
      " 0 0 1 0 0 1 0 0 0 0 0 0 0 0 0 0 0 1 0 0 0 0 0 0 0 1 0 0 0 0 0 0 0 0 0 0 0\n",
      " 0 0 0 1 0 0 0 0 0 0 0 0 0 0 0 0 0 0 0 0 0 0 1 0 0 0 0 0 0 0 1 1 0 1]\n",
      "Accuracy: 0.9405940594059405, Precision: 0.12, Recall: 0.6, F1-Score: 0.2, \n",
      "Num True Negative: 377, Num False Negative: 2, Num True Positive: 3, Num False Positive: 22\n",
      "Outlier threshold:  -0.0809623345013169\n",
      "Average clusterpoint energy:  -0.3212211563013506\n",
      "Outlier energy:  [[-0.28884276]\n",
      " [ 0.2459982 ]\n",
      " [ 0.17584684]\n",
      " [-0.17850055]\n",
      " [ 0.48335853]]\n",
      "Outlier threshold:  -0.11691364892303036\n",
      "Calculate outlier Energy\n"
     ]
    },
    {
     "name": "stderr",
     "output_type": "stream",
     "text": [
      "100%|███████████████████████████████████████████████████████████████████████████████████| 5/5 [00:00<00:00, 780.07it/s]\n"
     ]
    },
    {
     "name": "stdout",
     "output_type": "stream",
     "text": [
      "Calculate cluster energy\n"
     ]
    },
    {
     "name": "stderr",
     "output_type": "stream",
     "text": [
      "100%|██████████████████████████████████████████████████████████████████████████████| 399/399 [00:00<00:00, 1150.76it/s]\n"
     ]
    },
    {
     "name": "stdout",
     "output_type": "stream",
     "text": [
      "Outlier classification: Results...\n",
      "Predicted points test:  [0 0 0 0 0 1 0 0 0 0 0 0 1 0 0 0 0 0 0 0 0 0 0 0 0 0 0 0 0 0 0 1 0 0 0 0 0\n",
      " 0 0 0 0 0 0 0 0 0 0 0 0 0 0 0 0 0 0 0 0 1 0 0 1 0 0 0 0 0 0 0 0 0 0 0 0 0\n",
      " 0 0 0 0 0 0 0 0 0 0 0 0 0 0 0 0 0 0 0 0 0 0 0 0 0 0 0 0 0 1 0 0 0 0 0 0 0\n",
      " 0 0 0 1 0 0 0 0 0 0 0 0 0 0 0 0 0 0 0 0 0 0 0 0 0 0 0 0 0 0 0 0 0 0 0 0 0\n",
      " 0 0 0 0 0 0 0 0 0 0 0 0 0 0 0 0 0 0 0 0 0 0 0 0 0 0 0 0 0 0 0 0 0 0 0 0 0\n",
      " 0 0 1 0 0 0 0 0 0 0 0 0 0 0 0 0 0 0 0 0 0 0 0 0 0 0 0 0 0 0 0 0 0 0 0 0 0\n",
      " 0 0 0 0 0 0 0 0 0 0 0 0 0 0 0 0 0 0 1 0 0 0 0 0 0 0 0 0 0 0 0 0 0 0 0 1 0\n",
      " 0 0 0 0 0 0 0 0 0 0 0 0 0 0 0 0 0 0 0 0 0 0 0 0 0 0 1 0 0 0 0 0 0 0 0 0 0\n",
      " 0 0 1 0 0 0 1 0 0 0 0 0 0 0 0 0 0 1 0 0 0 0 0 0 0 0 0 0 0 0 0 0 0 0 1 0 0\n",
      " 0 0 1 0 0 1 0 0 0 0 0 0 0 0 0 0 0 0 0 0 0 0 0 0 0 1 0 0 0 1 0 0 0 0 0 0 0\n",
      " 0 0 0 0 0 0 0 0 0 1 0 0 0 0 0 0 0 0 0 0 0 0 1 0 0 0 0 0 0 0 1 1 0 1]\n",
      "Accuracy: 0.943069306930693, Precision: 0.125, Recall: 0.6, F1-Score: 0.20689655172413793, \n",
      "Num True Negative: 378, Num False Negative: 2, Num True Positive: 3, Num False Positive: 21\n",
      "Outlier threshold:  -0.11691364892303036\n",
      "Average clusterpoint energy:  -0.41744843905095436\n",
      "Outlier energy:  [[-0.32039484]\n",
      " [ 0.38660689]\n",
      " [ 0.2102888 ]\n",
      " [-0.27738074]\n",
      " [ 0.58354474]]\n",
      "Outlier threshold:  -0.14173870688495163\n",
      "Calculate outlier Energy\n"
     ]
    },
    {
     "name": "stderr",
     "output_type": "stream",
     "text": [
      "100%|███████████████████████████████████████████████████████████████████████████████████| 5/5 [00:00<00:00, 730.08it/s]\n"
     ]
    },
    {
     "name": "stdout",
     "output_type": "stream",
     "text": [
      "Calculate cluster energy\n"
     ]
    },
    {
     "name": "stderr",
     "output_type": "stream",
     "text": [
      "100%|██████████████████████████████████████████████████████████████████████████████| 399/399 [00:00<00:00, 1089.12it/s]\n"
     ]
    },
    {
     "name": "stdout",
     "output_type": "stream",
     "text": [
      "Outlier classification: Results...\n",
      "Predicted points test:  [0 0 0 1 0 0 0 0 0 0 0 0 0 0 0 0 0 0 0 0 0 0 0 0 0 0 0 0 0 0 0 1 0 0 0 0 0\n",
      " 0 0 0 0 0 0 0 0 0 0 0 0 0 0 0 0 0 0 0 0 1 0 0 1 0 0 0 0 0 0 0 0 0 0 0 0 0\n",
      " 0 0 0 0 0 0 0 0 0 0 0 0 0 0 0 0 0 0 0 0 0 0 0 0 0 0 0 0 0 0 0 0 0 0 0 0 0\n",
      " 0 0 0 1 0 0 0 0 0 0 0 0 0 0 0 0 0 0 0 0 0 0 0 0 0 0 0 0 0 0 0 0 0 0 0 0 0\n",
      " 0 0 0 0 0 0 0 0 0 0 0 1 0 0 0 0 0 0 0 0 0 0 0 0 0 0 0 0 0 1 0 0 0 0 0 0 0\n",
      " 0 0 0 0 0 0 0 0 0 0 0 0 0 0 0 0 0 0 0 0 0 0 0 0 0 0 0 0 0 0 0 0 0 0 0 0 0\n",
      " 0 0 0 0 0 0 0 0 0 0 0 0 0 0 0 0 0 0 1 0 0 0 0 0 0 0 0 0 0 0 0 0 0 0 0 0 0\n",
      " 0 0 0 0 0 0 0 0 0 0 0 0 0 0 0 0 0 0 0 0 0 0 0 0 0 0 0 0 0 0 0 0 0 0 0 0 0\n",
      " 0 0 1 0 0 0 0 0 0 0 0 0 0 0 0 0 0 0 0 0 0 0 0 0 0 0 0 0 0 0 0 0 0 0 1 0 0\n",
      " 0 0 1 0 0 0 0 0 0 0 0 0 0 0 0 0 0 0 0 0 0 0 0 0 0 1 0 0 0 0 0 0 0 0 0 0 0\n",
      " 0 0 0 0 0 0 0 0 0 0 0 0 0 0 0 0 0 0 0 0 0 0 0 0 0 0 0 0 0 0 1 1 0 1]\n",
      "Accuracy: 0.9653465346534653, Precision: 0.2, Recall: 0.6, F1-Score: 0.3, \n",
      "Num True Negative: 387, Num False Negative: 2, Num True Positive: 3, Num False Positive: 12\n",
      "Outlier threshold:  -0.14173870688495163\n",
      "Average clusterpoint energy:  -0.5026623916710067\n",
      "Outlier energy:  [[-0.36693576]\n",
      " [ 0.34768587]\n",
      " [ 0.15992229]\n",
      " [-0.30533331]\n",
      " [ 0.78427503]]\n",
      "Outlier threshold:  0.1037799946549409\n",
      "Calculate outlier Energy\n"
     ]
    },
    {
     "name": "stderr",
     "output_type": "stream",
     "text": [
      "100%|███████████████████████████████████████████████████████████████████████████████████| 5/5 [00:00<00:00, 707.54it/s]\n"
     ]
    },
    {
     "name": "stdout",
     "output_type": "stream",
     "text": [
      "Calculate cluster energy\n"
     ]
    },
    {
     "name": "stderr",
     "output_type": "stream",
     "text": [
      "100%|██████████████████████████████████████████████████████████████████████████████| 399/399 [00:00<00:00, 1130.59it/s]\n"
     ]
    },
    {
     "name": "stdout",
     "output_type": "stream",
     "text": [
      "Outlier classification: Results...\n",
      "Predicted points test:  [0 0 0 0 0 0 0 0 0 0 0 0 0 0 0 0 0 0 0 0 0 1 0 0 0 0 0 0 0 0 0 0 0 0 0 0 0\n",
      " 0 0 0 0 0 0 0 0 0 0 0 1 1 0 0 1 0 0 0 0 0 0 0 0 0 0 0 1 0 0 1 0 0 0 0 0 1\n",
      " 1 0 0 0 0 0 0 0 0 0 0 0 0 0 0 0 0 0 0 0 0 0 1 0 0 0 0 0 0 0 0 1 0 0 0 0 0\n",
      " 0 0 0 0 0 0 0 0 0 0 0 0 0 0 1 0 0 0 0 0 0 0 0 0 0 1 0 0 0 0 0 0 0 0 0 0 1\n",
      " 0 0 0 0 0 0 0 0 0 0 0 0 0 1 0 0 0 0 0 0 0 0 0 0 0 0 0 0 0 0 0 0 0 0 0 0 0\n",
      " 0 0 0 0 0 0 0 0 0 0 0 0 0 0 0 0 0 1 0 0 0 0 0 0 0 0 0 0 1 0 0 0 0 0 0 0 0\n",
      " 0 0 0 1 0 0 0 0 0 0 0 0 0 0 0 0 0 0 0 0 0 0 0 0 0 0 0 0 0 0 0 0 0 0 0 0 0\n",
      " 0 0 0 0 0 0 0 1 0 0 0 0 0 0 0 0 0 0 0 0 0 0 0 0 1 0 0 0 0 0 0 0 0 0 0 0 0\n",
      " 0 0 0 1 0 0 0 0 0 0 0 0 0 0 0 0 0 0 0 0 0 0 0 0 0 0 0 0 0 0 0 0 0 0 0 0 0\n",
      " 0 1 0 0 0 0 0 0 0 0 0 0 0 0 0 0 0 0 0 1 0 1 0 0 0 0 0 0 0 0 0 0 0 1 0 0 0\n",
      " 0 0 0 0 0 0 0 0 0 0 0 0 0 0 0 0 0 0 0 0 0 0 0 0 0 0 0 0 0 0 1 0 0 1]\n",
      "Accuracy: 0.9331683168316832, Precision: 0.07692307692307693, Recall: 0.4, F1-Score: 0.12903225806451613, \n",
      "Num True Negative: 375, Num False Negative: 3, Num True Positive: 2, Num False Positive: 24\n",
      "Outlier threshold:  0.1037799946549409\n",
      "Average clusterpoint energy:  -0.08171224004641693\n",
      "Outlier energy:  [[-0.1077788 ]\n",
      " [ 0.13495708]\n",
      " [-0.00978209]\n",
      " [-0.13442703]\n",
      " [ 0.19384384]]\n",
      "Outlier threshold:  -0.007694656289902124\n",
      "Calculate outlier Energy\n"
     ]
    },
    {
     "name": "stderr",
     "output_type": "stream",
     "text": [
      "100%|███████████████████████████████████████████████████████████████████████████████████| 5/5 [00:00<00:00, 624.25it/s]\n"
     ]
    },
    {
     "name": "stdout",
     "output_type": "stream",
     "text": [
      "Calculate cluster energy\n"
     ]
    },
    {
     "name": "stderr",
     "output_type": "stream",
     "text": [
      "100%|██████████████████████████████████████████████████████████████████████████████| 399/399 [00:00<00:00, 1108.06it/s]\n"
     ]
    },
    {
     "name": "stdout",
     "output_type": "stream",
     "text": [
      "Outlier classification: Results...\n",
      "Predicted points test:  [0 0 0 0 0 0 0 0 0 0 0 0 0 0 0 0 0 0 0 0 0 0 0 0 0 0 0 0 0 0 0 1 1 0 0 0 0\n",
      " 0 0 0 0 0 0 0 0 0 0 0 0 0 0 0 0 0 0 0 0 1 0 0 1 0 0 0 0 0 0 0 0 0 0 0 0 0\n",
      " 0 0 0 0 0 0 0 0 0 0 0 0 0 0 0 0 0 0 0 0 0 0 0 0 0 0 0 0 0 0 0 0 0 0 0 0 0\n",
      " 0 0 0 1 0 0 0 0 0 0 0 0 0 0 0 0 0 0 0 0 0 0 0 0 0 0 0 0 0 0 0 0 0 0 0 0 0\n",
      " 0 0 0 0 0 0 0 0 0 0 0 0 0 0 0 0 1 0 0 0 0 0 0 1 0 0 0 0 0 0 0 0 0 0 0 0 0\n",
      " 0 0 0 0 0 0 0 0 0 0 0 0 0 0 0 0 0 0 0 0 0 0 0 0 0 0 0 0 0 0 0 0 0 0 0 1 0\n",
      " 0 0 0 0 0 0 0 0 0 0 0 0 0 0 0 0 0 0 1 0 0 0 0 0 0 0 0 0 0 0 0 0 0 0 0 0 0\n",
      " 0 0 0 0 0 0 0 0 0 0 0 0 0 0 0 0 0 0 0 0 0 0 0 0 0 0 0 0 0 0 0 0 0 0 0 0 0\n",
      " 0 0 1 0 0 0 0 0 1 0 0 0 0 0 0 0 0 0 0 0 0 0 0 0 0 0 0 0 1 0 0 0 0 0 1 0 0\n",
      " 0 0 0 0 0 0 0 0 0 0 0 0 0 0 0 0 0 0 0 0 0 0 0 0 0 1 0 0 0 0 0 0 0 0 0 0 0\n",
      " 0 0 0 0 0 0 0 0 0 0 0 0 1 0 0 0 0 0 0 0 0 0 0 0 0 0 0 0 0 0 1 1 0 1]\n",
      "Accuracy: 0.9579207920792079, Precision: 0.16666666666666666, Recall: 0.6, F1-Score: 0.2608695652173913, \n",
      "Num True Negative: 384, Num False Negative: 2, Num True Positive: 3, Num False Positive: 15\n",
      "Outlier threshold:  -0.007694656289902124\n",
      "Average clusterpoint energy:  -0.18356691059960603\n",
      "Outlier energy:  [[-0.17885042]\n",
      " [ 0.12056676]\n",
      " [ 0.02765509]\n",
      " [-0.19548564]\n",
      " [ 0.1960352 ]]\n",
      "Outlier threshold:  -0.08891821932121265\n",
      "Calculate outlier Energy\n"
     ]
    },
    {
     "name": "stderr",
     "output_type": "stream",
     "text": [
      "100%|███████████████████████████████████████████████████████████████████████████████████| 5/5 [00:00<00:00, 821.45it/s]\n"
     ]
    },
    {
     "name": "stdout",
     "output_type": "stream",
     "text": [
      "Calculate cluster energy\n"
     ]
    },
    {
     "name": "stderr",
     "output_type": "stream",
     "text": [
      "100%|██████████████████████████████████████████████████████████████████████████████| 399/399 [00:00<00:00, 1299.23it/s]\n"
     ]
    },
    {
     "name": "stdout",
     "output_type": "stream",
     "text": [
      "Outlier classification: Results...\n",
      "Predicted points test:  [0 0 0 0 0 1 0 0 0 0 0 1 0 0 0 0 0 0 0 0 0 0 0 0 0 0 0 0 0 0 0 1 0 0 0 0 0\n",
      " 0 0 0 0 1 0 1 0 0 0 0 0 0 0 0 0 0 0 0 0 1 0 0 1 0 0 0 0 0 0 0 0 0 0 0 0 0\n",
      " 0 0 0 0 0 0 0 0 1 0 0 0 0 0 0 0 0 0 0 0 0 0 0 0 0 0 0 0 0 1 0 0 0 0 0 0 0\n",
      " 0 0 0 1 0 0 0 0 0 0 0 0 0 0 0 0 0 0 0 0 0 0 0 0 1 0 0 0 0 0 0 0 0 0 0 0 0\n",
      " 0 0 0 0 0 0 0 0 0 0 0 0 0 0 0 0 0 0 0 0 0 0 0 0 0 0 0 0 0 0 0 0 0 0 0 0 0\n",
      " 0 0 0 0 0 0 1 0 0 0 0 0 0 0 0 0 0 0 0 0 0 0 0 0 0 0 0 0 0 0 0 0 0 0 0 0 0\n",
      " 0 0 0 0 0 0 0 1 0 0 0 0 0 0 0 0 0 0 1 0 0 0 0 0 0 0 0 0 0 0 0 0 0 0 0 0 0\n",
      " 0 0 0 0 0 0 0 0 0 0 0 0 0 0 0 0 0 0 0 0 0 0 0 0 0 0 1 0 0 0 0 0 0 0 0 0 0\n",
      " 0 0 1 0 0 0 0 0 0 0 0 0 0 0 0 0 0 0 0 0 0 1 0 0 0 0 0 0 0 0 0 0 0 0 1 0 0\n",
      " 0 0 0 0 0 0 0 0 0 0 0 0 0 0 0 0 0 0 0 0 0 0 0 0 0 1 0 1 0 0 0 0 0 0 0 0 1\n",
      " 0 0 0 0 0 0 0 0 0 0 0 0 0 0 0 0 0 0 0 0 0 0 1 0 0 0 0 0 0 0 1 1 0 1]\n",
      "Accuracy: 0.9405940594059405, Precision: 0.12, Recall: 0.6, F1-Score: 0.2, \n",
      "Num True Negative: 377, Num False Negative: 2, Num True Positive: 3, Num False Positive: 22\n",
      "Outlier threshold:  -0.08891821932121265\n",
      "Average clusterpoint energy:  -0.27505000602483237\n",
      "Outlier energy:  [[-0.24248226]\n",
      " [ 0.1841986 ]\n",
      " [ 0.15878588]\n",
      " [-0.17096611]\n",
      " [ 0.35526707]]\n",
      "Outlier threshold:  -0.09935436874302082\n",
      "Calculate outlier Energy\n"
     ]
    },
    {
     "name": "stderr",
     "output_type": "stream",
     "text": [
      "100%|██████████████████████████████████████████████████████████████████████████████████| 5/5 [00:00<00:00, 3316.18it/s]\n"
     ]
    },
    {
     "name": "stdout",
     "output_type": "stream",
     "text": [
      "Calculate cluster energy\n"
     ]
    },
    {
     "name": "stderr",
     "output_type": "stream",
     "text": [
      "100%|██████████████████████████████████████████████████████████████████████████████| 399/399 [00:00<00:00, 1252.18it/s]\n"
     ]
    },
    {
     "name": "stdout",
     "output_type": "stream",
     "text": [
      "Outlier classification: Results...\n",
      "Predicted points test:  [0 0 0 0 0 1 0 0 0 0 0 0 0 0 0 0 0 0 0 0 0 0 0 0 0 0 0 0 0 0 0 1 0 0 0 0 0\n",
      " 0 0 0 0 1 0 0 0 0 0 0 0 0 0 0 0 0 0 0 0 1 0 0 1 0 0 0 0 0 0 0 0 0 0 0 0 0\n",
      " 0 0 0 0 0 0 0 0 1 0 0 0 0 0 0 0 0 0 0 0 0 0 0 0 0 0 0 0 0 0 0 0 0 0 0 0 0\n",
      " 0 0 0 1 0 0 0 0 0 0 0 0 0 0 0 0 0 0 0 0 0 0 0 0 0 0 0 0 0 0 0 0 0 0 0 0 0\n",
      " 0 0 0 0 0 0 0 0 0 0 0 0 0 0 0 0 0 0 0 0 0 0 0 0 0 0 0 0 0 0 0 0 0 0 0 0 0\n",
      " 0 0 0 0 0 0 0 0 0 0 0 0 0 0 0 0 0 0 0 0 0 0 0 0 0 0 0 0 0 0 0 0 0 0 0 0 0\n",
      " 0 0 0 0 0 0 0 0 0 0 0 0 0 0 0 0 0 0 1 0 0 0 0 0 0 0 0 0 0 0 0 0 0 0 0 0 0\n",
      " 0 0 0 0 0 0 0 0 0 0 0 0 0 0 0 1 0 0 0 0 0 0 0 0 0 0 0 0 0 0 0 0 0 0 0 0 0\n",
      " 0 0 1 0 0 0 0 0 0 0 0 0 0 0 0 0 0 0 0 0 0 0 0 0 0 0 0 0 0 0 0 0 0 0 1 0 0\n",
      " 0 0 0 0 0 0 0 0 0 0 0 0 0 0 0 0 0 0 0 0 0 0 0 0 0 1 0 0 0 1 0 0 0 0 0 0 0\n",
      " 0 0 0 0 0 0 0 0 0 1 0 0 0 0 0 0 0 0 0 0 0 0 0 0 0 0 0 0 0 0 1 1 0 1]\n",
      "Accuracy: 0.9603960396039604, Precision: 0.17647058823529413, Recall: 0.6, F1-Score: 0.2727272727272727, \n",
      "Num True Negative: 385, Num False Negative: 2, Num True Positive: 3, Num False Positive: 14\n",
      "Outlier threshold:  -0.09935436874302082\n",
      "Average clusterpoint energy:  -0.36202615303637775\n",
      "Outlier energy:  [[-0.28315462]\n",
      " [ 0.23238166]\n",
      " [ 0.17773181]\n",
      " [-0.27298312]\n",
      " [ 0.61591274]]\n",
      "Outlier threshold:  -0.11417292718417557\n",
      "Calculate outlier Energy\n"
     ]
    },
    {
     "name": "stderr",
     "output_type": "stream",
     "text": [
      "100%|███████████████████████████████████████████████████████████████████████████████████| 5/5 [00:00<00:00, 714.63it/s]\n"
     ]
    },
    {
     "name": "stdout",
     "output_type": "stream",
     "text": [
      "Calculate cluster energy\n"
     ]
    },
    {
     "name": "stderr",
     "output_type": "stream",
     "text": [
      "100%|██████████████████████████████████████████████████████████████████████████████| 399/399 [00:00<00:00, 1196.48it/s]\n"
     ]
    },
    {
     "name": "stdout",
     "output_type": "stream",
     "text": [
      "Outlier classification: Results...\n",
      "Predicted points test:  [0 0 0 0 0 0 0 0 0 0 0 0 1 0 0 0 0 0 0 0 0 0 0 0 0 0 0 0 0 0 0 1 0 0 0 0 0\n",
      " 0 0 0 0 1 0 0 0 0 0 0 0 0 0 0 0 0 0 0 0 1 0 0 1 0 0 0 0 0 0 0 0 0 0 0 0 0\n",
      " 0 0 0 0 0 0 0 0 1 0 0 0 0 0 0 0 0 0 0 0 0 0 0 0 0 0 0 0 0 0 0 0 0 0 0 0 0\n",
      " 0 0 0 1 0 0 0 0 0 0 0 0 0 0 0 0 0 0 0 0 0 0 0 0 0 0 0 0 0 0 0 0 0 0 0 0 0\n",
      " 0 0 0 0 0 0 0 0 0 0 0 0 0 0 0 0 0 0 0 0 1 0 0 0 0 0 0 0 0 1 0 1 0 0 0 0 0\n",
      " 0 0 0 0 0 0 0 0 0 0 0 0 0 0 0 0 0 0 0 0 0 0 1 0 0 0 0 0 0 0 0 0 0 0 0 0 0\n",
      " 1 0 0 0 0 0 0 0 0 0 0 0 0 0 0 1 0 0 1 0 0 0 0 0 0 0 0 0 0 0 0 0 0 0 0 1 0\n",
      " 0 0 0 0 0 0 0 0 0 0 0 0 0 0 0 0 0 0 0 0 0 0 0 0 0 1 0 0 0 0 0 0 0 0 0 0 0\n",
      " 0 0 1 0 0 0 0 0 0 0 0 0 0 0 0 0 0 0 0 0 0 0 0 0 0 0 0 0 0 0 0 0 0 0 1 0 0\n",
      " 0 0 1 0 0 1 0 0 0 0 0 0 0 0 0 0 0 1 0 0 0 0 0 0 0 1 0 0 0 0 0 0 0 0 0 0 0\n",
      " 0 0 0 0 0 0 0 0 0 0 0 0 0 0 0 0 0 0 0 0 0 0 0 0 0 0 0 0 0 0 1 1 0 1]\n",
      "Accuracy: 0.9405940594059405, Precision: 0.12, Recall: 0.6, F1-Score: 0.2, \n",
      "Num True Negative: 377, Num False Negative: 2, Num True Positive: 3, Num False Positive: 22\n",
      "Outlier threshold:  -0.11417292718417557\n",
      "Average clusterpoint energy:  -0.4416186953643523\n",
      "Outlier energy:  [[-0.34746783]\n",
      " [ 0.36671772]\n",
      " [ 0.22181103]\n",
      " [-0.27790797]\n",
      " [ 0.69527401]]\n",
      "Outlier threshold:  0.016195822765738818\n",
      "Calculate outlier Energy\n"
     ]
    },
    {
     "name": "stderr",
     "output_type": "stream",
     "text": [
      "100%|███████████████████████████████████████████████████████████████████████████████████| 5/5 [00:00<00:00, 929.75it/s]\n"
     ]
    },
    {
     "name": "stdout",
     "output_type": "stream",
     "text": [
      "Calculate cluster energy\n"
     ]
    },
    {
     "name": "stderr",
     "output_type": "stream",
     "text": [
      "100%|██████████████████████████████████████████████████████████████████████████████| 399/399 [00:00<00:00, 1176.43it/s]\n"
     ]
    },
    {
     "name": "stdout",
     "output_type": "stream",
     "text": [
      "Outlier classification: Results...\n",
      "Predicted points test:  [0 0 0 0 0 0 0 0 0 1 0 0 0 0 0 0 0 0 0 0 0 0 0 0 0 0 0 0 0 0 0 0 0 0 0 0 1\n",
      " 0 0 0 0 0 1 0 0 0 0 0 0 0 0 0 0 0 0 0 0 0 0 0 0 0 1 0 1 0 1 0 0 1 0 0 0 0\n",
      " 0 0 0 0 0 0 0 0 1 1 0 0 0 0 0 0 0 0 0 0 0 0 0 0 0 0 0 0 0 1 0 0 0 0 0 0 0\n",
      " 0 0 0 1 0 0 0 0 0 0 0 0 0 0 0 0 0 0 0 0 0 0 0 0 0 0 0 1 0 0 0 0 0 0 0 0 1\n",
      " 0 0 0 0 0 0 0 0 0 0 0 0 0 0 0 0 0 0 0 0 0 0 0 0 0 0 0 0 0 0 0 1 0 0 0 0 0\n",
      " 0 0 0 1 0 0 0 0 0 0 0 0 0 0 0 0 0 0 0 0 0 0 0 0 0 0 0 0 1 0 0 0 0 0 0 0 0\n",
      " 0 0 1 0 0 0 0 0 0 0 0 0 0 0 0 0 0 0 0 0 0 1 0 0 0 0 0 0 0 0 0 0 0 1 0 0 0\n",
      " 0 0 0 0 0 0 0 0 0 0 0 0 0 0 1 0 1 0 0 0 0 0 0 0 0 0 0 0 0 0 0 0 0 0 0 0 0\n",
      " 0 0 0 0 0 0 0 0 0 0 0 0 0 0 0 0 0 1 0 0 0 0 0 0 0 0 0 0 0 0 0 0 0 0 0 0 0\n",
      " 0 0 0 0 0 1 0 0 0 0 0 0 0 0 0 0 0 1 0 1 0 0 0 0 0 1 0 0 0 1 0 0 0 0 0 0 0\n",
      " 0 1 0 0 0 0 1 0 0 1 0 0 0 0 0 0 0 0 1 0 0 0 0 0 0 0 0 0 0 0 0 1 0 1]\n",
      "Accuracy: 0.9158415841584159, Precision: 0.06060606060606061, Recall: 0.4, F1-Score: 0.10526315789473684, \n",
      "Num True Negative: 368, Num False Negative: 3, Num True Positive: 2, Num False Positive: 31\n",
      "Outlier threshold:  0.016195822765738818\n",
      "Average clusterpoint energy:  -0.07377290632129349\n",
      "Outlier energy:  [[-0.06843996]\n",
      " [ 0.00222791]\n",
      " [ 0.09420442]\n",
      " [-0.13833919]\n",
      " [ 0.11561438]]\n",
      "Outlier threshold:  0.007006516665940099\n",
      "Calculate outlier Energy\n"
     ]
    },
    {
     "name": "stderr",
     "output_type": "stream",
     "text": [
      "100%|███████████████████████████████████████████████████████████████████████████████████| 5/5 [00:00<00:00, 744.33it/s]\n"
     ]
    },
    {
     "name": "stdout",
     "output_type": "stream",
     "text": [
      "Calculate cluster energy\n"
     ]
    },
    {
     "name": "stderr",
     "output_type": "stream",
     "text": [
      "100%|██████████████████████████████████████████████████████████████████████████████| 399/399 [00:00<00:00, 1164.54it/s]\n"
     ]
    },
    {
     "name": "stdout",
     "output_type": "stream",
     "text": [
      "Outlier classification: Results...\n",
      "Predicted points test:  [0 0 0 0 0 0 0 0 0 1 0 0 0 0 0 0 0 0 0 0 0 1 0 0 0 0 0 0 0 0 0 0 0 0 0 0 0\n",
      " 0 0 0 0 0 0 0 0 0 0 0 0 0 0 0 0 0 0 0 0 0 0 0 0 0 1 0 0 0 0 0 0 1 0 0 0 1\n",
      " 0 1 0 0 0 0 0 1 0 0 0 0 0 0 0 0 0 0 0 0 0 1 0 0 0 0 0 1 0 0 0 0 0 0 0 0 1\n",
      " 0 0 0 1 0 0 0 0 0 0 0 0 0 0 1 0 0 0 0 0 0 0 0 0 0 1 0 0 0 0 0 0 1 0 0 0 0\n",
      " 0 0 0 0 0 0 0 0 0 0 0 0 0 0 0 0 0 0 0 0 0 0 0 0 0 0 0 0 0 0 0 0 0 0 0 0 0\n",
      " 0 0 0 0 0 0 0 0 0 0 0 0 0 0 0 0 0 0 0 0 0 0 0 0 0 0 0 0 0 0 0 0 0 0 0 0 0\n",
      " 0 0 1 0 0 0 0 0 0 0 0 0 0 0 0 0 0 0 1 0 0 0 0 0 0 1 1 0 0 0 0 0 0 0 0 0 0\n",
      " 0 0 0 0 0 0 0 0 0 0 0 0 0 0 0 0 0 0 0 0 0 0 0 0 0 0 0 0 0 0 0 0 0 0 0 0 0\n",
      " 0 0 1 0 0 0 0 0 0 0 0 0 0 0 0 0 0 0 0 0 0 0 0 0 0 0 0 0 1 0 0 0 0 0 0 0 0\n",
      " 0 0 0 0 0 0 0 0 0 0 0 0 0 1 0 0 0 0 0 0 0 0 0 0 0 1 0 0 0 0 0 0 0 0 0 0 0\n",
      " 0 0 0 0 0 0 1 0 0 0 0 0 0 0 0 0 0 0 0 0 0 0 0 0 0 0 0 0 0 0 1 1 0 1]\n",
      "Accuracy: 0.9381188118811881, Precision: 0.11538461538461539, Recall: 0.6, F1-Score: 0.1935483870967742, \n",
      "Num True Negative: 376, Num False Negative: 2, Num True Positive: 3, Num False Positive: 23\n",
      "Outlier threshold:  0.007006516665940099\n",
      "Average clusterpoint energy:  -0.16254735975874546\n",
      "Outlier energy:  [[-0.09850251]\n",
      " [ 0.06381353]\n",
      " [ 0.13121748]\n",
      " [-0.16279831]\n",
      " [ 0.26921659]]\n",
      "Outlier threshold:  -0.04664932757775643\n",
      "Calculate outlier Energy\n"
     ]
    },
    {
     "name": "stderr",
     "output_type": "stream",
     "text": [
      "100%|███████████████████████████████████████████████████████████████████████████████████| 5/5 [00:00<00:00, 624.95it/s]\n"
     ]
    },
    {
     "name": "stdout",
     "output_type": "stream",
     "text": [
      "Calculate cluster energy\n"
     ]
    },
    {
     "name": "stderr",
     "output_type": "stream",
     "text": [
      "100%|██████████████████████████████████████████████████████████████████████████████| 399/399 [00:00<00:00, 1303.27it/s]\n"
     ]
    },
    {
     "name": "stdout",
     "output_type": "stream",
     "text": [
      "Outlier classification: Results...\n",
      "Predicted points test:  [0 0 0 0 0 0 0 0 0 0 0 0 0 0 0 0 0 0 0 0 0 0 0 0 0 0 0 0 0 0 0 1 0 0 0 0 0\n",
      " 0 0 0 0 1 0 0 0 0 0 0 0 0 0 0 0 0 0 0 0 1 0 0 1 0 0 0 0 0 0 0 0 0 0 0 0 0\n",
      " 0 0 0 0 0 0 0 0 0 0 0 0 0 0 0 0 0 0 0 0 0 0 0 0 0 0 0 0 0 0 0 0 0 0 0 0 0\n",
      " 0 0 0 1 0 0 0 0 0 0 0 0 0 0 0 0 0 0 0 0 0 0 0 0 0 0 0 0 0 0 0 0 0 0 0 0 0\n",
      " 0 0 0 0 0 0 0 0 0 0 0 0 0 0 0 0 0 0 0 0 1 0 0 0 0 0 0 0 0 0 0 0 0 0 0 0 0\n",
      " 0 0 1 0 0 0 1 0 0 0 0 0 0 0 0 0 0 0 0 0 0 0 0 0 0 0 0 0 0 0 0 0 0 0 0 0 0\n",
      " 0 0 0 0 0 0 0 0 0 0 0 0 0 0 0 0 0 0 1 0 0 0 0 0 0 0 0 0 0 0 0 1 0 0 0 0 0\n",
      " 0 0 0 0 0 0 0 0 0 0 0 0 0 0 0 0 0 0 0 0 0 0 0 0 0 0 0 0 0 0 0 0 0 0 0 0 0\n",
      " 0 0 1 0 0 0 1 0 0 0 0 0 0 0 0 0 0 0 0 0 0 0 0 0 0 0 0 0 0 0 0 0 0 0 1 0 0\n",
      " 0 0 0 0 0 0 0 0 0 0 0 0 0 0 0 0 0 1 0 0 0 0 0 0 0 1 0 0 0 1 0 0 0 0 0 0 0\n",
      " 0 0 0 0 0 0 0 0 0 0 0 0 0 0 0 0 0 0 0 0 0 0 0 0 0 0 0 0 0 0 1 1 0 1]\n",
      "Accuracy: 0.9554455445544554, Precision: 0.15789473684210525, Recall: 0.6, F1-Score: 0.25, \n",
      "Num True Negative: 383, Num False Negative: 2, Num True Positive: 3, Num False Positive: 16\n",
      "Outlier threshold:  -0.04664932757775643\n",
      "Average clusterpoint energy:  -0.24650247569028777\n",
      "Outlier energy:  [[-0.17104684]\n",
      " [ 0.19029673]\n",
      " [ 0.09648036]\n",
      " [-0.25186355]\n",
      " [ 0.41263965]]\n",
      "Outlier threshold:  -0.06814575868888015\n",
      "Calculate outlier Energy\n"
     ]
    },
    {
     "name": "stderr",
     "output_type": "stream",
     "text": [
      "100%|██████████████████████████████████████████████████████████████████████████████████| 5/5 [00:00<00:00, 1245.19it/s]\n"
     ]
    },
    {
     "name": "stdout",
     "output_type": "stream",
     "text": [
      "Calculate cluster energy\n"
     ]
    },
    {
     "name": "stderr",
     "output_type": "stream",
     "text": [
      "100%|██████████████████████████████████████████████████████████████████████████████| 399/399 [00:00<00:00, 1248.39it/s]\n"
     ]
    },
    {
     "name": "stdout",
     "output_type": "stream",
     "text": [
      "Outlier classification: Results...\n",
      "Predicted points test:  [0 0 0 0 0 0 0 0 0 0 0 0 0 0 0 0 0 0 0 0 0 0 0 0 0 0 0 0 0 0 0 1 0 0 0 0 0\n",
      " 0 0 0 1 1 0 0 0 0 0 0 0 0 0 0 0 0 0 0 0 1 0 0 1 0 0 0 0 0 0 0 0 0 0 0 0 0\n",
      " 0 0 0 0 0 0 0 0 0 0 0 0 0 0 0 0 0 0 0 0 0 0 0 0 0 0 0 0 0 0 0 0 0 0 0 0 0\n",
      " 0 0 0 1 0 0 0 0 0 0 0 0 0 0 0 0 0 0 0 0 0 0 0 0 0 0 0 0 0 0 0 0 0 0 0 0 0\n",
      " 0 0 0 0 0 0 0 0 0 0 0 1 0 0 0 0 0 0 0 0 1 0 0 0 0 0 0 0 0 0 0 0 0 0 0 0 0\n",
      " 0 0 0 0 0 0 1 0 0 0 0 0 0 0 1 0 0 0 0 0 0 0 1 0 0 0 0 0 0 0 0 0 0 0 0 0 0\n",
      " 1 1 0 0 0 0 0 0 0 0 0 0 0 0 0 0 0 0 1 0 0 0 0 0 0 0 0 0 0 0 0 1 0 0 0 0 0\n",
      " 0 0 0 0 0 0 0 0 0 0 0 0 0 0 0 1 0 0 0 0 0 0 0 0 0 1 0 0 0 0 0 0 0 0 0 0 0\n",
      " 0 0 1 0 0 0 0 0 0 0 0 0 0 0 0 0 0 0 0 0 0 0 0 0 0 0 0 0 0 0 0 0 0 0 1 0 0\n",
      " 0 0 0 0 0 0 0 0 0 0 0 0 0 0 0 0 0 0 0 0 0 0 0 0 0 1 0 0 0 0 0 0 0 0 0 0 0\n",
      " 0 0 0 0 0 0 0 0 0 0 0 0 0 0 0 0 0 0 0 0 0 0 0 0 0 0 0 0 0 0 1 1 0 1]\n",
      "Accuracy: 0.9455445544554455, Precision: 0.13043478260869565, Recall: 0.6, F1-Score: 0.21428571428571427, \n",
      "Num True Negative: 379, Num False Negative: 2, Num True Positive: 3, Num False Positive: 20\n",
      "Outlier threshold:  -0.06814575868888015\n",
      "Average clusterpoint energy:  -0.3235601772579584\n",
      "Outlier energy:  [[-0.19981749]\n",
      " [ 0.24243486]\n",
      " [ 0.1153936 ]\n",
      " [-0.30360073]\n",
      " [ 0.4329638 ]]\n",
      "Outlier threshold:  -0.07104440874944058\n",
      "Calculate outlier Energy\n"
     ]
    },
    {
     "name": "stderr",
     "output_type": "stream",
     "text": [
      "100%|███████████████████████████████████████████████████████████████████████████████████| 5/5 [00:00<00:00, 704.57it/s]\n"
     ]
    },
    {
     "name": "stdout",
     "output_type": "stream",
     "text": [
      "Calculate cluster energy\n"
     ]
    },
    {
     "name": "stderr",
     "output_type": "stream",
     "text": [
      "100%|██████████████████████████████████████████████████████████████████████████████| 399/399 [00:00<00:00, 1258.78it/s]\n"
     ]
    },
    {
     "name": "stdout",
     "output_type": "stream",
     "text": [
      "Outlier classification: Results...\n",
      "Predicted points test:  [0 0 0 0 0 0 0 0 0 0 0 0 0 0 0 0 0 0 0 0 0 0 0 0 0 0 0 0 0 0 0 1 0 0 0 0 0\n",
      " 0 0 0 1 0 0 0 0 0 0 0 0 0 0 0 0 0 0 0 0 1 0 0 1 0 0 0 0 0 0 0 0 0 0 0 0 0\n",
      " 0 0 0 0 0 0 0 0 0 0 0 0 0 0 0 0 0 0 0 0 0 0 0 0 0 0 0 0 0 0 0 0 0 0 0 0 0\n",
      " 0 0 0 1 0 0 0 0 0 0 0 0 0 0 0 0 0 0 0 0 0 0 0 0 0 0 0 0 0 0 0 0 0 0 0 0 0\n",
      " 0 0 0 0 0 0 0 0 0 0 0 1 0 0 0 0 0 0 0 0 1 0 0 0 0 0 0 0 0 0 0 0 0 0 0 0 0\n",
      " 0 0 0 0 0 0 1 0 0 0 0 0 0 0 0 0 0 0 0 0 0 0 0 0 0 0 0 0 0 0 0 0 0 0 0 0 0\n",
      " 1 1 0 0 0 0 0 0 0 0 0 0 0 0 0 0 0 0 1 0 0 0 0 0 0 0 0 0 0 0 0 1 0 0 0 0 0\n",
      " 0 0 0 0 0 0 0 0 0 0 0 0 0 0 0 0 0 0 0 0 0 0 0 0 0 0 0 0 0 0 0 0 0 0 0 0 0\n",
      " 0 0 1 0 0 0 0 0 0 0 0 0 0 0 0 0 0 0 0 0 0 0 0 0 0 0 0 0 0 0 0 0 0 0 1 0 0\n",
      " 0 0 0 0 0 0 0 0 0 0 0 0 0 0 0 0 0 0 0 0 0 0 0 0 0 1 0 0 0 0 0 0 0 0 0 0 0\n",
      " 0 0 0 0 0 0 0 0 0 0 0 0 0 0 0 0 0 0 0 0 0 0 0 0 0 0 0 0 0 0 1 1 0 1]\n",
      "Accuracy: 0.9579207920792079, Precision: 0.16666666666666666, Recall: 0.6, F1-Score: 0.2608695652173913, \n",
      "Num True Negative: 384, Num False Negative: 2, Num True Positive: 3, Num False Positive: 15\n",
      "Outlier threshold:  -0.07104440874944058\n",
      "Average clusterpoint energy:  -0.3969969565401072\n",
      "Outlier energy:  [[-0.23945714]\n",
      " [ 0.19661258]\n",
      " [ 0.24228113]\n",
      " [-0.35280485]\n",
      " [ 0.55787043]]\n",
      "Outlier threshold:  0.12387935416139409\n",
      "Calculate outlier Energy\n"
     ]
    },
    {
     "name": "stderr",
     "output_type": "stream",
     "text": [
      "100%|███████████████████████████████████████████████████████████████████████████████████| 5/5 [00:00<00:00, 786.57it/s]\n"
     ]
    },
    {
     "name": "stdout",
     "output_type": "stream",
     "text": [
      "Calculate cluster energy\n"
     ]
    },
    {
     "name": "stderr",
     "output_type": "stream",
     "text": [
      "100%|██████████████████████████████████████████████████████████████████████████████| 399/399 [00:00<00:00, 1296.56it/s]\n"
     ]
    },
    {
     "name": "stdout",
     "output_type": "stream",
     "text": [
      "Outlier classification: Results...\n",
      "Predicted points test:  [0 0 0 0 0 0 0 0 1 1 0 0 0 0 0 0 0 0 0 0 0 1 0 0 0 0 0 0 0 0 0 0 0 0 0 0 0\n",
      " 0 0 1 0 0 1 0 0 0 0 0 0 0 0 0 0 0 0 0 1 0 0 0 0 0 0 0 0 0 0 0 0 0 0 0 0 1\n",
      " 0 0 0 0 0 0 0 0 0 0 0 0 0 0 0 0 0 0 0 0 0 0 0 0 0 0 0 0 0 0 0 0 0 0 0 0 0\n",
      " 0 0 0 0 0 0 0 0 0 1 0 0 0 0 0 0 0 0 0 0 0 0 0 0 0 0 0 0 0 0 0 0 1 1 0 1 0\n",
      " 0 0 0 0 0 0 0 0 0 0 0 0 0 0 0 0 0 0 0 0 0 0 0 0 0 0 0 0 0 0 0 0 0 0 0 0 0\n",
      " 0 0 0 0 0 0 0 0 0 0 0 0 0 0 0 0 0 0 0 0 0 0 0 0 0 0 0 0 0 0 0 0 0 0 0 0 0\n",
      " 0 0 0 1 0 0 0 0 0 0 0 0 0 0 0 0 0 1 0 0 0 0 0 0 0 0 0 0 0 0 0 0 0 0 0 0 0\n",
      " 0 0 0 0 0 0 0 0 0 0 0 0 0 0 0 0 0 0 0 0 0 0 0 0 0 0 0 0 0 0 0 0 0 0 0 0 0\n",
      " 0 0 0 0 0 0 0 0 1 0 0 0 0 0 0 0 0 0 1 0 0 0 0 0 0 0 0 0 0 0 0 0 0 0 0 0 0\n",
      " 0 1 0 0 0 0 0 0 0 0 0 0 0 0 0 0 0 0 0 0 0 0 0 0 0 0 0 0 0 0 0 0 0 1 0 0 0\n",
      " 0 0 0 0 0 0 0 0 0 0 0 0 1 0 0 0 0 0 0 0 0 0 0 0 0 0 0 0 0 0 0 0 0 1]\n",
      "Accuracy: 0.9455445544554455, Precision: 0.05263157894736842, Recall: 0.2, F1-Score: 0.08333333333333333, \n",
      "Num True Negative: 381, Num False Negative: 4, Num True Positive: 1, Num False Positive: 18\n",
      "Outlier threshold:  0.12387935416139409\n",
      "Average clusterpoint energy:  -0.08301665445124282\n",
      "Outlier energy:  [[-0.07375476]\n",
      " [ 0.04657647]\n",
      " [ 0.04933269]\n",
      " [-0.10527182]\n",
      " [ 0.18767139]]\n",
      "Outlier threshold:  0.01608760841512402\n",
      "Calculate outlier Energy\n"
     ]
    },
    {
     "name": "stderr",
     "output_type": "stream",
     "text": [
      "100%|███████████████████████████████████████████████████████████████████████████████████| 5/5 [00:00<00:00, 745.89it/s]\n"
     ]
    },
    {
     "name": "stdout",
     "output_type": "stream",
     "text": [
      "Calculate cluster energy\n"
     ]
    },
    {
     "name": "stderr",
     "output_type": "stream",
     "text": [
      "100%|██████████████████████████████████████████████████████████████████████████████| 399/399 [00:00<00:00, 1213.84it/s]\n"
     ]
    },
    {
     "name": "stdout",
     "output_type": "stream",
     "text": [
      "Outlier classification: Results...\n",
      "Predicted points test:  [0 0 0 0 0 0 0 0 0 0 0 0 0 0 0 0 0 0 0 0 0 0 0 0 0 0 0 0 0 0 0 0 1 0 0 0 0\n",
      " 0 0 1 0 0 0 0 0 0 0 0 0 0 0 0 0 0 0 0 0 0 0 0 0 0 0 0 0 0 0 0 0 0 0 0 0 0\n",
      " 1 0 0 0 0 0 0 0 0 1 0 0 0 0 0 0 0 0 0 0 0 0 0 0 0 0 0 0 0 0 0 0 0 0 0 0 1\n",
      " 0 0 0 1 0 0 0 0 0 1 0 0 0 0 0 0 0 0 0 0 0 0 0 0 0 1 0 0 0 0 0 0 0 0 0 0 0\n",
      " 0 0 0 0 0 1 0 1 0 0 0 0 0 0 0 0 1 0 0 0 0 0 0 0 0 0 0 0 0 1 0 0 0 0 0 0 0\n",
      " 0 0 0 0 0 0 0 0 1 0 0 0 0 0 0 0 0 0 0 0 0 0 0 0 0 0 0 0 0 0 1 0 0 0 0 1 0\n",
      " 0 0 1 1 0 0 0 0 0 0 0 0 0 0 0 0 0 0 0 0 0 0 0 0 0 0 1 0 0 0 0 0 0 0 0 1 1\n",
      " 0 0 0 0 0 0 0 1 0 0 0 0 0 0 0 0 0 0 0 0 0 0 0 0 0 0 0 0 0 0 0 0 0 0 0 0 0\n",
      " 0 1 0 0 0 0 0 0 1 0 0 0 0 0 0 0 0 0 1 0 0 0 0 0 0 1 0 0 1 0 0 0 0 0 0 0 0\n",
      " 0 0 0 0 0 0 1 0 0 0 0 0 0 0 0 0 0 1 0 0 0 0 0 0 0 1 0 0 0 1 0 0 0 0 0 0 0\n",
      " 0 1 0 0 0 0 0 0 0 0 0 0 0 0 0 0 1 0 0 0 0 0 1 0 0 0 0 0 0 0 1 0 0 1]\n",
      "Accuracy: 0.9108910891089109, Precision: 0.05714285714285714, Recall: 0.4, F1-Score: 0.1, \n",
      "Num True Negative: 366, Num False Negative: 3, Num True Positive: 2, Num False Positive: 33\n",
      "Outlier threshold:  0.01608760841512402\n",
      "Average clusterpoint energy:  -0.15981759953185168\n",
      "Outlier energy:  [[-0.16119676]\n",
      " [ 0.20404133]\n",
      " [ 0.0040562 ]\n",
      " [-0.19058574]\n",
      " [ 0.15980131]]\n",
      "Outlier threshold:  0.0008839666706932092\n",
      "Calculate outlier Energy\n"
     ]
    },
    {
     "name": "stderr",
     "output_type": "stream",
     "text": [
      "100%|███████████████████████████████████████████████████████████████████████████████████| 5/5 [00:00<00:00, 910.93it/s]\n"
     ]
    },
    {
     "name": "stdout",
     "output_type": "stream",
     "text": [
      "Calculate cluster energy\n"
     ]
    },
    {
     "name": "stderr",
     "output_type": "stream",
     "text": [
      "100%|██████████████████████████████████████████████████████████████████████████████| 399/399 [00:00<00:00, 1292.06it/s]\n"
     ]
    },
    {
     "name": "stdout",
     "output_type": "stream",
     "text": [
      "Outlier classification: Results...\n",
      "Predicted points test:  [0 0 0 0 0 1 0 0 0 0 0 0 1 0 0 0 0 0 0 0 0 0 0 0 0 0 0 0 0 0 0 1 1 0 0 0 0\n",
      " 0 0 0 0 0 0 0 0 0 0 0 0 0 0 0 0 0 0 0 0 1 0 0 1 0 0 0 1 0 0 0 0 0 0 0 1 0\n",
      " 0 0 0 0 1 0 0 0 0 0 0 0 0 0 0 0 0 0 0 0 0 0 0 0 0 0 0 0 0 0 0 0 0 0 0 0 0\n",
      " 0 0 0 1 0 0 0 0 0 0 0 0 0 0 0 0 0 0 0 0 0 0 0 0 0 0 0 0 0 0 0 0 0 0 0 0 0\n",
      " 0 0 0 0 0 0 0 0 0 0 0 0 0 0 0 0 0 0 0 0 0 0 0 0 0 0 0 0 0 0 0 0 0 0 0 0 0\n",
      " 0 0 0 0 0 0 0 0 0 1 0 0 0 0 0 0 0 0 0 0 0 0 0 0 0 0 0 0 0 0 0 0 0 0 0 0 0\n",
      " 0 0 0 1 0 0 0 0 0 0 0 0 0 0 0 0 0 0 1 0 0 0 0 0 0 0 0 0 0 0 0 0 0 0 0 0 0\n",
      " 0 0 0 0 0 0 0 0 0 0 0 0 0 0 0 0 0 0 0 0 0 0 0 0 0 0 1 0 0 0 0 0 0 0 0 0 0\n",
      " 0 0 1 0 0 0 0 0 0 0 0 0 0 0 0 0 1 0 0 0 0 0 0 0 0 0 0 0 0 0 0 0 0 0 1 0 0\n",
      " 0 0 0 0 0 0 0 0 0 0 0 0 0 0 0 0 0 0 0 0 0 0 0 0 0 1 0 0 0 1 0 0 0 0 0 0 0\n",
      " 0 0 0 0 0 0 0 0 0 1 0 1 0 0 0 0 0 0 0 0 0 0 1 0 0 0 0 0 0 0 1 1 0 1]\n",
      "Accuracy: 0.9405940594059405, Precision: 0.12, Recall: 0.6, F1-Score: 0.2, \n",
      "Num True Negative: 377, Num False Negative: 2, Num True Positive: 3, Num False Positive: 22\n",
      "Outlier threshold:  0.0008839666706932092\n",
      "Average clusterpoint energy:  -0.24736524886199346\n",
      "Outlier energy:  [[-0.21111877]\n",
      " [ 0.27733082]\n",
      " [ 0.02673396]\n",
      " [-0.19158038]\n",
      " [ 0.29291856]]\n",
      "Outlier threshold:  -0.063885384338177\n",
      "Calculate outlier Energy\n"
     ]
    },
    {
     "name": "stderr",
     "output_type": "stream",
     "text": [
      "100%|███████████████████████████████████████████████████████████████████████████████████| 5/5 [00:00<00:00, 625.03it/s]\n"
     ]
    },
    {
     "name": "stdout",
     "output_type": "stream",
     "text": [
      "Calculate cluster energy\n"
     ]
    },
    {
     "name": "stderr",
     "output_type": "stream",
     "text": [
      "100%|██████████████████████████████████████████████████████████████████████████████| 399/399 [00:00<00:00, 1271.59it/s]\n"
     ]
    },
    {
     "name": "stdout",
     "output_type": "stream",
     "text": [
      "Outlier classification: Results...\n",
      "Predicted points test:  [0 0 0 1 0 1 0 0 0 0 0 0 0 0 0 0 0 0 0 0 0 0 0 0 0 0 0 0 0 0 0 1 0 0 0 0 0\n",
      " 0 0 0 0 0 0 1 0 0 0 0 0 0 0 0 0 0 0 0 0 1 0 0 1 0 0 0 0 0 0 0 0 0 0 0 0 0\n",
      " 0 0 0 0 0 0 0 0 0 0 0 0 0 0 0 0 0 0 0 0 0 0 0 0 0 0 0 0 0 1 0 0 0 0 0 0 0\n",
      " 0 0 0 1 0 0 0 0 0 0 0 0 0 0 0 0 0 0 0 0 0 0 0 0 0 0 0 0 0 0 0 0 0 0 0 0 0\n",
      " 0 0 0 0 0 0 0 0 0 0 0 0 0 0 0 0 0 0 0 0 0 0 0 0 0 0 0 0 0 0 0 1 0 0 0 0 0\n",
      " 0 0 1 0 0 0 0 0 0 0 0 0 0 0 0 0 0 0 0 0 0 0 0 0 0 0 0 0 0 0 0 0 0 0 0 0 0\n",
      " 0 0 0 0 1 0 0 0 0 0 0 0 0 0 0 1 0 0 1 0 0 0 0 0 0 0 0 0 0 0 0 0 0 0 0 1 0\n",
      " 0 0 0 0 0 0 0 0 0 0 0 0 0 0 0 0 0 0 0 0 0 0 0 0 0 0 1 0 0 0 0 0 0 0 0 0 0\n",
      " 0 0 1 0 0 0 1 0 0 0 0 0 0 0 0 0 0 1 0 0 0 0 0 0 0 0 0 0 0 0 0 0 0 0 1 0 0\n",
      " 0 0 1 0 0 1 0 0 0 0 0 0 0 0 0 0 0 0 0 0 0 0 0 0 0 1 0 0 0 0 0 0 0 0 0 0 0\n",
      " 0 0 0 1 0 0 0 0 0 1 0 0 0 0 0 0 0 0 0 0 0 0 0 0 0 0 0 0 0 0 1 1 0 1]\n",
      "Accuracy: 0.9356435643564357, Precision: 0.1111111111111111, Recall: 0.6, F1-Score: 0.1875, \n",
      "Num True Negative: 375, Num False Negative: 2, Num True Positive: 3, Num False Positive: 24\n",
      "Outlier threshold:  -0.063885384338177\n",
      "Average clusterpoint energy:  -0.31219205285994694\n",
      "Outlier energy:  [[-0.30869627]\n",
      " [ 0.33587456]\n",
      " [ 0.03474432]\n",
      " [-0.2516768 ]\n",
      " [ 0.58773882]]\n",
      "Outlier threshold:  -0.0834971218891073\n",
      "Calculate outlier Energy\n"
     ]
    },
    {
     "name": "stderr",
     "output_type": "stream",
     "text": [
      "100%|████████████████████████████████████████████████████████████████████████████████████████████| 5/5 [00:00<?, ?it/s]\n"
     ]
    },
    {
     "name": "stdout",
     "output_type": "stream",
     "text": [
      "Calculate cluster energy\n"
     ]
    },
    {
     "name": "stderr",
     "output_type": "stream",
     "text": [
      "100%|██████████████████████████████████████████████████████████████████████████████| 399/399 [00:00<00:00, 1324.35it/s]\n"
     ]
    },
    {
     "name": "stdout",
     "output_type": "stream",
     "text": [
      "Outlier classification: Results...\n",
      "Predicted points test:  [0 0 0 1 0 1 0 0 0 0 0 0 1 0 0 0 0 0 0 0 0 0 0 0 0 0 0 0 0 0 0 1 0 0 0 0 0\n",
      " 0 0 0 0 0 0 0 0 0 0 0 0 0 0 0 0 0 0 0 0 1 0 0 1 0 0 0 0 0 0 0 0 0 0 0 0 0\n",
      " 0 0 0 0 0 0 0 0 1 0 0 0 0 0 0 0 0 0 0 0 0 0 0 0 0 0 0 0 0 1 0 0 0 0 0 0 0\n",
      " 0 0 0 1 0 0 0 0 0 0 0 0 0 0 0 0 0 0 0 0 0 0 0 0 0 0 0 0 0 0 0 0 0 0 0 0 0\n",
      " 0 0 0 0 0 0 0 0 0 0 0 0 0 0 0 0 0 0 0 0 0 0 0 0 0 0 0 0 0 1 0 1 0 0 0 0 0\n",
      " 0 0 0 0 0 0 0 0 0 0 0 0 0 0 0 0 0 0 0 0 0 0 0 0 0 0 0 0 0 0 0 0 0 0 0 0 0\n",
      " 0 0 0 0 1 0 0 0 0 0 0 0 0 0 0 1 0 0 1 0 0 0 0 0 0 0 0 0 0 0 0 0 0 0 0 1 0\n",
      " 0 0 0 0 0 0 0 0 0 0 0 0 0 0 0 0 0 0 0 0 0 0 0 0 0 0 1 0 0 0 0 0 0 0 0 0 0\n",
      " 0 0 1 0 0 0 1 0 0 0 0 0 0 0 0 0 0 1 0 0 0 0 0 0 0 0 0 0 0 0 0 0 0 0 1 0 0\n",
      " 0 0 0 0 0 1 0 0 0 0 0 0 0 0 0 0 0 0 0 0 0 0 0 0 0 1 0 0 0 1 0 0 0 0 0 0 0\n",
      " 0 0 0 0 0 0 0 0 0 0 0 0 0 0 0 0 0 0 0 0 0 0 1 0 0 0 0 0 0 0 1 1 0 1]\n",
      "Accuracy: 0.9356435643564357, Precision: 0.1111111111111111, Recall: 0.6, F1-Score: 0.1875, \n",
      "Num True Negative: 375, Num False Negative: 2, Num True Positive: 3, Num False Positive: 24\n",
      "Outlier threshold:  -0.0834971218891073\n",
      "Average clusterpoint energy:  -0.3871692745981993\n",
      "Outlier energy:  [[-0.32151396]\n",
      " [ 0.37979762]\n",
      " [ 0.05534589]\n",
      " [-0.33119471]\n",
      " [ 0.6481869 ]]\n"
     ]
    }
   ],
   "source": [
    "f1s=[]\n",
    "for i in range(len(weights)):\n",
    "    f1=[]\n",
    "    for k in range(len(weights[i])):\n",
    "        qbm.H.θ=weights[i][k]\n",
    "        p,r,f=evaluate_qbm(qbm,testing_dataset,cluster=3,plot=False)\n",
    "        f1.append(f)\n",
    "    f1s.append(f1)\n",
    "    \n",
    "\n",
    "    "
   ]
  },
  {
   "cell_type": "code",
   "execution_count": 87,
   "id": "6354f904-56a9-47f3-a75c-a475320fc8c6",
   "metadata": {},
   "outputs": [
    {
     "data": {
      "text/plain": [
       "tensor([0.26086957, 0.25      , 0.31578947, 0.23076923, 0.3       ,\n",
       "        0.27272727, 0.26086957, 0.2       ], requires_grad=True)"
      ]
     },
     "execution_count": 87,
     "metadata": {},
     "output_type": "execute_result"
    }
   ],
   "source": [
    "np.max(f1s,axis=1)"
   ]
  },
  {
   "cell_type": "code",
   "execution_count": 94,
   "id": "accba15f-f51a-44d4-b55b-3a8801e2a7f5",
   "metadata": {},
   "outputs": [
    {
     "data": {
      "text/plain": [
       "Text(0, 0.5, 'Max_F1 Score')"
      ]
     },
     "execution_count": 94,
     "metadata": {},
     "output_type": "execute_result"
    },
    {
     "data": {
      "image/png": "[encoded data removed]",
      "text/plain": [
       "<Figure size 640x480 with 1 Axes>"
      ]
     },
     "metadata": {},
     "output_type": "display_data"
    }
   ],
   "source": [
    "plt.plot([12,15,17,20,23,26,29,31],np.max(f1s,axis=1))\n",
    "plt.ylim(0.1,0.35)\n",
    "plt.title('F1 score vs Batch size (1 hidden unit)')\n",
    "plt.xlabel('Batch_size')\n",
    "plt.ylabel('Max_F1 Score')"
   ]
  },
  {
   "cell_type": "code",
   "execution_count": 89,
   "id": "d03b0f04-6569-446f-bca3-56d33b7a8747",
   "metadata": {},
   "outputs": [
    {
     "name": "stdout",
     "output_type": "stream",
     "text": [
      "['ZIIIIIIIII', 'IZIIIIIIII', 'IIZIIIIIII', 'IIIZIIIIII', 'IIIIZIIIII', 'IIIIIZIIII', 'IIIIIIZIII', 'IIIIIIIZII', 'IIIIIIIIZI', 'IIIIIIIIIZ', 'ZZIIIIIIII', 'ZIZIIIIIII', 'ZIIZIIIIII', 'ZIIIZIIIII', 'ZIIIIZIIII', 'ZIIIIIZIII', 'ZIIIIIIZII', 'ZIIIIIIIZI', 'ZIIIIIIIIZ', 'IZZIIIIIII', 'IZIZIIIIII', 'IZIIZIIIII', 'IZIIIZIIII', 'IZIIIIZIII', 'IZIIIIIZII', 'IZIIIIIIZI', 'IZIIIIIIIZ', 'IIZZIIIIII', 'IIZIZIIIII', 'IIZIIZIIII', 'IIZIIIZIII', 'IIZIIIIZII', 'IIZIIIIIZI', 'IIZIIIIIIZ', 'IIIZZIIIII', 'IIIZIZIIII', 'IIIZIIZIII', 'IIIZIIIZII', 'IIIZIIIIZI', 'IIIZIIIIIZ', 'IIIIZZIIII', 'IIIIZIZIII', 'IIIIZIIZII', 'IIIIZIIIZI', 'IIIIZIIIIZ', 'IIIIIZZIII', 'IIIIIZIZII', 'IIIIIZIIZI', 'IIIIIZIIIZ', 'IIIIIIZZII', 'IIIIIIZIZI', 'IIIIIIZIIZ', 'IIIIIIIZZI', 'IIIIIIIZIZ']\n",
      "\n",
      "Starting MATLAB engine.. Done.\n",
      "\n",
      "\n",
      "Stopping MATLAB engine ... Done.\n",
      "\n"
     ]
    }
   ],
   "source": [
    "n_hidden_units=2\n",
    "n_visible=8\n",
    "n_qubits = n_visible+n_hidden_units\n",
    "\n",
    "restricted=False\n",
    "h = generate_pauli_strings_tfim(n_qubits,n_visible,restricted)\n",
    "print(h)\n",
    "nparams = len(h)\n",
    "\n",
    "θ_init = np.random.rand(nparams)/nparams#np.loadtxt('./weights_7_3_un.txt')\n",
    "enc = 'general'\n",
    "δ = 0.3\n",
    "polydeg = 10\n",
    "β = 1.0\n",
    "learning_rate = 0.005\n",
    "epochs = 4\n",
    "\n",
    "\n",
    "dev_name='default.qubit'\n",
    "#dev_name='lightning.qubit'\n",
    "\n",
    "qbm = QBM(training_data,h, θ_init, enc, δ, polydeg, β,n_hidden_units,epochs,restricted)\n"
   ]
  },
  {
   "cell_type": "code",
   "execution_count": 90,
   "id": "5c18ac10-13c0-4b56-b418-a65ec3ef8ddb",
   "metadata": {},
   "outputs": [],
   "source": [
    "weights=[]\n",
    "for b in [17,20,23,26,29,31]:\n",
    "    weights.append(np.load(f'./weights_8_2_un_5_epochs_b{17}.npz')['arr_0'])"
   ]
  },
  {
   "cell_type": "code",
   "execution_count": 91,
   "id": "baa6fe6c-35bc-46c8-8b14-186d8f8d5e89",
   "metadata": {},
   "outputs": [
    {
     "name": "stdout",
     "output_type": "stream",
     "text": [
      "Outlier threshold:  0.010065161041152237\n",
      "Calculate outlier Energy\n"
     ]
    },
    {
     "name": "stderr",
     "output_type": "stream",
     "text": [
      "100%|███████████████████████████████████████████████████████████████████████████████████| 5/5 [00:00<00:00, 713.49it/s]\n"
     ]
    },
    {
     "name": "stdout",
     "output_type": "stream",
     "text": [
      "Calculate cluster energy\n"
     ]
    },
    {
     "name": "stderr",
     "output_type": "stream",
     "text": [
      "100%|██████████████████████████████████████████████████████████████████████████████| 399/399 [00:00<00:00, 1365.40it/s]\n"
     ]
    },
    {
     "name": "stdout",
     "output_type": "stream",
     "text": [
      "Outlier classification: Results...\n",
      "Predicted points test:  [0 1 1 0 0 0 0 0 0 0 0 0 0 0 0 0 0 0 0 0 0 0 0 0 0 0 0 0 0 0 0 1 0 0 0 1 0\n",
      " 0 0 0 0 0 0 0 0 0 0 0 0 0 0 0 0 0 0 0 0 1 0 0 1 0 0 0 0 0 0 0 0 0 0 0 0 0\n",
      " 0 0 0 0 0 0 0 0 0 0 0 0 1 0 0 0 0 0 0 0 0 0 1 0 0 0 0 0 0 0 0 0 0 0 0 0 1\n",
      " 1 0 0 1 0 0 0 0 0 0 0 0 0 0 0 0 0 0 0 0 0 0 0 0 0 0 0 0 0 0 0 0 1 0 0 0 0\n",
      " 0 0 1 0 0 0 1 0 0 0 1 0 0 1 0 0 0 0 0 0 0 0 0 0 0 0 0 0 0 0 0 0 0 0 0 0 0\n",
      " 0 0 0 0 0 0 0 0 0 0 0 0 0 0 0 0 0 1 0 0 0 0 0 0 0 0 0 0 0 0 1 0 0 0 0 0 0\n",
      " 0 0 0 0 0 0 0 0 0 1 0 1 0 0 0 0 0 0 1 0 0 0 0 0 0 0 0 0 0 0 0 0 0 0 0 0 0\n",
      " 0 1 0 0 1 0 0 1 1 0 0 0 0 0 0 0 0 0 0 0 0 0 0 0 0 0 0 0 0 0 0 0 0 0 0 0 1\n",
      " 0 0 1 0 0 0 0 0 0 0 0 0 0 0 0 0 0 0 1 0 0 0 0 0 0 0 0 0 0 0 0 1 0 1 1 0 0\n",
      " 0 0 0 0 0 0 0 0 0 0 0 0 0 0 1 0 1 0 0 0 0 0 0 0 0 1 0 0 0 0 0 0 0 0 0 0 0\n",
      " 0 0 0 0 0 0 0 1 0 0 0 0 0 0 0 0 1 0 0 0 0 0 0 0 0 0 0 0 0 0 1 1 0 1]\n",
      "Accuracy: 0.905940594059406, Precision: 0.07692307692307693, Recall: 0.6, F1-Score: 0.13636363636363635, \n",
      "Num True Negative: 363, Num False Negative: 2, Num True Positive: 3, Num False Positive: 36\n",
      "Outlier threshold:  0.010065161041152237\n",
      "Average clusterpoint energy:  -0.13790759380374465\n",
      "Outlier energy:  [[-0.07276686]\n",
      " [ 0.12446048]\n",
      " [ 0.0363585 ]\n",
      " [-0.12496134]\n",
      " [ 0.13761454]]\n",
      "Outlier threshold:  -0.06616684936213794\n",
      "Calculate outlier Energy\n"
     ]
    },
    {
     "name": "stderr",
     "output_type": "stream",
     "text": [
      "100%|███████████████████████████████████████████████████████████████████████████████████| 5/5 [00:00<00:00, 714.24it/s]\n"
     ]
    },
    {
     "name": "stdout",
     "output_type": "stream",
     "text": [
      "Calculate cluster energy\n"
     ]
    },
    {
     "name": "stderr",
     "output_type": "stream",
     "text": [
      "100%|██████████████████████████████████████████████████████████████████████████████| 399/399 [00:00<00:00, 1044.09it/s]\n"
     ]
    },
    {
     "name": "stdout",
     "output_type": "stream",
     "text": [
      "Outlier classification: Results...\n",
      "Predicted points test:  [0 0 0 0 0 0 0 0 0 0 0 0 0 0 0 0 0 0 0 0 0 0 0 0 0 0 0 0 0 0 0 1 0 0 0 0 0\n",
      " 0 0 0 0 0 0 0 0 0 0 0 0 0 0 0 0 0 0 0 0 1 0 0 1 0 0 0 0 0 0 0 0 0 0 0 0 0\n",
      " 0 0 0 0 0 0 0 0 0 0 0 0 0 0 0 0 0 0 0 0 0 0 0 0 0 0 0 0 0 0 0 0 0 0 0 0 0\n",
      " 0 0 0 1 0 0 0 0 0 0 0 0 0 0 0 0 0 0 0 0 0 0 0 0 0 0 0 0 0 0 0 0 0 0 0 0 0\n",
      " 0 0 0 0 0 0 0 0 0 0 0 1 0 0 0 0 0 0 0 0 0 0 0 0 0 0 0 0 0 1 0 0 0 0 0 0 0\n",
      " 0 0 0 0 0 0 1 0 0 0 0 0 0 0 1 0 0 0 0 0 0 0 0 0 0 0 0 0 0 0 0 0 0 0 0 0 0\n",
      " 1 1 0 0 0 0 0 0 0 0 0 0 0 0 0 0 0 0 1 0 0 0 0 0 0 0 0 0 0 0 0 0 0 0 0 0 0\n",
      " 0 0 0 0 0 0 0 0 0 0 0 0 0 0 0 1 0 0 0 0 0 0 0 0 0 1 1 0 0 0 0 0 0 0 0 0 0\n",
      " 0 0 1 0 0 0 0 0 0 0 0 0 0 0 0 0 0 1 0 0 0 0 0 0 0 0 0 0 0 0 0 0 0 0 1 0 0\n",
      " 0 0 0 0 0 0 0 0 0 0 0 0 0 0 0 0 0 0 0 0 0 0 0 0 0 1 0 0 0 0 0 0 0 0 0 0 0\n",
      " 0 0 0 0 0 0 0 0 0 0 0 0 0 0 0 0 0 0 0 0 0 0 0 0 0 0 0 0 0 0 1 1 0 1]\n",
      "Accuracy: 0.9504950495049505, Precision: 0.14285714285714285, Recall: 0.6, F1-Score: 0.23076923076923078, \n",
      "Num True Negative: 381, Num False Negative: 2, Num True Positive: 3, Num False Positive: 18\n",
      "Outlier threshold:  -0.06616684936213794\n",
      "Average clusterpoint energy:  -0.28416898814315084\n",
      "Outlier energy:  [[-0.26546739]\n",
      " [ 0.21377377]\n",
      " [ 0.10889969]\n",
      " [-0.2462659 ]\n",
      " [ 0.45959868]]\n",
      "Outlier threshold:  -0.10755633280084863\n",
      "Calculate outlier Energy\n"
     ]
    },
    {
     "name": "stderr",
     "output_type": "stream",
     "text": [
      "100%|███████████████████████████████████████████████████████████████████████████████████| 5/5 [00:00<00:00, 765.24it/s]\n"
     ]
    },
    {
     "name": "stdout",
     "output_type": "stream",
     "text": [
      "Calculate cluster energy\n"
     ]
    },
    {
     "name": "stderr",
     "output_type": "stream",
     "text": [
      "100%|██████████████████████████████████████████████████████████████████████████████| 399/399 [00:00<00:00, 1266.90it/s]\n"
     ]
    },
    {
     "name": "stdout",
     "output_type": "stream",
     "text": [
      "Outlier classification: Results...\n",
      "Predicted points test:  [0 0 0 0 0 1 0 0 0 0 0 0 1 0 0 0 0 0 0 0 0 0 0 0 0 0 0 0 0 0 0 1 0 0 0 0 0\n",
      " 0 0 0 1 1 0 0 0 0 0 0 0 0 0 0 0 0 0 0 0 1 0 0 1 0 0 0 0 0 0 0 0 0 0 0 0 0\n",
      " 0 0 0 0 0 0 0 0 0 0 0 0 0 0 0 0 0 0 0 0 0 0 0 0 0 0 0 0 0 0 0 0 0 0 0 0 0\n",
      " 0 0 0 1 0 0 0 0 0 0 0 0 0 0 0 0 0 0 0 0 0 0 0 0 0 0 0 0 0 0 0 0 0 0 0 0 0\n",
      " 0 0 0 0 0 0 0 0 0 0 0 1 0 0 0 0 0 0 0 0 0 0 0 0 0 0 0 0 0 1 0 0 0 0 0 0 0\n",
      " 0 0 0 0 0 0 0 0 0 0 0 0 0 0 1 0 0 0 0 0 0 0 0 0 0 0 0 0 0 0 0 0 0 0 0 0 0\n",
      " 0 1 0 0 1 0 0 0 0 0 0 0 0 0 0 0 0 0 1 0 0 0 0 0 0 0 0 0 0 0 0 0 0 0 0 1 0\n",
      " 0 0 0 0 0 0 0 0 0 0 0 0 0 0 0 1 0 0 0 0 0 0 0 0 0 1 0 0 0 0 0 0 0 0 0 0 0\n",
      " 0 0 1 0 0 0 0 0 0 0 0 0 0 0 0 0 0 0 0 0 0 0 0 0 0 0 0 0 0 0 0 0 0 0 1 0 0\n",
      " 0 0 0 0 0 0 0 0 0 0 0 0 0 0 0 0 0 0 0 0 0 0 0 0 0 1 0 0 0 1 0 0 0 0 0 0 0\n",
      " 0 0 0 0 0 0 0 0 0 0 0 0 0 0 0 0 0 0 0 0 0 0 1 0 0 0 0 0 0 0 1 1 0 1]\n",
      "Accuracy: 0.9405940594059405, Precision: 0.12, Recall: 0.6, F1-Score: 0.2, \n",
      "Num True Negative: 377, Num False Negative: 2, Num True Positive: 3, Num False Positive: 22\n",
      "Outlier threshold:  -0.10755633280084863\n",
      "Average clusterpoint energy:  -0.41120240721240015\n",
      "Outlier energy:  [[-0.31339473]\n",
      " [ 0.38840293]\n",
      " [ 0.1568735 ]\n",
      " [-0.32312375]\n",
      " [ 0.63044788]]\n",
      "Outlier threshold:  -0.1299655064259666\n",
      "Calculate outlier Energy\n"
     ]
    },
    {
     "name": "stderr",
     "output_type": "stream",
     "text": [
      "100%|███████████████████████████████████████████████████████████████████████████████████| 5/5 [00:00<00:00, 703.34it/s]\n"
     ]
    },
    {
     "name": "stdout",
     "output_type": "stream",
     "text": [
      "Calculate cluster energy\n"
     ]
    },
    {
     "name": "stderr",
     "output_type": "stream",
     "text": [
      "100%|██████████████████████████████████████████████████████████████████████████████| 399/399 [00:00<00:00, 1189.82it/s]\n"
     ]
    },
    {
     "name": "stdout",
     "output_type": "stream",
     "text": [
      "Outlier classification: Results...\n",
      "Predicted points test:  [0 0 0 0 0 0 0 0 0 0 0 0 0 0 0 0 0 0 0 0 0 0 0 0 0 0 0 0 0 0 0 1 0 0 0 0 0\n",
      " 0 0 0 1 0 0 0 0 0 0 0 0 0 0 0 0 0 0 0 0 1 0 0 1 0 0 0 0 0 0 0 0 0 0 0 0 0\n",
      " 0 0 0 0 0 0 0 0 0 0 0 0 0 0 0 0 0 0 0 0 0 0 0 0 0 0 0 0 0 0 0 0 0 0 0 0 0\n",
      " 0 0 0 1 0 0 0 0 0 0 0 0 0 0 0 0 0 0 0 0 0 0 0 0 0 0 0 0 0 0 0 0 0 0 0 0 0\n",
      " 0 0 0 0 0 0 0 0 0 0 0 1 0 0 0 0 0 0 0 0 0 0 0 0 0 0 0 0 0 0 0 0 0 0 0 0 0\n",
      " 0 0 0 0 0 0 1 0 0 0 0 0 0 0 1 0 0 0 0 0 0 0 1 0 0 0 0 0 0 0 0 0 0 0 0 0 0\n",
      " 1 1 0 0 0 0 0 0 0 0 0 0 0 0 0 0 0 0 1 0 0 0 0 0 0 0 0 0 0 0 0 1 0 0 0 0 0\n",
      " 0 0 0 0 0 0 0 0 0 0 0 0 0 0 0 1 0 0 0 0 0 0 0 0 0 1 0 0 0 0 0 0 0 0 0 0 0\n",
      " 0 0 1 0 0 0 0 0 0 0 0 0 0 0 0 0 0 0 0 0 0 0 0 0 0 0 0 0 0 0 0 0 0 0 1 0 0\n",
      " 0 0 0 0 0 0 0 0 0 0 0 0 0 0 0 0 0 0 0 0 0 0 0 0 0 1 0 0 0 0 0 0 0 0 0 0 0\n",
      " 0 0 0 0 0 0 0 0 0 0 0 0 0 0 0 0 0 0 0 0 0 0 0 0 0 0 0 0 0 0 1 1 0 1]\n",
      "Accuracy: 0.9504950495049505, Precision: 0.14285714285714285, Recall: 0.6, F1-Score: 0.23076923076923078, \n",
      "Num True Negative: 381, Num False Negative: 2, Num True Positive: 3, Num False Positive: 18\n",
      "Outlier threshold:  -0.1299655064259666\n",
      "Average clusterpoint energy:  -0.5252359100415808\n",
      "Outlier energy:  [[-0.31853015]\n",
      " [ 0.45549   ]\n",
      " [ 0.20035365]\n",
      " [-0.39122333]\n",
      " [ 0.85995625]]\n",
      "Outlier threshold:  -0.14942816396939668\n",
      "Calculate outlier Energy\n"
     ]
    },
    {
     "name": "stderr",
     "output_type": "stream",
     "text": [
      "100%|███████████████████████████████████████████████████████████████████████████████████| 5/5 [00:00<00:00, 826.85it/s]\n"
     ]
    },
    {
     "name": "stdout",
     "output_type": "stream",
     "text": [
      "Calculate cluster energy\n"
     ]
    },
    {
     "name": "stderr",
     "output_type": "stream",
     "text": [
      "100%|██████████████████████████████████████████████████████████████████████████████| 399/399 [00:00<00:00, 1015.80it/s]\n"
     ]
    },
    {
     "name": "stdout",
     "output_type": "stream",
     "text": [
      "Outlier classification: Results...\n",
      "Predicted points test:  [0 0 0 0 0 0 0 0 0 0 0 0 0 0 0 0 0 0 0 0 0 0 0 0 0 0 0 0 0 0 0 1 0 0 0 0 0\n",
      " 0 0 0 1 1 0 0 0 0 0 0 0 0 0 0 0 0 0 0 0 1 0 0 1 0 0 0 0 0 0 0 0 0 0 0 0 0\n",
      " 0 0 0 0 0 0 0 0 0 0 0 0 0 0 0 0 0 0 0 0 0 0 0 0 0 0 0 0 0 0 0 0 0 0 0 0 0\n",
      " 0 0 0 1 0 0 0 0 0 0 0 0 0 0 0 0 0 0 0 0 0 0 0 0 0 0 0 0 0 0 0 0 0 0 0 0 0\n",
      " 0 0 0 0 0 0 0 0 0 0 0 1 0 0 0 0 0 0 0 0 1 0 0 0 0 0 0 0 0 0 0 0 0 0 0 0 0\n",
      " 0 0 0 0 0 0 1 0 0 0 0 0 0 0 0 0 0 0 0 0 0 0 0 0 0 0 0 0 0 0 0 0 0 0 0 0 0\n",
      " 1 1 0 0 0 0 0 0 0 0 0 0 0 0 0 0 0 0 1 0 0 0 0 0 0 0 0 0 0 0 0 1 0 0 0 0 0\n",
      " 0 0 0 0 0 0 0 0 0 0 0 0 0 0 0 1 0 0 0 0 0 0 0 0 0 1 0 0 0 0 0 0 0 0 0 0 0\n",
      " 0 0 1 0 0 0 0 0 0 0 0 0 0 0 0 0 0 0 0 0 0 0 0 0 0 0 0 0 0 0 0 0 0 0 1 0 0\n",
      " 0 0 0 0 0 0 0 0 0 0 0 0 0 0 0 0 0 0 0 0 0 0 0 0 0 1 0 0 0 0 0 0 0 0 0 0 0\n",
      " 0 0 0 0 0 0 0 0 0 0 0 0 0 0 0 0 0 0 0 0 0 0 0 0 0 0 0 0 0 0 1 1 0 1]\n",
      "Accuracy: 0.9504950495049505, Precision: 0.14285714285714285, Recall: 0.6, F1-Score: 0.23076923076923078, \n",
      "Num True Negative: 381, Num False Negative: 2, Num True Positive: 3, Num False Positive: 18\n",
      "Outlier threshold:  -0.14942816396939668\n",
      "Average clusterpoint energy:  -0.6175989019143524\n",
      "Outlier energy:  [[-0.37414621]\n",
      " [ 0.41781412]\n",
      " [ 0.22524783]\n",
      " [-0.4187942 ]\n",
      " [ 0.94642498]]\n",
      "Outlier threshold:  0.010065161041152237\n",
      "Calculate outlier Energy\n"
     ]
    },
    {
     "name": "stderr",
     "output_type": "stream",
     "text": [
      "100%|███████████████████████████████████████████████████████████████████████████████████| 5/5 [00:00<00:00, 828.29it/s]\n"
     ]
    },
    {
     "name": "stdout",
     "output_type": "stream",
     "text": [
      "Calculate cluster energy\n"
     ]
    },
    {
     "name": "stderr",
     "output_type": "stream",
     "text": [
      "100%|██████████████████████████████████████████████████████████████████████████████| 399/399 [00:00<00:00, 1057.74it/s]\n"
     ]
    },
    {
     "name": "stdout",
     "output_type": "stream",
     "text": [
      "Outlier classification: Results...\n",
      "Predicted points test:  [0 0 0 0 0 0 0 0 0 0 0 0 0 0 0 0 1 0 0 0 0 0 0 0 0 0 0 0 0 0 0 0 0 0 0 0 1\n",
      " 0 0 0 0 0 1 0 0 0 0 0 0 0 0 0 0 1 0 0 0 1 0 0 1 0 0 0 0 0 0 0 1 0 0 0 0 0\n",
      " 1 0 0 0 0 0 1 0 0 1 0 0 1 0 0 0 0 1 0 0 0 0 0 0 0 0 0 0 0 0 0 1 0 0 0 0 1\n",
      " 0 0 0 1 0 0 0 0 0 0 0 0 0 0 0 0 0 0 1 0 0 0 0 0 0 0 0 0 0 0 0 0 0 0 0 0 0\n",
      " 0 0 0 0 0 0 1 0 0 0 1 0 0 0 0 0 0 0 0 0 0 0 0 0 0 0 0 0 0 0 0 0 0 1 0 0 0\n",
      " 0 0 0 1 0 0 0 0 0 0 0 0 0 0 0 0 0 0 0 0 0 0 0 0 0 0 0 0 0 0 1 1 0 0 0 0 0\n",
      " 0 0 1 0 0 0 0 0 0 0 0 0 0 0 0 0 0 0 1 0 0 0 0 0 0 0 0 0 0 0 0 0 0 0 0 0 0\n",
      " 0 0 0 0 1 0 0 0 0 0 0 0 0 0 0 0 0 0 0 0 0 0 0 0 1 0 0 0 1 0 0 0 0 0 0 0 0\n",
      " 0 0 0 1 0 0 0 0 0 0 0 0 0 0 0 0 0 0 1 0 0 0 1 0 0 0 0 0 0 0 0 0 0 0 1 0 0\n",
      " 0 0 0 0 0 0 0 0 0 0 0 0 0 0 0 0 0 0 0 1 0 0 0 0 0 1 0 0 0 0 0 0 0 0 0 0 0\n",
      " 0 0 0 0 0 0 0 0 0 0 1 0 0 0 0 1 0 0 0 0 0 0 0 0 0 0 0 0 0 0 1 1 0 1]\n",
      "Accuracy: 0.9084158415841584, Precision: 0.07894736842105263, Recall: 0.6, F1-Score: 0.13953488372093023, \n",
      "Num True Negative: 364, Num False Negative: 2, Num True Positive: 3, Num False Positive: 35\n",
      "Outlier threshold:  0.010065161041152237\n",
      "Average clusterpoint energy:  -0.1369447982424298\n",
      "Outlier energy:  [[-0.16812839]\n",
      " [ 0.11643477]\n",
      " [ 0.0363585 ]\n",
      " [-0.12464175]\n",
      " [ 0.17657323]]\n",
      "Outlier threshold:  -0.05836554132165231\n",
      "Calculate outlier Energy\n"
     ]
    },
    {
     "name": "stderr",
     "output_type": "stream",
     "text": [
      "100%|██████████████████████████████████████████████████████████████████████████████████| 5/5 [00:00<00:00, 1212.72it/s]\n"
     ]
    },
    {
     "name": "stdout",
     "output_type": "stream",
     "text": [
      "Calculate cluster energy\n"
     ]
    },
    {
     "name": "stderr",
     "output_type": "stream",
     "text": [
      "100%|██████████████████████████████████████████████████████████████████████████████| 399/399 [00:00<00:00, 1226.36it/s]\n"
     ]
    },
    {
     "name": "stdout",
     "output_type": "stream",
     "text": [
      "Outlier classification: Results...\n",
      "Predicted points test:  [0 0 0 0 0 0 0 0 0 0 0 0 0 0 0 0 0 0 0 0 0 0 0 0 0 0 0 0 0 0 0 1 0 0 0 0 0\n",
      " 0 0 0 0 1 0 1 0 0 0 0 0 0 0 0 0 0 0 0 0 1 0 0 1 0 0 0 0 0 0 0 0 0 0 0 0 0\n",
      " 0 0 0 0 0 0 0 0 0 0 0 0 0 0 0 0 0 0 0 0 0 0 0 0 0 0 0 0 0 0 0 0 0 0 0 0 0\n",
      " 0 0 0 1 0 0 0 0 0 0 0 0 0 0 0 0 0 0 0 0 0 0 0 0 0 0 0 0 0 0 0 0 0 0 0 0 0\n",
      " 0 0 0 0 0 0 0 0 0 0 0 0 0 0 0 0 0 0 0 0 0 0 0 0 0 0 0 0 0 0 0 0 0 0 0 0 0\n",
      " 0 0 0 0 0 0 0 0 0 0 0 0 0 0 0 0 0 0 0 0 0 0 0 0 0 0 0 0 0 0 0 0 0 0 0 0 0\n",
      " 1 1 0 0 0 0 0 0 0 0 0 0 0 0 0 1 0 0 1 0 0 0 0 0 0 0 0 0 0 0 0 0 0 0 0 1 0\n",
      " 0 0 0 0 0 0 0 0 0 0 0 0 0 0 0 0 0 0 0 0 0 0 0 0 0 0 0 0 0 0 0 0 0 0 0 0 0\n",
      " 0 0 1 0 0 0 0 0 0 0 0 0 0 0 0 0 0 0 0 0 0 0 0 0 0 0 0 0 0 0 0 0 0 0 1 0 0\n",
      " 0 0 0 0 0 1 0 0 0 0 0 0 0 0 0 0 0 0 0 0 0 0 0 0 0 1 0 0 0 0 0 0 0 0 0 0 0\n",
      " 0 0 0 0 0 0 0 0 0 0 0 0 0 0 0 0 0 0 0 0 0 0 0 0 0 0 0 0 0 0 1 1 0 1]\n",
      "Accuracy: 0.9579207920792079, Precision: 0.16666666666666666, Recall: 0.6, F1-Score: 0.2608695652173913, \n",
      "Num True Negative: 384, Num False Negative: 2, Num True Positive: 3, Num False Positive: 15\n",
      "Outlier threshold:  -0.05836554132165231\n",
      "Average clusterpoint energy:  -0.2834094156523975\n",
      "Outlier energy:  [[-0.26546739]\n",
      " [ 0.21377377]\n",
      " [ 0.10889969]\n",
      " [-0.24658548]\n",
      " [ 0.49855737]]\n",
      "Outlier threshold:  -0.09277579059297093\n",
      "Calculate outlier Energy\n"
     ]
    },
    {
     "name": "stderr",
     "output_type": "stream",
     "text": [
      "100%|███████████████████████████████████████████████████████████████████████████████████| 5/5 [00:00<00:00, 760.50it/s]\n"
     ]
    },
    {
     "name": "stdout",
     "output_type": "stream",
     "text": [
      "Calculate cluster energy\n"
     ]
    },
    {
     "name": "stderr",
     "output_type": "stream",
     "text": [
      "100%|██████████████████████████████████████████████████████████████████████████████| 399/399 [00:00<00:00, 1266.06it/s]\n"
     ]
    },
    {
     "name": "stdout",
     "output_type": "stream",
     "text": [
      "Outlier classification: Results...\n",
      "Predicted points test:  [0 0 0 0 0 0 0 0 0 0 0 0 0 0 0 0 0 0 0 0 0 0 0 0 0 0 0 0 0 0 0 1 0 0 0 0 0\n",
      " 0 0 0 0 0 0 0 0 0 0 0 0 0 0 0 0 0 0 0 0 1 0 0 1 0 0 0 0 0 0 0 0 0 0 0 0 0\n",
      " 0 0 0 0 0 0 0 0 0 0 0 0 0 0 0 0 0 0 0 0 0 0 0 0 0 0 0 0 0 0 0 0 0 0 0 0 0\n",
      " 0 0 0 1 0 0 0 0 0 0 0 0 0 0 0 0 0 0 0 0 0 0 0 0 0 0 0 0 0 0 0 0 0 0 0 0 0\n",
      " 0 0 0 0 0 0 0 0 0 0 0 0 0 0 0 0 0 0 0 0 0 0 0 0 0 0 0 0 0 0 0 0 0 0 0 0 0\n",
      " 0 0 0 0 0 0 0 0 0 0 0 0 0 0 1 0 0 0 0 0 0 0 0 0 0 0 0 0 0 0 0 0 0 0 0 0 0\n",
      " 1 1 0 0 0 0 0 0 0 0 0 0 0 0 0 0 0 0 1 0 0 0 0 0 0 0 0 0 0 0 0 0 0 0 0 0 0\n",
      " 0 0 0 0 0 0 0 0 0 0 0 0 0 0 0 1 0 0 0 0 0 0 0 0 0 0 0 0 0 0 0 0 0 0 0 0 0\n",
      " 0 0 1 0 0 0 0 0 0 0 0 0 0 0 0 0 0 0 0 0 0 0 0 0 0 0 0 0 0 0 0 0 0 0 1 0 0\n",
      " 0 0 0 0 0 0 0 0 0 0 0 0 0 0 0 0 0 0 0 0 0 0 0 0 0 1 0 0 0 0 0 0 0 0 0 0 0\n",
      " 0 0 0 0 0 0 0 0 0 0 0 0 0 0 0 0 0 0 0 0 0 0 0 0 0 0 0 0 0 0 1 1 0 1]\n",
      "Accuracy: 0.9653465346534653, Precision: 0.2, Recall: 0.6, F1-Score: 0.3, \n",
      "Num True Negative: 387, Num False Negative: 2, Num True Positive: 3, Num False Positive: 12\n",
      "Outlier threshold:  -0.09277579059297093\n",
      "Average clusterpoint energy:  -0.4042204847349306\n",
      "Outlier energy:  [[-0.28485296]\n",
      " [ 0.20984476]\n",
      " [ 0.1568735 ]\n",
      " [-0.32280416]\n",
      " [ 0.71117024]]\n",
      "Outlier threshold:  -0.1299655064259666\n",
      "Calculate outlier Energy\n"
     ]
    },
    {
     "name": "stderr",
     "output_type": "stream",
     "text": [
      "100%|███████████████████████████████████████████████████████████████████████████████████| 5/5 [00:00<00:00, 350.33it/s]\n"
     ]
    },
    {
     "name": "stdout",
     "output_type": "stream",
     "text": [
      "Calculate cluster energy\n"
     ]
    },
    {
     "name": "stderr",
     "output_type": "stream",
     "text": [
      "100%|██████████████████████████████████████████████████████████████████████████████| 399/399 [00:00<00:00, 1344.09it/s]\n"
     ]
    },
    {
     "name": "stdout",
     "output_type": "stream",
     "text": [
      "Outlier classification: Results...\n",
      "Predicted points test:  [0 0 0 0 0 0 0 0 0 0 0 0 0 0 0 0 0 0 0 0 0 0 0 0 0 0 0 0 0 0 0 1 0 0 0 0 0\n",
      " 0 0 0 1 1 0 0 0 0 0 0 0 0 0 0 0 0 0 0 0 1 0 0 1 0 0 0 0 0 0 0 0 0 0 0 0 0\n",
      " 0 0 0 0 0 0 0 0 0 0 0 0 0 0 0 0 0 0 0 0 0 0 0 0 0 0 0 0 0 0 0 0 0 0 0 0 0\n",
      " 0 0 0 1 0 0 0 0 0 0 0 0 0 0 0 0 0 0 0 0 0 0 0 0 0 0 0 0 0 0 0 0 0 0 0 0 0\n",
      " 0 0 0 0 0 0 0 0 0 0 0 1 0 0 0 0 0 0 0 0 1 0 0 0 0 0 0 0 0 0 0 0 0 0 0 0 0\n",
      " 0 0 0 0 0 0 1 0 0 0 0 0 0 0 1 0 0 0 0 0 0 0 0 0 0 0 0 0 0 0 0 0 0 0 0 0 0\n",
      " 1 0 0 0 0 0 0 0 0 0 0 0 0 0 0 0 0 0 1 0 0 0 0 0 0 0 0 0 0 0 0 1 0 0 0 0 0\n",
      " 0 0 0 0 0 0 0 0 0 0 0 0 0 0 0 1 0 0 0 0 0 0 0 0 0 1 0 0 0 0 0 0 0 0 0 0 0\n",
      " 0 0 1 0 0 0 0 0 0 0 0 0 0 0 0 0 0 0 0 0 0 0 0 0 0 0 0 0 0 0 0 0 0 0 1 0 0\n",
      " 0 0 0 0 0 0 0 0 0 0 0 0 0 0 0 0 0 0 0 0 0 0 0 0 0 1 0 0 0 0 0 0 0 0 0 0 0\n",
      " 0 0 0 0 0 0 0 0 0 0 0 0 0 0 0 0 0 0 0 0 0 0 0 0 0 0 0 0 0 0 1 1 0 1]\n",
      "Accuracy: 0.9504950495049505, Precision: 0.14285714285714285, Recall: 0.6, F1-Score: 0.23076923076923078, \n",
      "Num True Negative: 381, Num False Negative: 2, Num True Positive: 3, Num False Positive: 18\n",
      "Outlier threshold:  -0.1299655064259666\n",
      "Average clusterpoint energy:  -0.5177514282638933\n",
      "Outlier energy:  [[-0.31853015]\n",
      " [ 0.27693183]\n",
      " [ 0.18143075]\n",
      " [-0.35677909]\n",
      " [ 0.81819258]]\n",
      "Outlier threshold:  -0.14942816396939668\n",
      "Calculate outlier Energy\n"
     ]
    },
    {
     "name": "stderr",
     "output_type": "stream",
     "text": [
      "100%|██████████████████████████████████████████████████████████████████████████████████| 5/5 [00:00<00:00, 1563.64it/s]\n"
     ]
    },
    {
     "name": "stdout",
     "output_type": "stream",
     "text": [
      "Calculate cluster energy\n"
     ]
    },
    {
     "name": "stderr",
     "output_type": "stream",
     "text": [
      "100%|██████████████████████████████████████████████████████████████████████████████| 399/399 [00:00<00:00, 1155.08it/s]\n"
     ]
    },
    {
     "name": "stdout",
     "output_type": "stream",
     "text": [
      "Outlier classification: Results...\n",
      "Predicted points test:  [0 0 0 0 0 0 0 0 0 0 0 0 0 0 0 0 0 0 0 0 0 0 0 0 0 0 0 0 0 0 0 1 0 0 0 0 0\n",
      " 0 0 0 1 1 0 0 0 0 0 0 0 0 0 0 0 0 0 0 0 1 0 0 1 0 0 0 0 0 0 0 0 0 0 0 0 0\n",
      " 0 0 0 0 0 0 0 0 0 0 0 0 0 0 0 0 0 0 0 0 0 0 0 0 0 0 0 0 0 0 0 0 0 0 0 0 0\n",
      " 0 0 0 1 0 0 0 0 0 0 0 0 0 0 0 0 0 0 0 0 0 0 0 0 0 0 0 0 0 0 0 0 0 0 0 0 0\n",
      " 0 0 0 0 0 0 0 0 0 0 0 1 0 0 0 0 0 0 0 0 0 0 0 0 0 0 0 0 0 0 0 0 0 0 0 0 0\n",
      " 0 0 0 0 0 0 1 0 0 0 0 0 0 0 0 0 0 0 0 0 0 0 1 0 0 0 0 0 0 0 0 0 0 0 0 0 0\n",
      " 0 1 0 0 0 0 0 0 0 0 0 0 0 0 0 0 0 0 1 0 0 0 0 0 0 0 0 0 0 0 0 1 0 0 0 0 0\n",
      " 0 0 0 0 0 0 0 0 0 0 0 0 0 0 0 1 0 0 0 0 0 0 0 0 0 1 0 0 0 0 0 0 0 0 0 0 0\n",
      " 0 0 1 0 0 0 0 0 0 0 0 0 0 0 0 0 0 0 0 0 0 0 0 0 0 0 0 0 0 0 0 0 0 0 1 0 0\n",
      " 0 0 0 0 0 0 0 0 0 0 0 0 0 0 0 0 0 0 0 0 0 0 0 0 0 1 0 0 0 0 0 0 0 0 0 0 0\n",
      " 0 0 0 0 0 0 0 0 0 0 0 0 0 0 0 0 0 0 0 0 0 0 0 0 0 0 0 0 0 0 1 1 0 1]\n",
      "Accuracy: 0.9529702970297029, Precision: 0.15, Recall: 0.6, F1-Score: 0.24, \n",
      "Num True Negative: 382, Num False Negative: 2, Num True Positive: 3, Num False Positive: 17\n",
      "Outlier threshold:  -0.14942816396939668\n",
      "Average clusterpoint energy:  -0.6170508355285187\n",
      "Outlier energy:  [[-0.46950774]\n",
      " [ 0.41781412]\n",
      " [ 0.22524783]\n",
      " [-0.45323844]\n",
      " [ 0.98538368]]\n",
      "Outlier threshold:  0.010065161041152237\n",
      "Calculate outlier Energy\n"
     ]
    },
    {
     "name": "stderr",
     "output_type": "stream",
     "text": [
      "100%|██████████████████████████████████████████████████████████████████████████████████| 5/5 [00:00<00:00, 1011.02it/s]\n"
     ]
    },
    {
     "name": "stdout",
     "output_type": "stream",
     "text": [
      "Calculate cluster energy\n"
     ]
    },
    {
     "name": "stderr",
     "output_type": "stream",
     "text": [
      "100%|██████████████████████████████████████████████████████████████████████████████| 399/399 [00:00<00:00, 1032.01it/s]\n"
     ]
    },
    {
     "name": "stdout",
     "output_type": "stream",
     "text": [
      "Outlier classification: Results...\n",
      "Predicted points test:  [0 1 0 0 0 0 0 0 0 1 0 0 0 0 0 0 0 0 0 0 0 0 0 0 0 0 0 0 0 0 0 0 0 0 0 0 0\n",
      " 0 0 0 0 0 1 0 0 0 0 0 0 0 0 0 0 0 0 0 0 1 0 0 1 0 0 0 0 0 1 0 0 0 0 0 0 0\n",
      " 0 0 0 0 0 0 0 0 0 1 0 0 0 0 0 0 0 0 0 0 0 0 1 0 0 0 0 1 0 0 0 1 0 0 0 0 0\n",
      " 0 0 0 1 0 0 0 0 0 1 0 0 0 0 0 0 0 0 0 0 0 0 0 0 0 0 0 0 0 0 0 0 0 0 0 0 1\n",
      " 0 0 0 0 0 0 0 0 0 0 1 0 0 1 0 0 0 0 1 0 0 0 0 0 0 0 0 0 0 0 0 0 0 0 0 0 0\n",
      " 0 0 0 0 0 0 0 0 0 0 0 0 0 0 0 0 0 0 0 0 0 0 0 0 0 0 0 0 0 0 0 0 0 0 0 0 0\n",
      " 0 0 0 0 0 0 0 0 0 0 0 1 0 0 0 0 0 0 1 0 0 0 0 0 0 0 0 0 0 0 0 0 0 0 0 0 1\n",
      " 0 0 0 0 0 0 0 0 0 0 0 0 0 0 0 0 0 0 0 0 0 0 0 0 0 0 0 0 0 0 0 0 0 0 0 0 0\n",
      " 0 1 1 0 0 0 0 0 0 0 0 0 0 0 0 0 0 0 0 0 0 0 0 0 0 0 0 0 0 0 0 0 0 0 1 0 0\n",
      " 0 0 0 0 0 0 1 0 0 0 0 0 0 0 0 0 0 0 0 0 0 0 0 0 0 1 0 0 1 0 0 0 0 0 0 0 0\n",
      " 0 0 0 0 0 0 0 0 0 0 0 0 0 0 0 0 0 0 0 0 0 0 0 0 0 0 0 0 0 0 1 1 0 1]\n",
      "Accuracy: 0.9331683168316832, Precision: 0.10714285714285714, Recall: 0.6, F1-Score: 0.18181818181818182, \n",
      "Num True Negative: 374, Num False Negative: 2, Num True Positive: 3, Num False Positive: 25\n",
      "Outlier threshold:  0.010065161041152237\n",
      "Average clusterpoint energy:  -0.1434569343275626\n",
      "Outlier energy:  [[-0.16812839]\n",
      " [ 0.20972671]\n",
      " [ 0.0363585 ]\n",
      " [-0.12496134]\n",
      " [ 0.21833691]]\n",
      "Outlier threshold:  -0.05836554132165231\n",
      "Calculate outlier Energy\n"
     ]
    },
    {
     "name": "stderr",
     "output_type": "stream",
     "text": [
      "100%|██████████████████████████████████████████████████████████████████████████████████| 5/5 [00:00<00:00, 1181.89it/s]\n"
     ]
    },
    {
     "name": "stdout",
     "output_type": "stream",
     "text": [
      "Calculate cluster energy\n"
     ]
    },
    {
     "name": "stderr",
     "output_type": "stream",
     "text": [
      "100%|██████████████████████████████████████████████████████████████████████████████| 399/399 [00:00<00:00, 1258.67it/s]\n"
     ]
    },
    {
     "name": "stdout",
     "output_type": "stream",
     "text": [
      "Outlier classification: Results...\n",
      "Predicted points test:  [0 0 0 1 0 0 0 0 0 0 0 0 0 0 0 0 0 0 0 0 0 0 0 0 0 0 0 0 0 0 0 1 0 0 0 0 0\n",
      " 0 0 0 0 0 0 0 0 0 0 0 0 0 0 0 0 0 0 0 0 1 0 0 1 0 0 0 0 0 0 0 0 0 0 0 0 0\n",
      " 0 0 0 0 0 0 0 0 0 0 0 0 0 0 0 0 0 0 0 0 0 0 0 0 0 0 0 0 0 0 0 0 0 0 0 0 0\n",
      " 0 0 0 1 0 0 0 0 0 0 0 0 0 0 0 0 0 0 0 0 0 0 0 0 0 0 0 0 0 0 0 0 0 0 0 0 0\n",
      " 0 0 0 0 0 0 0 0 0 0 0 1 0 0 0 0 0 0 0 0 0 0 0 0 0 0 0 0 0 1 0 1 0 0 0 0 0\n",
      " 0 0 0 0 0 0 0 0 0 0 0 0 0 0 0 0 0 0 0 0 0 0 1 0 0 0 0 0 0 0 0 0 0 0 0 0 0\n",
      " 1 0 0 0 0 0 0 0 0 0 0 0 0 0 0 1 0 0 1 0 0 0 0 0 0 0 0 0 0 0 0 0 0 0 0 0 0\n",
      " 0 0 0 0 0 0 0 0 0 0 0 0 0 0 0 0 0 0 0 0 0 0 0 0 0 0 0 0 0 0 0 0 0 0 0 0 0\n",
      " 0 0 1 0 0 0 1 0 0 0 0 0 0 0 0 0 0 0 0 0 0 0 0 0 0 0 0 0 0 0 0 0 0 0 1 0 0\n",
      " 0 0 0 0 0 0 0 0 0 0 0 0 0 0 0 0 0 0 0 0 0 0 0 0 0 1 0 0 0 0 0 0 0 0 0 0 0\n",
      " 0 0 0 0 0 0 0 0 0 0 0 0 0 0 0 0 0 0 0 0 0 0 0 0 0 0 0 0 0 0 1 1 0 1]\n",
      "Accuracy: 0.9554455445544554, Precision: 0.15789473684210525, Recall: 0.6, F1-Score: 0.25, \n",
      "Num True Negative: 383, Num False Negative: 2, Num True Positive: 3, Num False Positive: 16\n",
      "Outlier threshold:  -0.05836554132165231\n",
      "Average clusterpoint energy:  -0.2871397428052019\n",
      "Outlier energy:  [[-0.26546739]\n",
      " [ 0.12850754]\n",
      " [ 0.10521574]\n",
      " [-0.2462659 ]\n",
      " [ 0.49855737]]\n",
      "Outlier threshold:  -0.09277579059297093\n",
      "Calculate outlier Energy\n"
     ]
    },
    {
     "name": "stderr",
     "output_type": "stream",
     "text": [
      "100%|███████████████████████████████████████████████████████████████████████████████████| 5/5 [00:00<00:00, 977.97it/s]\n"
     ]
    },
    {
     "name": "stdout",
     "output_type": "stream",
     "text": [
      "Calculate cluster energy\n"
     ]
    },
    {
     "name": "stderr",
     "output_type": "stream",
     "text": [
      "100%|██████████████████████████████████████████████████████████████████████████████| 399/399 [00:00<00:00, 1199.09it/s]\n"
     ]
    },
    {
     "name": "stdout",
     "output_type": "stream",
     "text": [
      "Outlier classification: Results...\n",
      "Predicted points test:  [0 0 0 0 0 0 0 0 0 0 0 0 0 0 0 0 0 0 0 0 0 0 0 0 0 0 0 0 0 0 0 1 0 0 0 0 0\n",
      " 0 0 0 0 0 0 0 0 0 0 0 0 0 0 0 0 0 0 0 0 1 0 0 1 0 0 0 0 0 0 0 0 0 0 0 0 0\n",
      " 0 0 0 0 0 0 0 0 0 0 0 0 0 0 0 0 0 0 0 0 0 0 0 0 0 0 0 0 0 0 0 0 0 0 0 0 0\n",
      " 0 0 0 1 0 0 0 0 0 0 0 0 0 0 0 0 0 0 0 0 0 0 0 0 0 0 0 0 0 0 0 0 0 0 0 0 0\n",
      " 0 0 0 0 0 0 0 0 0 0 0 1 0 0 0 0 0 0 0 0 1 0 0 0 0 0 0 0 0 0 0 0 0 0 0 0 0\n",
      " 0 0 0 0 0 0 1 0 0 0 0 0 0 0 0 0 0 0 0 0 0 0 1 0 0 0 0 0 0 0 0 0 0 0 0 0 0\n",
      " 1 1 0 0 0 0 0 0 0 0 0 0 0 0 0 0 0 0 1 0 0 0 0 0 0 0 0 0 0 0 0 1 0 0 0 0 0\n",
      " 0 0 0 0 0 0 0 0 0 0 0 0 0 0 0 0 0 0 0 0 0 0 0 0 0 0 0 0 0 0 0 0 0 0 0 0 0\n",
      " 0 0 1 0 0 0 0 0 0 0 0 0 0 0 0 0 0 0 0 0 0 0 0 0 0 0 0 0 0 0 0 0 0 0 1 0 0\n",
      " 0 0 0 0 0 0 0 0 0 0 0 0 0 0 0 0 0 0 0 0 0 0 0 0 0 1 0 0 0 0 0 0 0 0 0 0 0\n",
      " 0 0 0 0 0 0 0 0 0 0 0 0 0 0 0 0 0 0 0 0 0 0 0 0 0 0 0 0 0 0 1 1 0 1]\n",
      "Accuracy: 0.9579207920792079, Precision: 0.16666666666666666, Recall: 0.6, F1-Score: 0.2608695652173913, \n",
      "Num True Negative: 384, Num False Negative: 2, Num True Positive: 3, Num False Positive: 15\n",
      "Outlier threshold:  -0.09277579059297093\n",
      "Average clusterpoint energy:  -0.4114643973028083\n",
      "Outlier energy:  [[-0.28485296]\n",
      " [ 0.20984476]\n",
      " [ 0.1379506 ]\n",
      " [-0.28835992]\n",
      " [ 0.71117024]]\n",
      "Outlier threshold:  -0.1299655064259666\n",
      "Calculate outlier Energy\n"
     ]
    },
    {
     "name": "stderr",
     "output_type": "stream",
     "text": [
      "100%|██████████████████████████████████████████████████████████████████████████████████| 5/5 [00:00<00:00, 1144.48it/s]\n"
     ]
    },
    {
     "name": "stdout",
     "output_type": "stream",
     "text": [
      "Calculate cluster energy\n"
     ]
    },
    {
     "name": "stderr",
     "output_type": "stream",
     "text": [
      "100%|██████████████████████████████████████████████████████████████████████████████| 399/399 [00:00<00:00, 1121.40it/s]\n"
     ]
    },
    {
     "name": "stdout",
     "output_type": "stream",
     "text": [
      "Outlier classification: Results...\n",
      "Predicted points test:  [0 0 0 0 0 0 0 0 0 0 0 0 0 0 0 0 0 0 0 0 0 0 0 0 0 0 0 0 0 0 0 1 0 0 0 0 0\n",
      " 0 0 0 1 1 0 0 0 0 0 0 0 0 0 0 0 0 0 0 0 1 0 0 1 0 0 0 0 0 0 0 0 0 0 0 0 0\n",
      " 0 0 0 0 0 0 0 0 0 0 0 0 0 0 0 0 0 0 0 0 0 0 0 0 0 0 0 0 0 0 0 0 0 0 0 0 0\n",
      " 0 0 0 1 0 0 0 0 0 0 0 0 0 0 0 0 0 0 0 0 0 0 0 0 0 0 0 0 0 0 0 0 0 0 0 0 0\n",
      " 0 0 0 0 0 0 0 0 0 0 0 1 0 0 0 0 0 0 0 0 1 0 0 0 0 0 0 0 0 0 0 0 0 0 0 0 0\n",
      " 0 0 0 0 0 0 1 0 0 0 0 0 0 0 1 0 0 0 0 0 0 0 1 0 0 0 0 0 0 0 0 0 0 0 0 0 0\n",
      " 1 1 0 0 0 0 0 0 0 0 0 0 0 0 0 0 0 0 1 0 0 0 0 0 0 0 0 0 0 0 0 1 0 0 0 0 0\n",
      " 0 0 0 0 0 0 0 0 0 0 0 0 0 0 0 1 0 0 0 0 0 0 0 0 0 1 0 0 0 0 0 0 0 0 0 0 0\n",
      " 0 0 1 0 0 0 0 0 0 0 0 0 0 0 0 0 0 0 0 0 0 0 0 0 0 0 0 0 0 0 0 0 0 0 1 0 0\n",
      " 0 0 0 0 0 0 0 0 0 0 0 0 0 0 0 0 0 0 0 0 0 0 0 0 0 1 0 0 0 0 0 0 0 0 0 0 0\n",
      " 0 0 0 0 0 0 0 0 0 0 0 0 0 0 0 0 0 0 0 0 0 0 0 0 0 0 0 0 0 0 1 1 0 1]\n",
      "Accuracy: 0.9455445544554455, Precision: 0.13043478260869565, Recall: 0.6, F1-Score: 0.21428571428571427, \n",
      "Num True Negative: 379, Num False Negative: 2, Num True Positive: 3, Num False Positive: 20\n",
      "Outlier threshold:  -0.1299655064259666\n",
      "Average clusterpoint energy:  -0.5146889032653409\n",
      "Outlier energy:  [[-0.41389167]\n",
      " [ 0.37022377]\n",
      " [ 0.1851147 ]\n",
      " [-0.35645951]\n",
      " [ 0.81819258]]\n",
      "Outlier threshold:  -0.14942816396939668\n",
      "Calculate outlier Energy\n"
     ]
    },
    {
     "name": "stderr",
     "output_type": "stream",
     "text": [
      "100%|███████████████████████████████████████████████████████████████████████████████████| 5/5 [00:00<00:00, 897.79it/s]\n"
     ]
    },
    {
     "name": "stdout",
     "output_type": "stream",
     "text": [
      "Calculate cluster energy\n"
     ]
    },
    {
     "name": "stderr",
     "output_type": "stream",
     "text": [
      "100%|██████████████████████████████████████████████████████████████████████████████| 399/399 [00:00<00:00, 1065.35it/s]\n"
     ]
    },
    {
     "name": "stdout",
     "output_type": "stream",
     "text": [
      "Outlier classification: Results...\n",
      "Predicted points test:  [0 0 0 0 0 0 0 0 0 0 0 0 0 0 0 0 0 0 0 0 0 0 0 0 0 0 0 0 0 0 0 1 0 0 0 0 0\n",
      " 0 0 0 0 1 0 0 0 0 0 0 0 0 0 0 0 0 0 0 0 1 0 0 1 0 0 0 0 0 0 0 0 0 0 0 0 0\n",
      " 0 0 0 0 0 0 0 0 0 0 0 0 0 0 0 0 0 0 0 0 0 0 0 0 0 0 0 0 0 0 0 0 0 0 0 0 0\n",
      " 0 0 0 1 0 0 0 0 0 0 0 0 0 0 0 0 0 0 0 0 0 0 0 0 0 0 0 0 0 0 0 0 0 0 0 0 0\n",
      " 0 0 0 0 0 0 0 0 0 0 0 1 0 0 0 0 0 0 0 0 1 0 0 0 0 0 0 0 0 0 0 0 0 0 0 0 0\n",
      " 0 0 0 0 0 0 1 0 0 0 0 0 0 0 1 0 0 0 0 0 0 0 1 0 0 0 0 0 0 0 0 0 0 0 0 0 0\n",
      " 1 1 0 0 0 0 0 0 0 0 0 0 0 0 0 0 0 0 1 0 0 0 0 0 0 0 0 0 0 0 0 1 0 0 0 0 0\n",
      " 0 0 0 0 0 0 0 0 0 0 0 0 0 0 0 1 0 0 0 0 0 0 0 0 0 0 0 0 0 0 0 0 0 0 0 0 0\n",
      " 0 0 1 0 0 0 0 0 0 0 0 0 0 0 0 0 0 0 0 0 0 0 0 0 0 0 0 0 0 0 0 0 0 0 1 0 0\n",
      " 0 0 0 0 0 0 0 0 0 0 0 0 0 0 0 0 0 0 0 0 0 0 0 0 0 1 0 0 0 0 0 0 0 0 0 0 0\n",
      " 0 0 0 0 0 0 0 0 0 0 0 0 0 0 0 0 0 0 0 0 0 0 0 0 0 0 0 0 0 0 1 1 0 1]\n",
      "Accuracy: 0.9504950495049505, Precision: 0.14285714285714285, Recall: 0.6, F1-Score: 0.23076923076923078, \n",
      "Num True Negative: 381, Num False Negative: 2, Num True Positive: 3, Num False Positive: 18\n",
      "Outlier threshold:  -0.14942816396939668\n",
      "Average clusterpoint energy:  -0.620020355421921\n",
      "Outlier energy:  [[-0.46950774]\n",
      " [ 0.42583983]\n",
      " [ 0.22156388]\n",
      " [-0.45291885]\n",
      " [ 1.06610604]]\n",
      "Outlier threshold:  0.010065161041152237\n",
      "Calculate outlier Energy\n"
     ]
    },
    {
     "name": "stderr",
     "output_type": "stream",
     "text": [
      "100%|███████████████████████████████████████████████████████████████████████████████████| 5/5 [00:00<00:00, 837.59it/s]\n"
     ]
    },
    {
     "name": "stdout",
     "output_type": "stream",
     "text": [
      "Calculate cluster energy\n"
     ]
    },
    {
     "name": "stderr",
     "output_type": "stream",
     "text": [
      "100%|██████████████████████████████████████████████████████████████████████████████| 399/399 [00:00<00:00, 1142.26it/s]\n"
     ]
    },
    {
     "name": "stdout",
     "output_type": "stream",
     "text": [
      "Outlier classification: Results...\n",
      "Predicted points test:  [0 0 0 0 0 0 0 0 0 0 0 0 0 0 0 0 1 0 0 0 0 0 0 0 0 0 0 0 0 0 0 0 0 0 0 0 1\n",
      " 0 1 0 0 0 0 0 0 0 0 0 0 1 0 0 0 0 0 0 0 1 0 0 1 0 0 0 0 1 0 0 0 0 0 0 0 0\n",
      " 0 0 0 0 0 0 0 0 0 0 0 0 0 0 0 0 0 0 0 0 0 0 0 0 0 0 0 0 0 0 0 0 0 0 0 0 0\n",
      " 0 0 0 1 0 0 0 0 0 0 0 1 0 0 0 0 0 0 1 0 0 0 0 0 0 0 0 0 0 0 1 0 0 0 0 0 0\n",
      " 0 0 0 0 0 0 0 0 0 0 0 0 0 0 0 0 0 0 0 0 0 0 0 0 1 0 0 0 0 0 0 0 0 1 0 0 0\n",
      " 0 0 0 0 0 0 0 0 0 0 0 0 0 0 0 0 0 0 0 0 0 0 0 0 0 0 0 0 0 0 0 0 0 0 0 0 1\n",
      " 0 0 1 0 0 0 0 0 0 0 0 0 0 0 0 0 0 1 1 0 0 0 0 0 0 0 0 0 0 0 0 0 0 0 0 0 0\n",
      " 0 0 0 0 0 0 0 0 1 0 0 0 0 0 0 0 0 0 0 0 0 0 0 0 0 0 0 0 0 0 0 0 0 0 0 0 0\n",
      " 0 1 1 0 0 0 0 0 0 0 0 0 0 0 0 0 0 0 0 0 0 0 1 0 0 0 0 0 0 0 0 0 0 0 1 0 0\n",
      " 0 0 0 0 0 0 0 0 0 0 0 0 0 0 1 0 1 0 0 1 0 0 0 0 0 1 0 0 0 0 0 0 0 0 0 0 0\n",
      " 0 0 0 0 0 0 0 1 0 0 0 0 0 0 0 0 0 0 1 0 0 0 0 0 0 0 0 0 0 0 1 1 0 1]\n",
      "Accuracy: 0.9257425742574258, Precision: 0.0967741935483871, Recall: 0.6, F1-Score: 0.16666666666666666, \n",
      "Num True Negative: 371, Num False Negative: 2, Num True Positive: 3, Num False Positive: 28\n",
      "Outlier threshold:  0.010065161041152237\n",
      "Average clusterpoint energy:  -0.14197857585878434\n",
      "Outlier energy:  [[-0.07276686]\n",
      " [ 0.03116854]\n",
      " [ 0.0552814 ]\n",
      " [-0.12496134]\n",
      " [ 0.2572956 ]]\n",
      "Outlier threshold:  -0.06616684936213794\n",
      "Calculate outlier Energy\n"
     ]
    },
    {
     "name": "stderr",
     "output_type": "stream",
     "text": [
      "100%|███████████████████████████████████████████████████████████████████████████████████| 5/5 [00:00<00:00, 706.16it/s]\n"
     ]
    },
    {
     "name": "stdout",
     "output_type": "stream",
     "text": [
      "Calculate cluster energy\n"
     ]
    },
    {
     "name": "stderr",
     "output_type": "stream",
     "text": [
      "100%|██████████████████████████████████████████████████████████████████████████████| 399/399 [00:00<00:00, 1197.87it/s]\n"
     ]
    },
    {
     "name": "stdout",
     "output_type": "stream",
     "text": [
      "Outlier classification: Results...\n",
      "Predicted points test:  [0 0 0 0 0 0 0 0 0 0 0 0 1 0 0 0 0 0 0 0 0 0 0 0 0 0 0 0 0 0 0 1 0 0 0 0 0\n",
      " 0 0 0 0 0 0 1 0 0 0 0 0 0 0 0 0 0 0 0 0 1 0 0 1 0 0 0 0 0 0 0 0 0 0 0 0 0\n",
      " 0 0 0 0 0 0 0 0 0 0 0 0 0 0 0 0 0 0 0 0 0 0 0 0 0 0 0 0 0 0 0 0 0 0 0 0 0\n",
      " 0 0 0 1 0 0 0 0 0 0 0 0 0 0 0 0 0 0 0 0 0 0 0 0 0 0 0 0 0 0 0 0 0 0 0 0 0\n",
      " 0 0 0 0 0 0 0 0 0 0 0 1 0 0 0 0 0 0 0 0 1 0 0 0 0 0 0 0 0 0 0 0 0 0 0 0 0\n",
      " 0 0 0 0 0 0 1 0 0 0 0 0 0 0 1 0 0 0 0 0 0 0 0 0 0 0 0 0 0 0 0 0 0 0 0 0 0\n",
      " 1 1 0 0 0 0 0 0 0 0 0 0 0 0 0 1 0 0 1 0 0 0 0 0 0 0 0 0 0 0 0 1 0 0 0 0 0\n",
      " 0 0 0 0 0 0 0 0 0 0 0 0 0 0 0 0 0 0 0 0 0 0 0 0 0 1 1 0 0 0 0 0 0 0 0 0 0\n",
      " 0 0 1 0 0 0 0 0 0 0 0 0 0 0 0 0 0 0 0 0 0 0 0 0 0 0 0 0 0 0 0 0 0 0 1 0 0\n",
      " 0 0 1 0 0 0 0 0 0 0 0 0 0 0 0 0 0 1 0 0 0 0 0 0 0 1 0 0 0 1 0 0 0 0 0 0 0\n",
      " 0 0 0 0 0 0 0 0 0 0 0 0 0 0 0 0 0 0 0 0 0 0 0 0 0 0 0 0 0 0 1 1 0 1]\n",
      "Accuracy: 0.9381188118811881, Precision: 0.11538461538461539, Recall: 0.6, F1-Score: 0.1935483870967742, \n",
      "Num True Negative: 376, Num False Negative: 2, Num True Positive: 3, Num False Positive: 23\n",
      "Outlier threshold:  -0.06616684936213794\n",
      "Average clusterpoint energy:  -0.2885067789580639\n",
      "Outlier energy:  [[-0.23205751]\n",
      " [ 0.12850754]\n",
      " [ 0.09366074]\n",
      " [-0.21182166]\n",
      " [ 0.41783501]]\n",
      "Outlier threshold:  -0.10020487176855634\n",
      "Calculate outlier Energy\n"
     ]
    },
    {
     "name": "stderr",
     "output_type": "stream",
     "text": [
      "100%|███████████████████████████████████████████████████████████████████████████████████| 5/5 [00:00<00:00, 680.36it/s]\n"
     ]
    },
    {
     "name": "stdout",
     "output_type": "stream",
     "text": [
      "Calculate cluster energy\n"
     ]
    },
    {
     "name": "stderr",
     "output_type": "stream",
     "text": [
      "100%|██████████████████████████████████████████████████████████████████████████████| 399/399 [00:00<00:00, 1210.43it/s]\n"
     ]
    },
    {
     "name": "stdout",
     "output_type": "stream",
     "text": [
      "Outlier classification: Results...\n",
      "Predicted points test:  [0 0 0 0 0 0 0 0 0 0 0 0 0 0 0 0 0 0 0 0 0 0 0 0 0 0 0 0 0 0 0 1 0 0 0 0 0\n",
      " 0 0 0 0 1 0 1 0 0 0 0 0 0 0 0 0 0 0 0 0 1 0 0 1 0 0 0 0 0 0 0 0 0 0 0 0 0\n",
      " 0 0 0 0 0 0 0 0 0 0 0 0 0 0 0 0 0 0 0 0 0 0 0 0 0 0 0 0 0 0 0 0 0 0 0 0 0\n",
      " 0 0 0 1 0 0 0 0 0 0 0 0 0 0 0 0 0 0 0 0 0 0 0 0 0 0 0 0 0 0 0 0 0 0 0 0 0\n",
      " 0 0 0 0 0 0 0 0 0 0 0 1 0 0 0 0 0 0 0 0 0 0 0 0 0 0 0 0 0 1 0 0 0 0 0 0 0\n",
      " 0 0 0 0 0 0 1 0 0 0 0 0 0 0 0 0 0 0 0 0 0 0 1 0 0 0 0 0 0 0 0 0 0 0 0 0 0\n",
      " 1 0 0 0 0 0 0 0 0 0 0 0 0 0 0 0 0 0 1 0 0 0 0 0 0 0 0 0 0 0 0 0 0 0 0 0 0\n",
      " 0 0 0 0 0 0 0 0 0 0 0 0 0 0 0 1 0 0 0 0 0 0 0 0 0 0 0 0 0 0 0 0 0 0 0 0 0\n",
      " 0 0 1 0 0 0 1 0 0 0 0 0 0 0 0 0 0 0 0 0 0 0 0 0 0 0 0 0 0 0 0 0 0 0 1 0 0\n",
      " 0 0 1 0 0 0 0 0 0 0 0 0 0 0 0 0 0 0 0 0 0 0 0 0 0 1 0 0 0 0 0 0 0 0 0 0 0\n",
      " 0 0 0 0 0 0 0 0 0 0 0 0 0 0 0 0 0 0 0 0 0 0 0 0 0 0 0 0 0 0 1 1 0 1]\n",
      "Accuracy: 0.9504950495049505, Precision: 0.14285714285714285, Recall: 0.6, F1-Score: 0.23076923076923078, \n",
      "Num True Negative: 381, Num False Negative: 2, Num True Positive: 3, Num False Positive: 18\n",
      "Outlier threshold:  -0.10020487176855634\n",
      "Average clusterpoint energy:  -0.4059626699123572\n",
      "Outlier energy:  [[-0.31339473]\n",
      " [ 0.20984476]\n",
      " [ 0.1379506 ]\n",
      " [-0.28835992]\n",
      " [ 0.59148919]]\n",
      "Outlier threshold:  -0.14495263541820347\n",
      "Calculate outlier Energy\n"
     ]
    },
    {
     "name": "stderr",
     "output_type": "stream",
     "text": [
      "100%|██████████████████████████████████████████████████████████████████████████████████| 5/5 [00:00<00:00, 1213.84it/s]\n"
     ]
    },
    {
     "name": "stdout",
     "output_type": "stream",
     "text": [
      "Calculate cluster energy\n"
     ]
    },
    {
     "name": "stderr",
     "output_type": "stream",
     "text": [
      "100%|██████████████████████████████████████████████████████████████████████████████| 399/399 [00:00<00:00, 1376.69it/s]\n"
     ]
    },
    {
     "name": "stdout",
     "output_type": "stream",
     "text": [
      "Outlier classification: Results...\n",
      "Predicted points test:  [0 0 0 1 0 0 0 0 0 0 0 0 0 0 0 0 0 0 0 0 0 0 0 0 0 0 0 0 0 0 0 1 0 0 0 0 0\n",
      " 0 0 0 1 1 0 1 0 0 0 0 0 0 0 0 0 0 0 0 0 1 0 0 1 0 0 0 0 0 0 0 0 0 0 0 0 0\n",
      " 0 0 0 0 0 0 0 0 1 0 0 0 0 0 0 0 0 0 0 0 0 0 0 0 0 0 0 0 0 0 0 0 0 0 0 0 0\n",
      " 0 0 0 1 0 0 0 0 0 0 0 0 0 0 0 0 0 0 0 0 0 0 0 0 0 0 0 0 0 0 0 0 0 0 0 0 0\n",
      " 0 0 0 0 0 0 0 0 0 0 0 1 0 0 0 0 0 0 0 0 1 0 0 0 0 0 0 0 0 0 0 0 0 0 0 0 0\n",
      " 0 0 0 0 0 0 1 0 0 0 0 0 0 0 1 0 0 0 0 0 0 0 1 0 0 0 0 0 0 0 0 0 0 0 0 0 0\n",
      " 1 1 0 0 0 0 0 0 0 0 0 0 0 0 0 1 0 0 1 0 0 0 0 0 0 0 0 0 0 0 0 1 0 0 0 0 0\n",
      " 0 0 0 0 0 0 0 0 0 0 0 0 0 0 0 1 0 0 0 0 0 0 0 0 0 1 0 0 0 0 0 0 0 0 0 0 0\n",
      " 0 0 1 0 0 0 0 0 0 0 0 0 0 0 0 0 0 0 0 0 0 0 0 0 0 0 0 0 0 0 0 0 0 0 1 0 0\n",
      " 0 0 0 0 0 0 0 0 0 0 0 0 0 0 0 0 0 0 0 0 0 0 0 0 0 1 0 0 0 0 0 0 0 0 0 0 0\n",
      " 0 0 0 1 0 0 0 0 0 0 0 0 0 0 0 0 0 0 0 0 0 0 0 0 0 0 0 0 0 0 1 1 0 1]\n",
      "Accuracy: 0.9331683168316832, Precision: 0.10714285714285714, Recall: 0.6, F1-Score: 0.18181818181818182, \n",
      "Num True Negative: 374, Num False Negative: 2, Num True Positive: 3, Num False Positive: 25\n",
      "Outlier threshold:  -0.14495263541820347\n",
      "Average clusterpoint energy:  -0.5171399607118783\n",
      "Outlier energy:  [[-0.41389167]\n",
      " [ 0.37022377]\n",
      " [ 0.1966697 ]\n",
      " [-0.39090374]\n",
      " [ 0.89891494]]\n",
      "Outlier threshold:  -0.16510053544476325\n",
      "Calculate outlier Energy\n"
     ]
    },
    {
     "name": "stderr",
     "output_type": "stream",
     "text": [
      "100%|██████████████████████████████████████████████████████████████████████████████████| 5/5 [00:00<00:00, 1149.38it/s]\n"
     ]
    },
    {
     "name": "stdout",
     "output_type": "stream",
     "text": [
      "Calculate cluster energy\n"
     ]
    },
    {
     "name": "stderr",
     "output_type": "stream",
     "text": [
      "100%|██████████████████████████████████████████████████████████████████████████████| 399/399 [00:00<00:00, 1349.97it/s]\n"
     ]
    },
    {
     "name": "stdout",
     "output_type": "stream",
     "text": [
      "Outlier classification: Results...\n",
      "Predicted points test:  [0 0 0 0 0 0 0 0 0 0 0 0 0 0 0 0 0 0 0 0 0 0 0 0 0 0 0 0 0 0 0 1 0 0 0 0 0\n",
      " 0 0 0 1 1 0 0 0 0 0 0 0 0 0 0 0 0 0 0 0 1 0 0 1 0 0 0 0 0 0 0 0 0 0 0 0 0\n",
      " 0 0 0 0 0 0 0 0 0 0 0 0 0 0 0 0 0 0 0 0 0 0 0 0 0 0 0 0 0 0 0 0 0 0 0 0 0\n",
      " 0 0 0 1 0 0 0 0 0 0 0 0 0 0 0 0 0 0 0 0 0 0 0 0 0 0 0 0 0 0 0 0 0 0 0 0 0\n",
      " 0 0 0 0 0 0 0 0 0 0 0 1 0 0 0 0 0 0 0 0 1 0 0 0 0 0 0 0 0 0 0 0 0 0 0 0 0\n",
      " 0 0 0 0 0 0 1 0 0 0 0 0 0 0 1 0 0 0 0 0 0 0 1 0 0 0 0 0 0 0 0 0 0 0 0 0 0\n",
      " 1 1 0 0 0 0 0 0 0 0 0 0 0 0 0 0 0 0 1 0 0 0 0 0 0 0 0 0 0 0 0 1 0 0 0 0 0\n",
      " 0 0 0 0 0 0 0 0 0 0 0 0 0 0 0 1 0 0 0 0 0 0 0 0 0 1 0 0 0 0 0 0 0 0 0 0 0\n",
      " 0 0 1 0 0 0 0 0 0 0 0 0 0 0 0 0 0 0 0 0 0 0 0 0 0 0 0 0 0 0 0 0 0 0 1 0 0\n",
      " 0 0 0 0 0 0 0 0 0 0 0 0 0 0 0 0 0 0 0 0 0 0 0 0 0 1 0 0 0 0 0 0 0 0 0 0 0\n",
      " 0 0 0 0 0 0 0 0 0 0 0 0 0 0 0 0 0 0 0 0 0 0 0 0 0 0 0 0 0 0 1 1 0 1]\n",
      "Accuracy: 0.9455445544554455, Precision: 0.13043478260869565, Recall: 0.6, F1-Score: 0.21428571428571427, \n",
      "Num True Negative: 379, Num False Negative: 2, Num True Positive: 3, Num False Positive: 20\n",
      "Outlier threshold:  -0.16510053544476325\n",
      "Average clusterpoint energy:  -0.6191767750908564\n",
      "Outlier energy:  [[-0.46950774]\n",
      " [ 0.33254789]\n",
      " [ 0.24048678]\n",
      " [-0.41847462]\n",
      " [ 1.06610604]]\n",
      "Outlier threshold:  0.010065161041152237\n",
      "Calculate outlier Energy\n"
     ]
    },
    {
     "name": "stderr",
     "output_type": "stream",
     "text": [
      "100%|██████████████████████████████████████████████████████████████████████████████████| 5/5 [00:00<00:00, 1103.36it/s]\n"
     ]
    },
    {
     "name": "stdout",
     "output_type": "stream",
     "text": [
      "Calculate cluster energy\n"
     ]
    },
    {
     "name": "stderr",
     "output_type": "stream",
     "text": [
      "100%|██████████████████████████████████████████████████████████████████████████████| 399/399 [00:00<00:00, 1158.57it/s]\n"
     ]
    },
    {
     "name": "stdout",
     "output_type": "stream",
     "text": [
      "Outlier classification: Results...\n",
      "Predicted points test:  [0 1 0 0 0 0 0 0 0 1 0 0 0 0 0 0 0 0 0 0 0 0 0 0 0 0 0 1 0 0 0 1 0 0 0 0 1\n",
      " 0 1 0 0 0 0 0 0 0 0 0 0 0 0 0 0 1 0 0 0 1 0 0 1 0 0 0 0 0 1 0 0 0 0 0 0 1\n",
      " 1 0 0 0 0 0 0 1 0 0 0 0 0 0 0 0 0 0 0 0 0 0 0 0 0 0 0 1 0 0 0 0 0 0 0 0 1\n",
      " 0 0 0 1 0 0 0 0 0 0 0 1 0 0 0 0 0 0 1 0 0 0 0 0 0 0 0 1 0 0 0 0 0 1 0 0 0\n",
      " 0 0 1 0 0 0 0 0 0 0 1 0 0 0 0 0 0 0 1 0 0 0 0 0 0 0 0 0 0 0 0 0 0 1 0 0 0\n",
      " 0 0 0 1 0 0 0 0 0 0 0 0 0 0 0 0 0 0 0 0 0 0 0 0 0 0 0 0 0 0 0 0 0 0 0 0 0\n",
      " 0 0 0 0 0 0 0 0 0 0 0 1 0 0 0 0 0 0 1 0 0 0 0 0 0 0 0 0 0 0 0 0 0 0 0 0 1\n",
      " 0 0 0 0 0 0 0 0 1 0 0 0 0 0 0 0 0 0 0 0 0 0 0 0 0 0 0 0 0 0 0 0 0 0 0 0 0\n",
      " 0 1 1 0 0 0 0 0 0 0 0 0 0 0 0 0 0 0 0 0 0 0 0 0 0 0 0 0 0 0 0 1 0 0 1 0 0\n",
      " 0 0 0 0 0 0 0 1 0 0 0 0 0 0 0 0 0 0 0 0 0 0 0 0 0 1 0 0 0 0 0 0 0 0 0 0 0\n",
      " 0 0 0 0 0 0 0 0 0 0 1 0 0 0 0 1 0 1 0 0 0 0 0 0 0 0 0 0 0 0 1 1 0 1]\n",
      "Accuracy: 0.900990099009901, Precision: 0.07317073170731707, Recall: 0.6, F1-Score: 0.13043478260869565, \n",
      "Num True Negative: 361, Num False Negative: 2, Num True Positive: 3, Num False Positive: 38\n",
      "Outlier threshold:  0.010065161041152237\n",
      "Average clusterpoint energy:  -0.14048304775298232\n",
      "Outlier energy:  [[-0.13471851]\n",
      " [ 0.03116854]\n",
      " [ 0.0552814 ]\n",
      " [-0.15908599]\n",
      " [ 0.13761454]]\n",
      "Outlier threshold:  -0.07378603808988479\n",
      "Calculate outlier Energy\n"
     ]
    },
    {
     "name": "stderr",
     "output_type": "stream",
     "text": [
      "100%|███████████████████████████████████████████████████████████████████████████████████| 5/5 [00:00<00:00, 829.80it/s]\n"
     ]
    },
    {
     "name": "stdout",
     "output_type": "stream",
     "text": [
      "Calculate cluster energy\n"
     ]
    },
    {
     "name": "stderr",
     "output_type": "stream",
     "text": [
      "100%|██████████████████████████████████████████████████████████████████████████████| 399/399 [00:00<00:00, 1208.36it/s]\n"
     ]
    },
    {
     "name": "stdout",
     "output_type": "stream",
     "text": [
      "Outlier classification: Results...\n",
      "Predicted points test:  [0 0 0 0 0 1 0 0 0 0 0 0 1 0 1 0 0 0 0 0 0 0 0 0 0 0 0 0 0 0 1 1 0 0 0 0 0\n",
      " 0 0 0 1 1 0 0 1 0 0 0 0 0 0 0 0 0 0 0 0 1 0 0 1 0 0 0 0 0 0 0 1 0 0 0 0 0\n",
      " 0 0 0 0 0 0 0 0 0 0 0 0 0 0 0 0 0 0 0 0 0 0 0 0 0 0 0 0 0 0 0 0 0 1 0 0 0\n",
      " 0 0 0 1 0 0 1 0 0 0 0 0 0 0 0 0 0 0 0 0 0 0 0 0 1 0 0 1 0 1 0 0 0 0 0 0 0\n",
      " 0 0 0 0 0 0 0 0 0 0 0 0 0 0 0 0 0 0 0 0 0 0 0 0 0 0 0 0 0 1 0 1 0 1 0 0 0\n",
      " 0 0 1 1 0 0 1 0 0 0 0 1 0 0 1 0 0 0 0 0 0 0 1 0 0 0 0 0 0 0 0 0 0 0 0 0 0\n",
      " 0 1 0 0 0 0 0 0 0 0 0 0 0 0 0 0 0 0 1 0 0 1 0 0 0 0 0 0 0 0 0 1 0 1 0 1 0\n",
      " 0 1 0 0 0 0 0 0 0 0 0 0 0 0 0 1 0 0 0 0 0 0 0 0 0 0 0 0 0 0 0 0 0 0 0 0 0\n",
      " 0 0 1 0 0 0 0 0 0 0 0 0 0 0 0 0 0 0 0 0 0 0 0 0 0 0 0 0 0 0 0 0 0 0 1 0 0\n",
      " 0 0 0 0 1 0 0 1 0 0 0 0 0 0 0 0 0 0 0 0 0 0 0 0 0 1 0 0 0 0 0 0 0 0 0 0 0\n",
      " 0 0 0 0 0 0 0 0 0 0 0 0 0 0 0 0 0 0 0 0 0 0 1 0 0 0 0 0 0 0 1 1 0 1]\n",
      "Accuracy: 0.8960396039603961, Precision: 0.06976744186046512, Recall: 0.6, F1-Score: 0.125, \n",
      "Num True Negative: 359, Num False Negative: 2, Num True Positive: 3, Num False Positive: 40\n",
      "Outlier threshold:  -0.07378603808988479\n",
      "Average clusterpoint energy:  -0.28341129051793623\n",
      "Outlier energy:  [[-0.26546739]\n",
      " [ 0.21377377]\n",
      " [ 0.10889969]\n",
      " [-0.24658548]\n",
      " [ 0.41783501]]\n",
      "Outlier threshold:  -0.10755633280084863\n",
      "Calculate outlier Energy\n"
     ]
    },
    {
     "name": "stderr",
     "output_type": "stream",
     "text": [
      "100%|███████████████████████████████████████████████████████████████████████████████████| 5/5 [00:00<00:00, 807.44it/s]\n"
     ]
    },
    {
     "name": "stdout",
     "output_type": "stream",
     "text": [
      "Calculate cluster energy\n"
     ]
    },
    {
     "name": "stderr",
     "output_type": "stream",
     "text": [
      "100%|██████████████████████████████████████████████████████████████████████████████| 399/399 [00:00<00:00, 1238.44it/s]\n"
     ]
    },
    {
     "name": "stdout",
     "output_type": "stream",
     "text": [
      "Outlier classification: Results...\n",
      "Predicted points test:  [0 0 0 1 0 1 0 0 0 0 0 0 1 0 0 0 0 0 0 0 0 0 0 0 0 0 0 0 0 0 0 1 0 0 0 0 0\n",
      " 0 0 0 1 1 0 0 0 0 0 0 0 0 0 0 0 0 0 0 0 1 0 0 1 0 0 0 0 0 0 0 0 0 0 0 0 0\n",
      " 0 0 0 0 0 0 0 0 0 0 0 0 0 0 0 0 0 0 0 0 0 0 0 0 0 0 0 0 0 0 0 0 0 0 0 0 0\n",
      " 0 0 0 1 0 0 0 0 0 0 0 0 0 0 0 0 0 0 0 0 0 0 0 0 0 0 0 0 0 0 0 0 0 0 0 0 0\n",
      " 0 0 0 0 0 0 0 0 0 0 0 1 0 0 0 0 0 0 0 0 1 0 0 0 0 0 0 0 0 0 0 1 0 0 0 0 0\n",
      " 0 0 0 0 0 0 1 0 0 0 0 0 0 0 1 0 0 0 0 0 0 0 1 0 0 0 0 0 0 0 0 0 0 0 0 0 0\n",
      " 1 0 0 0 0 0 0 0 0 0 0 0 0 0 0 1 0 0 1 0 0 0 0 0 0 0 0 0 0 0 0 0 0 0 0 0 0\n",
      " 0 0 0 0 0 0 0 0 0 0 0 0 0 0 0 1 0 0 0 0 0 0 0 0 0 0 0 0 0 0 0 0 0 0 0 0 0\n",
      " 0 0 1 0 0 0 1 0 0 0 0 0 0 0 0 0 0 0 0 0 0 0 0 0 0 0 0 0 0 0 0 0 0 0 1 0 0\n",
      " 0 0 0 0 0 0 0 0 0 0 0 0 0 0 0 0 0 0 0 0 0 0 0 0 0 1 0 0 0 0 0 0 0 0 0 0 0\n",
      " 0 0 0 0 0 0 0 0 0 0 0 0 0 0 0 0 0 0 0 0 0 0 0 0 0 0 0 0 0 0 1 1 0 1]\n",
      "Accuracy: 0.9381188118811881, Precision: 0.11538461538461539, Recall: 0.6, F1-Score: 0.1935483870967742, \n",
      "Num True Negative: 376, Num False Negative: 2, Num True Positive: 3, Num False Positive: 23\n",
      "Outlier threshold:  -0.10755633280084863\n",
      "Average clusterpoint energy:  -0.41177928052656126\n",
      "Outlier energy:  [[-0.25144308]\n",
      " [ 0.29511099]\n",
      " [ 0.1379506 ]\n",
      " [-0.28835992]\n",
      " [ 0.67221155]]\n",
      "Outlier threshold:  -0.11740204554927106\n",
      "Calculate outlier Energy\n"
     ]
    },
    {
     "name": "stderr",
     "output_type": "stream",
     "text": [
      "100%|███████████████████████████████████████████████████████████████████████████████████| 5/5 [00:00<00:00, 743.83it/s]\n"
     ]
    },
    {
     "name": "stdout",
     "output_type": "stream",
     "text": [
      "Calculate cluster energy\n"
     ]
    },
    {
     "name": "stderr",
     "output_type": "stream",
     "text": [
      "100%|██████████████████████████████████████████████████████████████████████████████| 399/399 [00:00<00:00, 1072.59it/s]\n"
     ]
    },
    {
     "name": "stdout",
     "output_type": "stream",
     "text": [
      "Outlier classification: Results...\n",
      "Predicted points test:  [0 0 0 0 0 0 0 0 0 0 0 0 0 0 0 0 0 0 0 0 0 0 0 0 0 0 0 0 0 0 0 1 0 0 0 0 0\n",
      " 0 0 0 1 0 0 0 0 0 0 0 0 0 0 0 0 0 0 0 0 1 0 0 1 0 0 0 0 0 0 0 0 0 0 0 0 0\n",
      " 0 0 0 0 0 0 0 0 0 0 0 0 0 0 0 0 0 0 0 0 0 0 0 0 0 0 0 0 0 0 0 0 0 0 0 0 0\n",
      " 0 0 0 1 0 0 0 0 0 0 0 0 0 0 0 0 0 0 0 0 0 0 0 0 0 0 0 0 0 0 0 0 0 0 0 0 0\n",
      " 0 0 0 0 0 0 0 0 0 0 0 1 0 0 0 0 0 0 0 0 0 0 0 0 0 0 0 0 0 0 0 0 0 0 0 0 0\n",
      " 0 0 0 0 0 0 1 0 0 0 0 0 0 0 1 0 0 0 0 0 0 0 1 0 0 0 0 0 0 0 0 0 0 0 0 0 0\n",
      " 0 1 0 0 0 0 0 0 0 0 0 0 0 0 0 0 0 0 1 0 0 0 0 0 0 0 0 0 0 0 0 0 0 0 0 0 0\n",
      " 0 0 0 0 0 0 0 0 0 0 0 0 0 0 0 0 0 0 0 0 0 0 0 0 0 0 0 0 0 0 0 0 0 0 0 0 0\n",
      " 0 0 1 0 0 0 0 0 0 0 0 0 0 0 0 0 0 0 0 0 0 0 0 0 0 0 0 0 0 0 0 0 0 0 1 0 0\n",
      " 0 0 0 0 0 0 0 0 0 0 0 0 0 0 0 0 0 0 0 0 0 0 0 0 0 1 0 0 0 0 0 0 0 0 0 0 0\n",
      " 0 0 0 0 0 0 0 0 0 0 0 0 0 0 0 0 0 0 0 0 0 0 0 0 0 0 0 0 0 0 1 1 0 1]\n",
      "Accuracy: 0.9603960396039604, Precision: 0.17647058823529413, Recall: 0.6, F1-Score: 0.2727272727272727, \n",
      "Num True Negative: 385, Num False Negative: 2, Num True Positive: 3, Num False Positive: 14\n",
      "Outlier threshold:  -0.11740204554927106\n",
      "Average clusterpoint energy:  -0.5219459255347655\n",
      "Outlier energy:  [[-0.3804818 ]\n",
      " [ 0.36219805]\n",
      " [ 0.20035365]\n",
      " [-0.39122333]\n",
      " [ 0.89891494]]\n",
      "Outlier threshold:  -0.13686470309270113\n",
      "Calculate outlier Energy\n"
     ]
    },
    {
     "name": "stderr",
     "output_type": "stream",
     "text": [
      "100%|███████████████████████████████████████████████████████████████████████████████████| 5/5 [00:00<00:00, 900.57it/s]\n"
     ]
    },
    {
     "name": "stdout",
     "output_type": "stream",
     "text": [
      "Calculate cluster energy\n"
     ]
    },
    {
     "name": "stderr",
     "output_type": "stream",
     "text": [
      "100%|██████████████████████████████████████████████████████████████████████████████| 399/399 [00:00<00:00, 1181.37it/s]\n"
     ]
    },
    {
     "name": "stdout",
     "output_type": "stream",
     "text": [
      "Outlier classification: Results...\n",
      "Predicted points test:  [0 0 0 0 0 0 0 0 0 0 0 0 0 0 0 0 0 0 0 0 0 0 0 0 0 0 0 0 0 0 0 1 0 0 0 0 0\n",
      " 0 0 0 1 0 0 0 0 0 0 0 0 0 0 0 0 0 0 0 0 1 0 0 1 0 0 0 0 0 0 0 0 0 0 0 0 0\n",
      " 0 0 0 0 0 0 0 0 0 0 0 0 0 0 0 0 0 0 0 0 0 0 0 0 0 0 0 0 0 0 0 0 0 0 0 0 0\n",
      " 0 0 0 1 0 0 0 0 0 0 0 0 0 0 0 0 0 0 0 0 0 0 0 0 0 0 0 0 0 0 0 0 0 0 0 0 0\n",
      " 0 0 0 0 0 0 0 0 0 0 0 0 0 0 0 0 0 0 0 0 1 0 0 0 0 0 0 0 0 0 0 0 0 0 0 0 0\n",
      " 0 0 0 0 0 0 1 0 0 0 0 0 0 0 1 0 0 0 0 0 0 0 1 0 0 0 0 0 0 0 0 0 0 0 0 0 0\n",
      " 1 1 0 0 0 0 0 0 0 0 0 0 0 0 0 0 0 0 1 0 0 0 0 0 0 0 0 0 0 0 0 0 0 0 0 0 0\n",
      " 0 0 0 0 0 0 0 0 0 0 0 0 0 0 0 1 0 0 0 0 0 0 0 0 0 0 0 0 0 0 0 0 0 0 0 0 0\n",
      " 0 0 1 0 0 0 0 0 0 0 0 0 0 0 0 0 0 0 0 0 0 0 0 0 0 0 0 0 0 0 0 0 0 0 1 0 0\n",
      " 0 0 0 0 0 0 0 0 0 0 0 0 0 0 0 0 0 0 0 0 0 0 0 0 0 1 0 0 0 0 0 0 0 0 0 0 0\n",
      " 0 0 0 0 0 0 0 0 0 0 0 0 0 0 0 0 0 0 0 0 0 0 0 0 0 0 0 0 0 0 1 1 0 1]\n",
      "Accuracy: 0.9554455445544554, Precision: 0.15789473684210525, Recall: 0.6, F1-Score: 0.25, \n",
      "Num True Negative: 383, Num False Negative: 2, Num True Positive: 3, Num False Positive: 16\n",
      "Outlier threshold:  -0.13686470309270113\n",
      "Average clusterpoint energy:  -0.6161542599268606\n",
      "Outlier energy:  [[-0.43609786]\n",
      " [ 0.51110606]\n",
      " [ 0.22524783]\n",
      " [-0.45291885]\n",
      " [ 0.98538368]]\n",
      "Outlier threshold:  0.008896149930184111\n",
      "Calculate outlier Energy\n"
     ]
    },
    {
     "name": "stderr",
     "output_type": "stream",
     "text": [
      "100%|███████████████████████████████████████████████████████████████████████████████████| 5/5 [00:00<00:00, 902.23it/s]\n"
     ]
    },
    {
     "name": "stdout",
     "output_type": "stream",
     "text": [
      "Calculate cluster energy\n"
     ]
    },
    {
     "name": "stderr",
     "output_type": "stream",
     "text": [
      "100%|██████████████████████████████████████████████████████████████████████████████| 399/399 [00:00<00:00, 1075.02it/s]\n"
     ]
    },
    {
     "name": "stdout",
     "output_type": "stream",
     "text": [
      "Outlier classification: Results...\n",
      "Predicted points test:  [0 1 0 0 0 0 0 0 0 1 0 0 0 0 0 0 0 0 0 0 0 1 0 0 0 0 0 0 0 0 0 1 0 0 0 0 0\n",
      " 0 0 0 0 0 1 0 0 0 0 0 0 1 0 0 0 0 0 0 0 1 0 0 0 0 0 0 0 0 0 0 0 0 0 0 0 0\n",
      " 0 0 0 0 0 0 0 0 0 0 0 0 0 0 0 0 0 0 0 0 0 0 0 0 0 0 0 0 0 0 0 0 0 0 0 0 1\n",
      " 0 0 0 1 0 0 0 0 0 0 0 0 0 0 0 0 0 0 0 0 0 0 0 0 0 0 0 0 0 0 0 0 0 1 0 0 0\n",
      " 0 0 0 0 0 1 0 0 0 0 0 0 0 0 0 0 0 0 0 0 0 0 0 0 1 0 0 0 0 0 0 0 0 0 0 0 0\n",
      " 0 0 0 1 0 0 0 0 0 0 0 0 0 0 0 0 0 1 0 0 0 0 0 0 0 0 0 0 0 0 0 1 0 0 0 0 1\n",
      " 0 0 0 0 0 0 0 0 0 1 0 0 0 0 0 0 0 0 0 0 0 0 0 0 0 0 0 0 0 0 0 0 0 0 0 0 0\n",
      " 0 0 0 0 0 0 0 0 1 0 0 0 0 0 0 0 0 0 0 0 0 0 0 0 0 0 0 0 0 0 0 0 0 0 0 0 0\n",
      " 0 0 1 0 0 0 0 0 0 0 0 0 0 0 0 0 0 0 0 0 0 0 0 0 0 0 0 0 0 0 0 1 0 0 1 0 0\n",
      " 0 0 0 0 0 0 1 0 0 0 0 0 0 0 0 0 0 0 0 0 0 0 0 0 0 1 0 0 0 0 0 0 0 0 0 0 0\n",
      " 0 0 0 0 0 0 0 0 0 0 0 0 0 0 0 1 0 0 0 0 0 0 0 0 0 0 0 0 0 0 1 1 0 1]\n",
      "Accuracy: 0.9356435643564357, Precision: 0.1111111111111111, Recall: 0.6, F1-Score: 0.1875, \n",
      "Num True Negative: 375, Num False Negative: 2, Num True Positive: 3, Num False Positive: 24\n",
      "Outlier threshold:  0.008896149930184111\n",
      "Average clusterpoint energy:  -0.1445728732707144\n",
      "Outlier energy:  [[-0.10617674]\n",
      " [ 0.03116854]\n",
      " [ 0.0552814 ]\n",
      " [-0.15908599]\n",
      " [ 0.17657323]]\n",
      "Outlier threshold:  -0.06616684936213794\n",
      "Calculate outlier Energy\n"
     ]
    },
    {
     "name": "stderr",
     "output_type": "stream",
     "text": [
      "100%|███████████████████████████████████████████████████████████████████████████████████| 5/5 [00:00<00:00, 891.61it/s]\n"
     ]
    },
    {
     "name": "stdout",
     "output_type": "stream",
     "text": [
      "Calculate cluster energy\n"
     ]
    },
    {
     "name": "stderr",
     "output_type": "stream",
     "text": [
      "100%|██████████████████████████████████████████████████████████████████████████████| 399/399 [00:00<00:00, 1203.45it/s]\n"
     ]
    },
    {
     "name": "stdout",
     "output_type": "stream",
     "text": [
      "Outlier classification: Results...\n",
      "Predicted points test:  [0 0 0 0 0 0 0 0 0 0 0 0 0 0 0 0 0 0 0 0 0 0 0 0 0 0 0 0 0 0 0 1 0 0 0 0 0\n",
      " 0 0 0 1 1 0 0 0 0 0 0 0 0 0 0 0 0 0 0 0 1 0 0 1 0 0 0 0 0 0 0 0 0 0 0 0 0\n",
      " 0 0 0 0 0 0 0 0 1 0 0 0 0 0 0 0 0 0 0 0 0 0 0 0 0 0 0 0 0 1 0 0 0 0 0 0 0\n",
      " 0 0 0 1 0 0 0 0 0 0 0 0 0 0 0 0 0 0 0 0 0 0 0 0 0 0 0 0 0 0 0 0 0 0 0 0 0\n",
      " 0 0 0 0 0 0 0 0 0 0 0 1 0 0 0 0 0 0 0 0 0 0 0 0 0 0 0 0 0 1 0 0 0 0 0 0 0\n",
      " 0 0 1 0 0 0 1 0 0 0 0 0 0 0 0 0 0 0 0 0 0 0 1 0 0 0 0 0 0 0 0 0 0 0 0 0 0\n",
      " 1 0 0 0 0 0 0 0 0 0 0 0 0 0 0 0 0 0 1 0 0 0 0 0 0 0 0 0 0 0 0 1 0 0 0 0 0\n",
      " 0 0 0 0 0 0 0 0 0 0 0 0 0 0 0 0 0 0 0 0 0 0 0 0 0 0 1 0 0 0 0 0 0 0 0 0 0\n",
      " 0 0 1 0 0 0 0 0 0 0 0 0 0 0 0 0 0 1 0 0 0 0 0 0 0 0 0 0 0 0 0 0 0 0 1 0 0\n",
      " 0 0 0 0 0 0 0 0 0 0 0 0 0 0 0 0 0 0 0 0 0 0 0 0 0 1 0 0 0 0 0 0 0 0 0 0 0\n",
      " 0 0 0 0 0 0 0 0 0 0 0 0 0 0 0 0 0 0 0 0 0 0 0 0 0 0 0 0 0 0 1 1 0 1]\n",
      "Accuracy: 0.943069306930693, Precision: 0.125, Recall: 0.6, F1-Score: 0.20689655172413793, \n",
      "Num True Negative: 378, Num False Negative: 2, Num True Positive: 3, Num False Positive: 21\n",
      "Outlier threshold:  -0.06616684936213794\n",
      "Average clusterpoint energy:  -0.28031201465842204\n",
      "Outlier energy:  [[-0.23205751]\n",
      " [ 0.12850754]\n",
      " [ 0.10889969]\n",
      " [-0.2462659 ]\n",
      " [ 0.45959868]]\n",
      "Outlier threshold:  -0.10020487176855634\n",
      "Calculate outlier Energy\n"
     ]
    },
    {
     "name": "stderr",
     "output_type": "stream",
     "text": [
      "100%|███████████████████████████████████████████████████████████████████████████████████| 5/5 [00:00<00:00, 845.63it/s]\n"
     ]
    },
    {
     "name": "stdout",
     "output_type": "stream",
     "text": [
      "Calculate cluster energy\n"
     ]
    },
    {
     "name": "stderr",
     "output_type": "stream",
     "text": [
      "100%|██████████████████████████████████████████████████████████████████████████████| 399/399 [00:00<00:00, 1123.90it/s]\n"
     ]
    },
    {
     "name": "stdout",
     "output_type": "stream",
     "text": [
      "Outlier classification: Results...\n",
      "Predicted points test:  [0 0 0 0 0 0 0 0 0 0 0 0 0 0 0 0 0 0 0 0 0 0 0 0 0 0 0 0 0 0 0 1 0 0 0 0 0\n",
      " 0 0 0 1 0 0 0 0 0 0 0 0 0 0 0 0 0 0 0 0 1 0 0 1 0 0 0 0 0 0 0 0 0 0 0 0 0\n",
      " 0 0 0 0 0 0 0 0 0 0 0 0 0 0 0 0 0 0 0 0 0 0 0 0 0 0 0 0 0 0 0 0 0 0 0 0 0\n",
      " 0 0 0 1 0 0 0 0 0 0 0 0 0 0 0 0 0 0 0 0 0 0 0 0 0 0 0 0 0 0 0 0 0 0 0 0 0\n",
      " 0 0 0 0 0 0 0 0 0 0 0 0 0 0 0 0 0 0 0 0 0 0 0 0 0 0 0 0 0 0 0 0 0 0 0 0 0\n",
      " 0 0 0 0 0 0 1 0 0 0 0 0 0 0 1 0 0 0 0 0 0 0 1 0 0 0 0 0 0 0 0 0 0 0 0 0 0\n",
      " 0 1 0 0 0 0 0 0 0 0 0 0 0 0 0 0 0 0 1 0 0 0 0 0 0 0 0 0 0 0 0 1 0 0 0 0 0\n",
      " 0 0 0 0 0 0 0 0 0 0 0 0 0 0 0 1 0 0 0 0 0 0 0 0 0 0 0 0 0 0 0 0 0 0 0 0 0\n",
      " 0 0 1 0 0 0 0 0 0 0 0 0 0 0 0 0 0 1 0 0 0 0 0 0 0 0 0 0 0 0 0 0 0 0 1 0 0\n",
      " 0 0 0 0 0 0 0 0 0 0 0 0 0 0 0 0 0 1 0 0 0 0 0 0 0 1 0 0 0 0 0 0 0 0 0 0 0\n",
      " 0 0 0 0 0 0 0 0 0 0 0 0 0 0 0 0 0 0 0 0 0 0 0 0 0 0 0 0 0 0 1 1 0 1]\n",
      "Accuracy: 0.9529702970297029, Precision: 0.15, Recall: 0.6, F1-Score: 0.24, \n",
      "Num True Negative: 382, Num False Negative: 2, Num True Positive: 3, Num False Positive: 17\n",
      "Outlier threshold:  -0.10020487176855634\n",
      "Average clusterpoint energy:  -0.41051619957188723\n",
      "Outlier energy:  [[-0.28485296]\n",
      " [ 0.3031367 ]\n",
      " [ 0.1379506 ]\n",
      " [-0.28835992]\n",
      " [ 0.71117024]]\n",
      "Outlier threshold:  -0.14495263541820347\n",
      "Calculate outlier Energy\n"
     ]
    },
    {
     "name": "stderr",
     "output_type": "stream",
     "text": [
      "100%|███████████████████████████████████████████████████████████████████████████████████| 5/5 [00:00<00:00, 993.35it/s]\n"
     ]
    },
    {
     "name": "stdout",
     "output_type": "stream",
     "text": [
      "Calculate cluster energy\n"
     ]
    },
    {
     "name": "stderr",
     "output_type": "stream",
     "text": [
      "100%|██████████████████████████████████████████████████████████████████████████████| 399/399 [00:00<00:00, 1342.11it/s]\n"
     ]
    },
    {
     "name": "stdout",
     "output_type": "stream",
     "text": [
      "Outlier classification: Results...\n",
      "Predicted points test:  [0 0 0 1 0 0 0 0 0 0 0 0 0 0 0 0 0 0 0 0 0 0 0 0 0 0 0 0 0 0 0 1 0 0 0 0 0\n",
      " 0 0 0 1 0 0 0 0 0 0 0 0 0 0 0 0 0 0 0 0 1 0 0 1 0 0 0 0 0 0 0 0 0 0 0 0 0\n",
      " 0 0 0 0 0 0 0 0 1 0 0 0 0 0 0 0 0 0 0 0 0 0 0 0 0 0 0 0 0 0 0 0 0 0 0 0 0\n",
      " 0 0 0 1 0 0 0 0 0 0 0 0 0 0 0 0 0 0 0 0 0 0 0 0 0 0 0 0 0 0 0 0 0 0 0 0 0\n",
      " 0 0 0 0 0 0 0 0 0 0 0 0 0 0 0 0 0 0 0 0 0 0 0 0 0 0 0 0 0 1 0 0 0 0 0 0 0\n",
      " 0 0 0 0 0 0 0 0 0 0 0 0 0 0 0 0 0 0 0 0 0 0 0 0 0 0 0 0 0 0 0 0 0 0 0 0 0\n",
      " 1 1 0 0 1 0 0 0 0 0 0 0 0 0 0 0 0 0 1 0 0 0 0 0 0 0 0 0 0 0 0 1 0 0 0 1 0\n",
      " 0 0 0 0 0 0 0 0 0 0 0 0 0 0 0 1 0 0 0 0 0 0 0 0 0 1 1 0 0 0 0 0 0 0 0 0 0\n",
      " 0 0 1 0 0 0 1 0 0 0 0 0 0 0 0 0 0 0 0 0 0 0 0 0 0 0 0 0 0 0 0 0 0 0 1 0 0\n",
      " 0 0 0 0 0 1 0 0 0 0 0 0 0 0 0 0 0 0 0 0 0 0 0 0 0 1 0 0 0 1 0 0 0 0 0 0 0\n",
      " 0 0 0 0 0 0 0 0 0 0 0 0 0 0 0 0 0 0 0 0 0 0 1 0 0 0 0 0 0 0 1 1 0 1]\n",
      "Accuracy: 0.9356435643564357, Precision: 0.1111111111111111, Recall: 0.6, F1-Score: 0.1875, \n",
      "Num True Negative: 375, Num False Negative: 2, Num True Positive: 3, Num False Positive: 24\n",
      "Outlier threshold:  -0.14495263541820347\n",
      "Average clusterpoint energy:  -0.5188238927930932\n",
      "Outlier energy:  [[-0.41389167]\n",
      " [ 0.45549   ]\n",
      " [ 0.20035365]\n",
      " [-0.39090374]\n",
      " [ 0.81819258]]\n",
      "Outlier threshold:  -0.16510053544476325\n",
      "Calculate outlier Energy\n"
     ]
    },
    {
     "name": "stderr",
     "output_type": "stream",
     "text": [
      "100%|███████████████████████████████████████████████████████████████████████████████████| 5/5 [00:00<00:00, 947.09it/s]\n"
     ]
    },
    {
     "name": "stdout",
     "output_type": "stream",
     "text": [
      "Calculate cluster energy\n"
     ]
    },
    {
     "name": "stderr",
     "output_type": "stream",
     "text": [
      "100%|██████████████████████████████████████████████████████████████████████████████| 399/399 [00:00<00:00, 1287.55it/s]"
     ]
    },
    {
     "name": "stdout",
     "output_type": "stream",
     "text": [
      "Outlier classification: Results...\n",
      "Predicted points test:  [0 0 0 0 0 0 0 0 0 0 0 0 0 0 0 0 0 0 0 0 0 0 0 0 0 0 0 0 0 0 0 1 0 0 0 0 0\n",
      " 0 0 0 1 1 0 0 0 0 0 0 0 0 0 0 0 0 0 0 0 1 0 0 1 0 0 0 0 0 0 0 0 0 0 0 0 0\n",
      " 0 0 0 0 0 0 0 0 0 0 0 0 0 0 0 0 0 0 0 0 0 0 0 0 0 0 0 0 0 0 0 0 0 0 0 0 0\n",
      " 0 0 0 1 0 0 0 0 0 0 0 0 0 0 0 0 0 0 0 0 0 0 0 0 0 0 0 0 0 0 0 0 0 0 0 0 0\n",
      " 0 0 0 0 0 0 0 0 0 0 0 1 0 0 0 0 0 0 0 0 1 0 0 0 0 0 0 0 0 0 0 0 0 0 0 0 0\n",
      " 0 0 0 0 0 0 1 0 0 0 0 0 0 0 1 0 0 0 0 0 0 0 1 0 0 0 0 0 0 0 0 0 0 0 0 0 0\n",
      " 1 1 0 0 0 0 0 0 0 0 0 0 0 0 0 0 0 0 1 0 0 0 0 0 0 0 0 0 0 0 0 1 0 0 0 0 0\n",
      " 0 0 0 0 0 0 0 0 0 0 0 0 0 0 0 1 0 0 0 0 0 0 0 0 0 1 0 0 0 0 0 0 0 0 0 0 0\n",
      " 0 0 1 0 0 0 0 0 0 0 0 0 0 0 0 0 0 0 0 0 0 0 0 0 0 0 0 0 0 0 0 0 0 0 1 0 0\n",
      " 0 0 0 0 0 0 0 0 0 0 0 0 0 0 0 0 0 0 0 0 0 0 0 0 0 1 0 0 0 0 0 0 0 0 0 0 0\n",
      " 0 0 0 0 0 0 0 0 0 0 0 0 0 0 0 0 0 0 0 0 0 0 0 0 0 0 0 0 0 0 1 1 0 1]\n",
      "Accuracy: 0.9455445544554455, Precision: 0.13043478260869565, Recall: 0.6, F1-Score: 0.21428571428571427, \n",
      "Num True Negative: 379, Num False Negative: 2, Num True Positive: 3, Num False Positive: 20\n",
      "Outlier threshold:  -0.16510053544476325\n",
      "Average clusterpoint energy:  -0.6201807804891839\n",
      "Outlier energy:  [[-0.37414621]\n",
      " [ 0.41781412]\n",
      " [ 0.22156388]\n",
      " [-0.41847462]\n",
      " [ 1.06610604]]\n"
     ]
    },
    {
     "name": "stderr",
     "output_type": "stream",
     "text": [
      "\n"
     ]
    }
   ],
   "source": [
    "f1_2s=[]\n",
    "for i in range(len(weights)):\n",
    "    f1=[]\n",
    "    for k in range(len(weights[i])):\n",
    "        qbm.H.θ=weights[i][k]\n",
    "        p,r,f=evaluate_qbm(qbm,testing_dataset,cluster=3,plot=False)\n",
    "        f1.append(f)\n",
    "    f1_2s.append(f1)\n",
    "    "
   ]
  },
  {
   "cell_type": "code",
   "execution_count": 92,
   "id": "e3262279-af24-4dbd-9b30-ecd9c3d73071",
   "metadata": {},
   "outputs": [
    {
     "data": {
      "text/plain": [
       "Text(0, 0.5, 'Max_F1 Score')"
      ]
     },
     "execution_count": 92,
     "metadata": {},
     "output_type": "execute_result"
    },
    {
     "data": {
      "image/png": "[encoded data removed]",
      "text/plain": [
       "<Figure size 640x480 with 1 Axes>"
      ]
     },
     "metadata": {},
     "output_type": "display_data"
    },
    {
     "data": {
      "image/png": "[encoded data removed]",
      "text/plain": [
       "<Figure size 640x480 with 1 Axes>"
      ]
     },
     "metadata": {},
     "output_type": "display_data"
    }
   ],
   "source": [
    "plt.plot(f1_2s[2])\n",
    "plt.figure()\n",
    "plt.plot([17,20,23,26,29,31],np.max(f1_2s,axis=1))\n",
    "plt.ylim(0.1,0.40)\n",
    "plt.title('F1 score vs Batch size (2 hidden units)')\n",
    "plt.xlabel('Batch_size')\n",
    "plt.ylabel('Max_F1 Score')"
   ]
  },
  {
   "cell_type": "code",
   "execution_count": 100,
   "id": "e098a141-c7da-41f8-a202-d81ab032e5fb",
   "metadata": {},
   "outputs": [
    {
     "data": {
      "text/plain": [
       "<matplotlib.legend.Legend at 0x186b17b7e50>"
      ]
     },
     "execution_count": 100,
     "metadata": {},
     "output_type": "execute_result"
    },
    {
     "data": {
      "image/png": "[encoded data removed]",
      "text/plain": [
       "<Figure size 640x480 with 1 Axes>"
      ]
     },
     "metadata": {},
     "output_type": "display_data"
    }
   ],
   "source": [
    "plt.plot([17,20,23,26,29,31],np.max(f1_2s,axis=1), marker='x', label='1 hidden unit')\n",
    "plt.plot([12,15,17,20,23,26,29,31],np.max(f1s,axis=1), marker='*' , label='2 hidden units')\n",
    "plt.ylim(0,0.35)\n",
    "plt.title('F1 Score vs Batch size')\n",
    "plt.ylabel('F1 Score')\n",
    "plt.xlabel('Batch Size')\n",
    "plt.legend()"
   ]
  },
  {
   "cell_type": "code",
   "execution_count": null,
   "id": "14713bac-0b90-4f97-9a17-b0e67db6159d",
   "metadata": {},
   "outputs": [],
   "source": []
  }
 ],
 "metadata": {
  "kernelspec": {
   "display_name": "Python 3 (ipykernel)",
   "language": "python",
   "name": "python3"
  },
  "language_info": {
   "codemirror_mode": {
    "name": "ipython",
    "version": 3
   },
   "file_extension": ".py",
   "mimetype": "text/x-python",
   "name": "python",
   "nbconvert_exporter": "python",
   "pygments_lexer": "ipython3",
   "version": "3.11.0"
  }
 },
 "nbformat": 4,
 "nbformat_minor": 5
}
