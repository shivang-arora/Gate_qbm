{
 "cells": [
  {
   "cell_type": "code",
   "execution_count": 1,
   "metadata": {},
   "outputs": [],
   "source": [
    "import scipy.linalg as spl\n",
    "\n",
    "from pennylane import numpy as np\n",
    "\n",
    "from qbmqsp.rel_ent import relative_entropy\n",
    "from gen_data import basis_encoding, gen_boltzmann_dist"
   ]
  },
  {
   "cell_type": "code",
   "execution_count": 2,
   "metadata": {},
   "outputs": [],
   "source": [
    "def loss_func(ρ_data: np.ndarray[float], ρ_model: np.ndarray[float], pure: bool = False) -> float:\n",
    "    if pure:\n",
    "        return - np.trace(ρ_data @ spl.logm(ρ_model))\n",
    "    return np.trace(ρ_data @  spl.logm(ρ_data)) - np.trace(ρ_data @ spl.logm(ρ_model))"
   ]
  },
  {
   "cell_type": "code",
   "execution_count": 3,
   "metadata": {},
   "outputs": [],
   "source": [
    "n_qubits = 3\n",
    "β = 1.0\n",
    "f_boltzmann = gen_boltzmann_dist(n_qubits, β)\n",
    "ρ_data = basis_encoding(f_boltzmann)\n",
    "\n",
    "H = np.random.uniform(-1, 1, (2**n_qubits, 2**n_qubits)) + 1.j * np.random.uniform(-1, 1, (2**n_qubits, 2**n_qubits))\n",
    "H = H + H.conj().T\n",
    "expH = spl.expm(-β*H)\n",
    "ρ = expH / np.trace(expH)\n",
    "del expH"
   ]
  },
  {
   "cell_type": "code",
   "execution_count": 4,
   "metadata": {},
   "outputs": [
    {
     "data": {
      "text/plain": [
       "tensor(3.92133284, requires_grad=True)"
      ]
     },
     "execution_count": 4,
     "metadata": {},
     "output_type": "execute_result"
    }
   ],
   "source": [
    "relative_entropy(ρ_data, ρ, check_state=True)"
   ]
  },
  {
   "cell_type": "code",
   "execution_count": 5,
   "metadata": {},
   "outputs": [
    {
     "data": {
      "text/plain": [
       "(3.9213328441027873-3.3306690738754696e-15j)"
      ]
     },
     "execution_count": 5,
     "metadata": {},
     "output_type": "execute_result"
    }
   ],
   "source": [
    "loss_func(ρ_data, ρ, pure=True)"
   ]
  },
  {
   "cell_type": "code",
   "execution_count": 6,
   "metadata": {},
   "outputs": [
    {
     "name": "stderr",
     "output_type": "stream",
     "text": [
      "/Users/danielortmann/miniconda3/envs/qbmqsp/lib/python3.11/site-packages/pennylane/numpy/tensor.py:155: RuntimeWarning: divide by zero encountered in log\n",
      "  res = super().__array_ufunc__(ufunc, method, *args, **kwargs)\n"
     ]
    },
    {
     "data": {
      "text/plain": [
       "tensor(inf, requires_grad=True)"
      ]
     },
     "execution_count": 6,
     "metadata": {},
     "output_type": "execute_result"
    }
   ],
   "source": [
    "# Should be inf, if ρ_data is pure\n",
    "relative_entropy(ρ, ρ_data, check_state=True)"
   ]
  },
  {
   "cell_type": "code",
   "execution_count": 7,
   "metadata": {},
   "outputs": [
    {
     "name": "stderr",
     "output_type": "stream",
     "text": [
      "/Users/danielortmann/miniconda3/envs/qbmqsp/lib/python3.11/site-packages/scipy/linalg/_matfuncs.py:203: LogmExactlySingularWarning: The logm input matrix is exactly singular.\n",
      "  F = scipy.linalg._matfuncs_inv_ssq._logm(A)\n"
     ]
    },
    {
     "data": {
      "text/plain": [
       "(44.87759034958813+2.097535291708984j)"
      ]
     },
     "execution_count": 7,
     "metadata": {},
     "output_type": "execute_result"
    }
   ],
   "source": [
    "# Should be inf, if ρ_data is pure, but a naive implementation result in a different value due to numerical issues of log(0)\n",
    "loss_func(ρ, ρ_data, pure=False)"
   ]
  },
  {
   "cell_type": "code",
   "execution_count": null,
   "metadata": {},
   "outputs": [],
   "source": []
  }
 ],
 "metadata": {
  "kernelspec": {
   "display_name": "qbmqsp",
   "language": "python",
   "name": "python3"
  },
  "language_info": {
   "codemirror_mode": {
    "name": "ipython",
    "version": 3
   },
   "file_extension": ".py",
   "mimetype": "text/x-python",
   "name": "python",
   "nbconvert_exporter": "python",
   "pygments_lexer": "ipython3",
   "version": "3.11.0"
  }
 },
 "nbformat": 4,
 "nbformat_minor": 2
}
