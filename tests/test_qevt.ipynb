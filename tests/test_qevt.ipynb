{
 "cells": [
  {
   "cell_type": "code",
   "execution_count": 1,
   "metadata": {},
   "outputs": [],
   "source": [
    "import scipy.linalg as spl\n",
    "\n",
    "import pennylane as qml\n",
    "from pennylane import numpy as np\n",
    "\n",
    "from qbmqsp.hamiltonian import Hamiltonian\n",
    "from qbmqsp.qsp_phase_engine import QSPPhaseEngine\n",
    "from qbmqsp.qevt import QEVT"
   ]
  },
  {
   "cell_type": "code",
   "execution_count": 2,
   "metadata": {},
   "outputs": [],
   "source": [
    "def test_qevt(encoding):\n",
    "    h = [\"ZZII\", \"IZZI\", \"IIZZ\", \"ZIIZ\",\n",
    "         \"XIII\", \"IXII\", \"IIXI\", \"IIIX\",\n",
    "         \"YIII\", \"IYII\", \"IIYI\", \"IIIY\"]\n",
    "\n",
    "    n_params = len(h)\n",
    "    n_qubits = len(h[0])\n",
    "    np.random.seed(seed=1)\n",
    "    θ = np.random.random(n_params) / n_params\n",
    "\n",
    "    (β, δ, θ_norm) = 1, 0.3, np.linalg.norm(θ, ord=1)\n",
    "    τ = β * θ_norm / (1-δ)\n",
    "    qsp_phase_engine = QSPPhaseEngine(δ, polydeg=100.0)\n",
    "    φ = qsp_phase_engine.generate(τ)\n",
    "    del qsp_phase_engine\n",
    "\n",
    "    h_δ = h + [n_qubits * 'I']\n",
    "    θ_δ = np.append(θ * (1-δ)/(2*θ_norm), (1+δ)/2)\n",
    "\n",
    "    qevt = QEVT(h_δ, θ_δ, encoding, φ)\n",
    "    n_aux, n_enc, n_sys = qevt.n_qubits({'aux'}), qevt.n_qubits({'enc'}), qevt.n_qubits({'sys'})\n",
    "    wires = list(range(n_aux + n_enc + n_sys))\n",
    "    aux_wire = wires[: n_aux]\n",
    "    enc_wires = wires[n_aux : n_aux+n_enc]\n",
    "    sys_wires = wires[n_aux+n_enc : n_aux+n_enc+n_sys]\n",
    "    \n",
    "    dev = qml.device('default.qubit', wires=n_aux+n_enc+n_sys)\n",
    "    @qml.qnode(dev)\n",
    "    def qevt_circuit():\n",
    "        qevt.circuit(aux_wire, enc_wires, sys_wires)\n",
    "        return qml.state()\n",
    "    out = qevt_circuit().reshape(2**(n_aux+n_enc), 2**n_sys)[0, :] # = (<00| x I) QEVT |000>\n",
    "    # out /= np.linalg.norm(out) #normalized\n",
    "\n",
    "    H = Hamiltonian(h, θ)\n",
    "    ideal = spl.expm(-β/2*H.assemble())[:, 0] * spl.expm(-β*θ_norm*(1+δ)/(1-δ)/2) #/ np.sqrt(expm(-β*H)[0, 0]) #normalized\n",
    "    \n",
    "    error = np.sum(np.abs(out - ideal))\n",
    "    return error"
   ]
  },
  {
   "cell_type": "code",
   "execution_count": 3,
   "metadata": {},
   "outputs": [
    {
     "name": "stdout",
     "output_type": "stream",
     "text": [
      "\n",
      "Starting MATLAB engine.. Done.\n",
      "\n",
      "\n",
      "Stopping MATLAB engine ... Done.\n",
      "\n"
     ]
    },
    {
     "data": {
      "text/plain": [
       "tensor(0.00084171, requires_grad=True)"
      ]
     },
     "execution_count": 3,
     "metadata": {},
     "output_type": "execute_result"
    }
   ],
   "source": [
    "test_qevt('general')"
   ]
  },
  {
   "cell_type": "code",
   "execution_count": 4,
   "metadata": {},
   "outputs": [
    {
     "name": "stdout",
     "output_type": "stream",
     "text": [
      "\n",
      "Starting MATLAB engine.. Done.\n",
      "\n",
      "\n",
      "Stopping MATLAB engine ... Done.\n",
      "\n"
     ]
    },
    {
     "data": {
      "text/plain": [
       "tensor(0.00084171, requires_grad=True)"
      ]
     },
     "execution_count": 4,
     "metadata": {},
     "output_type": "execute_result"
    }
   ],
   "source": [
    "test_qevt('lcu')"
   ]
  },
  {
   "cell_type": "code",
   "execution_count": null,
   "metadata": {},
   "outputs": [],
   "source": []
  }
 ],
 "metadata": {
  "kernelspec": {
   "display_name": "qbmqsp",
   "language": "python",
   "name": "python3"
  },
  "language_info": {
   "codemirror_mode": {
    "name": "ipython",
    "version": 3
   },
   "file_extension": ".py",
   "mimetype": "text/x-python",
   "name": "python",
   "nbconvert_exporter": "python",
   "pygments_lexer": "ipython3",
   "version": "3.11.0"
  }
 },
 "nbformat": 4,
 "nbformat_minor": 2
}
